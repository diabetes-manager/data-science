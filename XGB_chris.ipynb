{
 "cells": [
  {
   "cell_type": "code",
   "execution_count": 1,
   "metadata": {},
   "outputs": [],
   "source": [
    "import numpy as np\n",
    "import pandas as pd\n",
    "import pickle\n",
    "from datetime import datetime\n",
    "import matplotlib.pyplot as plt\n",
    "from matplotlib.figure import Figure\n",
    "\n",
    "\n",
    "from sklearn.model_selection import GridSearchCV\n",
    "from sklearn.metrics import (\n",
    "    mean_absolute_error, mean_squared_error\n",
    ")\n",
    "from xgboost import XGBRegressor\n",
    "\n",
    "pd.options.display.max_columns = None\n",
    "\n",
    "from scripts.data_processing import (\n",
    "    load_uci, load_tidepool_dummy, \n",
    "    load_so_pump, \n",
    "    load_so_cgm\n",
    ")"
   ]
  },
  {
   "cell_type": "code",
   "execution_count": 67,
   "metadata": {},
   "outputs": [],
   "source": [
    "def split_train_validate(df, minutes=30, test_fraction=0.2):\n",
    "    test_size = int(df.shape[0] * test_fraction)\n",
    "    df_train = df.iloc[0:-test_size]\n",
    "    df_val   = df.iloc[-test_size:]\n",
    "    print(f'train size: {len(df_train)}')\n",
    "    print(f'test size: {len(df_val)}')\n",
    "    \n",
    "    target_name = str(minutes) + '_minutes'\n",
    "    X_train  = df_train.drop(columns=[target_name])\n",
    "    y_train  = df_train[target_name]\n",
    "    \n",
    "    X_val    = df_val.drop(columns=[target_name])\n",
    "    y_val    = df_val[target_name]\n",
    "    \n",
    "    return X_train, X_val, y_train, y_val\n",
    "\n",
    "\n",
    "def preprocess(df, minutes=30, n_historical_cols=2):\n",
    "    # convert datetime to int\n",
    "    df['timestamp'] = df['timestamp'].astype(np.int64) // 10**9\n",
    "\n",
    "    for x in range(1, n_historical_cols+1):\n",
    "        df[['prev_meas', 'prev_time']] = df[['measurement', 'timestamp']].shift(x)\n",
    "        df[f'prev_trend_{x}'] = (\n",
    "            df['prev_meas'].divide(df['timestamp'] - df['prev_time']))\n",
    "        df = df.drop(columns=['prev_meas', 'prev_time'])\n",
    "\n",
    "    # get 30 minute future value\n",
    "    df = append_future_value_col(df, minutes)\n",
    "\n",
    "    # remove nans\n",
    "    og_len = len(df)\n",
    "    df = df.loc[\n",
    "        ~df[f'{minutes}_minutes'].isna() & \n",
    "        ~df[f'prev_trend_{n_historical_cols}'].isna()\n",
    "    ]\n",
    "    n_dropped = og_len - len(df)\n",
    "    assert n_dropped < (10 + n_historical_cols)\n",
    "\n",
    "    return df\n",
    "\n",
    "\n",
    "def append_future_value_col(df, minutes):\n",
    "    \"\"\"Append target column of machine learning model\"\"\"\n",
    "    seconds = minutes * 60\n",
    "    \n",
    "    df[f'{minutes}_minutes'] = np.interp(\n",
    "        df['timestamp'].add(seconds), df['timestamp'],\n",
    "        df['measurement']\n",
    "    )\n",
    "    \n",
    "    max_valid_time = df['timestamp'].max() - seconds\n",
    "    df.loc[df['timestamp'] > max_valid_time, f'{minutes}_minutes'] = np.nan\n",
    "\n",
    "    return df"
   ]
  },
  {
   "cell_type": "markdown",
   "metadata": {},
   "source": [
    "### Compute baseline MSE"
   ]
  },
  {
   "cell_type": "code",
   "execution_count": 68,
   "metadata": {
    "scrolled": true
   },
   "outputs": [
    {
     "data": {
      "text/plain": [
       "24.163959803427336"
      ]
     },
     "execution_count": 68,
     "metadata": {},
     "output_type": "execute_result"
    }
   ],
   "source": [
    "def baseline_rmse(df, minutes=30):\n",
    "    # if we predict the same value as the current value\n",
    "    df = load_so_cgm()\n",
    "    df = preprocess(df, minutes)\n",
    "    \n",
    "    mse = sum((df[f'{minutes}_minutes'] - \n",
    "               df['measurement']).pow(2)) / len(df)\n",
    "    \n",
    "    return np.sqrt(mse)\n",
    "\n",
    "\n",
    "baseline_rmse(df=load_so_cgm(), minutes=30)"
   ]
  },
  {
   "cell_type": "markdown",
   "metadata": {},
   "source": [
    "### Build Model"
   ]
  },
  {
   "cell_type": "code",
   "execution_count": 69,
   "metadata": {
    "scrolled": true
   },
   "outputs": [],
   "source": [
    "df = load_so_cgm()\n",
    "df = df.iloc[-3:]\n",
    "df = preprocess(df, minutes=5)"
   ]
  },
  {
   "cell_type": "code",
   "execution_count": 70,
   "metadata": {},
   "outputs": [
    {
     "data": {
      "text/html": [
       "<div>\n",
       "<style scoped>\n",
       "    .dataframe tbody tr th:only-of-type {\n",
       "        vertical-align: middle;\n",
       "    }\n",
       "\n",
       "    .dataframe tbody tr th {\n",
       "        vertical-align: top;\n",
       "    }\n",
       "\n",
       "    .dataframe thead th {\n",
       "        text-align: right;\n",
       "    }\n",
       "</style>\n",
       "<table border=\"1\" class=\"dataframe\">\n",
       "  <thead>\n",
       "    <tr style=\"text-align: right;\">\n",
       "      <th></th>\n",
       "      <th>timestamp</th>\n",
       "      <th>measurement</th>\n",
       "      <th>below_threshold</th>\n",
       "      <th>prev_trend_1</th>\n",
       "      <th>prev_trend_2</th>\n",
       "      <th>5_minutes</th>\n",
       "    </tr>\n",
       "  </thead>\n",
       "  <tbody>\n",
       "  </tbody>\n",
       "</table>\n",
       "</div>"
      ],
      "text/plain": [
       "Empty DataFrame\n",
       "Columns: [timestamp, measurement, below_threshold, prev_trend_1, prev_trend_2, 5_minutes]\n",
       "Index: []"
      ]
     },
     "execution_count": 70,
     "metadata": {},
     "output_type": "execute_result"
    }
   ],
   "source": [
    "df.head()"
   ]
  },
  {
   "cell_type": "code",
   "execution_count": 11,
   "metadata": {},
   "outputs": [],
   "source": [
    "# XGBRegressor(base_score=0.5, booster='gbtree', colsample_bylevel=1,\n",
    "#        colsample_bytree=1, gamma=0, importance_type='gain',\n",
    "#        learning_rate=0.06, max_delta_step=0, max_depth=2,\n",
    "#        min_child_weight=1, missing=None, n_estimators=60, n_jobs=1,\n",
    "#        nthread=None, objective='reg:linear', random_state=0, reg_alpha=0,\n",
    "#        reg_lambda=1, scale_pos_weight=1, seed=None, silent=True,\n",
    "#        subsample=1)\n",
    "# gave us +/- 18.66 mg/dL"
   ]
  },
  {
   "cell_type": "code",
   "execution_count": 12,
   "metadata": {},
   "outputs": [],
   "source": [
    "def build_model(df, minutes=30):\n",
    "    \n",
    "    df = preprocess(df, minutes)\n",
    "    \n",
    "    X_train, X_val, y_train, y_val = \\\n",
    "                split_train_validate( \\\n",
    "                    df.copy(), minutes=minutes)\n",
    "    \n",
    "    param_grid = {  \n",
    "        'learning_rate': [0.05, 0.06, 0.07, 0.08],\n",
    "        'n_estimators':  [40, 50, 60],\n",
    "        'max_depth': [2],\n",
    "    #     'subsample': [0.5, 0.75, 0.9],\n",
    "    #     'colsample_bytree': [0.1, 0.2, 0.3, 0.4],\n",
    "    #     'gamma': [0, 1, 2]\n",
    "    }\n",
    "\n",
    "    gridsearch = GridSearchCV(XGBRegressor(),\n",
    "                              param_grid=param_grid, \n",
    "                              # scoring='roc_auc', \n",
    "                              cv=3, n_jobs=-1,\n",
    "                              return_train_score=True, verbose=10)\n",
    "    gridsearch.fit(X_train, y_train)\n",
    "    print('best estimator:', gridsearch.best_estimator_)\n",
    "    print(gridsearch.cv_results_['mean_train_score'].mean(),\n",
    "          gridsearch.cv_results_['mean_test_score'].mean())\n",
    "    y_pred = gridsearch.predict(X_val)\n",
    "    print('mae:', mean_absolute_error(y_val, y_pred))\n",
    "    print('rmse:', np.sqrt(mean_squared_error(y_val, y_pred)))\n",
    "    return gridsearch"
   ]
  },
  {
   "cell_type": "markdown",
   "metadata": {},
   "source": [
    "## Write Models"
   ]
  },
  {
   "cell_type": "code",
   "execution_count": 13,
   "metadata": {
    "scrolled": true
   },
   "outputs": [
    {
     "name": "stdout",
     "output_type": "stream",
     "text": [
      "train size: 73642\n",
      "test size: 18410\n",
      "Fitting 3 folds for each of 12 candidates, totalling 36 fits\n"
     ]
    },
    {
     "name": "stderr",
     "output_type": "stream",
     "text": [
      "[Parallel(n_jobs=-1)]: Using backend LokyBackend with 4 concurrent workers.\n",
      "[Parallel(n_jobs=-1)]: Done   5 tasks      | elapsed:   13.9s\n",
      "[Parallel(n_jobs=-1)]: Done  10 tasks      | elapsed:   17.7s\n",
      "[Parallel(n_jobs=-1)]: Done  17 tasks      | elapsed:   23.1s\n",
      "[Parallel(n_jobs=-1)]: Done  24 tasks      | elapsed:   28.9s\n",
      "[Parallel(n_jobs=-1)]: Done  33 out of  36 | elapsed:   39.2s remaining:    3.5s\n",
      "[Parallel(n_jobs=-1)]: Done  36 out of  36 | elapsed:   42.3s finished\n",
      "C:\\Users\\City_Year\\Anaconda3\\lib\\site-packages\\xgboost\\core.py:587: FutureWarning: Series.base is deprecated and will be removed in a future version\n",
      "  if getattr(data, 'base', None) is not None and \\\n",
      "C:\\Users\\City_Year\\Anaconda3\\lib\\site-packages\\xgboost\\core.py:588: FutureWarning: Series.base is deprecated and will be removed in a future version\n",
      "  data.base is not None and isinstance(data, np.ndarray) \\\n"
     ]
    },
    {
     "name": "stdout",
     "output_type": "stream",
     "text": [
      "best estimator: XGBRegressor(base_score=0.5, booster='gbtree', colsample_bylevel=1,\n",
      "       colsample_bytree=1, gamma=0, importance_type='gain',\n",
      "       learning_rate=0.08, max_delta_step=0, max_depth=2,\n",
      "       min_child_weight=1, missing=None, n_estimators=60, n_jobs=1,\n",
      "       nthread=None, objective='reg:linear', random_state=0, reg_alpha=0,\n",
      "       reg_lambda=1, scale_pos_weight=1, seed=None, silent=True,\n",
      "       subsample=1)\n",
      "0.9490385130761517 0.9478190885651112\n",
      "mae: 4.228085369989107\n",
      "rmse: 6.143123083517548\n",
      "train size: 73641\n",
      "test size: 18410\n",
      "Fitting 3 folds for each of 12 candidates, totalling 36 fits\n"
     ]
    },
    {
     "name": "stderr",
     "output_type": "stream",
     "text": [
      "[Parallel(n_jobs=-1)]: Using backend LokyBackend with 4 concurrent workers.\n",
      "[Parallel(n_jobs=-1)]: Done   5 tasks      | elapsed:    6.1s\n",
      "[Parallel(n_jobs=-1)]: Done  10 tasks      | elapsed:   10.3s\n",
      "[Parallel(n_jobs=-1)]: Done  17 tasks      | elapsed:   17.4s\n",
      "[Parallel(n_jobs=-1)]: Done  24 tasks      | elapsed:   20.6s\n",
      "[Parallel(n_jobs=-1)]: Done  33 out of  36 | elapsed:   31.1s remaining:    2.7s\n",
      "[Parallel(n_jobs=-1)]: Done  36 out of  36 | elapsed:   34.0s finished\n",
      "C:\\Users\\City_Year\\Anaconda3\\lib\\site-packages\\xgboost\\core.py:587: FutureWarning: Series.base is deprecated and will be removed in a future version\n",
      "  if getattr(data, 'base', None) is not None and \\\n",
      "C:\\Users\\City_Year\\Anaconda3\\lib\\site-packages\\xgboost\\core.py:588: FutureWarning: Series.base is deprecated and will be removed in a future version\n",
      "  data.base is not None and isinstance(data, np.ndarray) \\\n"
     ]
    },
    {
     "name": "stdout",
     "output_type": "stream",
     "text": [
      "best estimator: XGBRegressor(base_score=0.5, booster='gbtree', colsample_bylevel=1,\n",
      "       colsample_bytree=1, gamma=0, importance_type='gain',\n",
      "       learning_rate=0.08, max_delta_step=0, max_depth=2,\n",
      "       min_child_weight=1, missing=None, n_estimators=60, n_jobs=1,\n",
      "       nthread=None, objective='reg:linear', random_state=0, reg_alpha=0,\n",
      "       reg_lambda=1, scale_pos_weight=1, seed=None, silent=True,\n",
      "       subsample=1)\n",
      "0.9225080308656327 0.920852488161431\n",
      "mae: 7.461622109912305\n",
      "rmse: 10.615471185116046\n",
      "train size: 73640\n",
      "test size: 18410\n",
      "Fitting 3 folds for each of 12 candidates, totalling 36 fits\n"
     ]
    },
    {
     "name": "stderr",
     "output_type": "stream",
     "text": [
      "[Parallel(n_jobs=-1)]: Using backend LokyBackend with 4 concurrent workers.\n",
      "[Parallel(n_jobs=-1)]: Done   5 tasks      | elapsed:    6.8s\n",
      "[Parallel(n_jobs=-1)]: Done  10 tasks      | elapsed:    9.6s\n",
      "[Parallel(n_jobs=-1)]: Done  17 tasks      | elapsed:   15.2s\n",
      "[Parallel(n_jobs=-1)]: Done  24 tasks      | elapsed:   19.0s\n",
      "[Parallel(n_jobs=-1)]: Done  33 out of  36 | elapsed:   25.5s remaining:    2.2s\n",
      "[Parallel(n_jobs=-1)]: Done  36 out of  36 | elapsed:   27.3s finished\n",
      "C:\\Users\\City_Year\\Anaconda3\\lib\\site-packages\\xgboost\\core.py:587: FutureWarning: Series.base is deprecated and will be removed in a future version\n",
      "  if getattr(data, 'base', None) is not None and \\\n",
      "C:\\Users\\City_Year\\Anaconda3\\lib\\site-packages\\xgboost\\core.py:588: FutureWarning: Series.base is deprecated and will be removed in a future version\n",
      "  data.base is not None and isinstance(data, np.ndarray) \\\n"
     ]
    },
    {
     "name": "stdout",
     "output_type": "stream",
     "text": [
      "best estimator: XGBRegressor(base_score=0.5, booster='gbtree', colsample_bylevel=1,\n",
      "       colsample_bytree=1, gamma=0, importance_type='gain',\n",
      "       learning_rate=0.08, max_delta_step=0, max_depth=2,\n",
      "       min_child_weight=1, missing=None, n_estimators=60, n_jobs=1,\n",
      "       nthread=None, objective='reg:linear', random_state=0, reg_alpha=0,\n",
      "       reg_lambda=1, scale_pos_weight=1, seed=None, silent=True,\n",
      "       subsample=1)\n",
      "0.8858836688047259 0.8835337213842465\n",
      "mae: 10.474984659767975\n",
      "rmse: 14.684906891668948\n",
      "train size: 73640\n",
      "test size: 18409\n",
      "Fitting 3 folds for each of 12 candidates, totalling 36 fits\n"
     ]
    },
    {
     "name": "stderr",
     "output_type": "stream",
     "text": [
      "[Parallel(n_jobs=-1)]: Using backend LokyBackend with 4 concurrent workers.\n",
      "[Parallel(n_jobs=-1)]: Done   5 tasks      | elapsed:    6.1s\n",
      "[Parallel(n_jobs=-1)]: Done  10 tasks      | elapsed:    9.3s\n",
      "[Parallel(n_jobs=-1)]: Done  17 tasks      | elapsed:   16.1s\n",
      "[Parallel(n_jobs=-1)]: Done  24 tasks      | elapsed:   20.7s\n",
      "[Parallel(n_jobs=-1)]: Done  33 out of  36 | elapsed:   30.1s remaining:    2.6s\n",
      "[Parallel(n_jobs=-1)]: Done  36 out of  36 | elapsed:   33.2s finished\n",
      "C:\\Users\\City_Year\\Anaconda3\\lib\\site-packages\\xgboost\\core.py:587: FutureWarning: Series.base is deprecated and will be removed in a future version\n",
      "  if getattr(data, 'base', None) is not None and \\\n",
      "C:\\Users\\City_Year\\Anaconda3\\lib\\site-packages\\xgboost\\core.py:588: FutureWarning: Series.base is deprecated and will be removed in a future version\n",
      "  data.base is not None and isinstance(data, np.ndarray) \\\n"
     ]
    },
    {
     "name": "stdout",
     "output_type": "stream",
     "text": [
      "best estimator: XGBRegressor(base_score=0.5, booster='gbtree', colsample_bylevel=1,\n",
      "       colsample_bytree=1, gamma=0, importance_type='gain',\n",
      "       learning_rate=0.08, max_delta_step=0, max_depth=2,\n",
      "       min_child_weight=1, missing=None, n_estimators=60, n_jobs=1,\n",
      "       nthread=None, objective='reg:linear', random_state=0, reg_alpha=0,\n",
      "       reg_lambda=1, scale_pos_weight=1, seed=None, silent=True,\n",
      "       subsample=1)\n",
      "0.8413119142105278 0.8379979297362906\n",
      "mae: 13.256163305503462\n",
      "rmse: 18.39392679991073\n",
      "train size: 73639\n",
      "test size: 18409\n",
      "Fitting 3 folds for each of 12 candidates, totalling 36 fits\n"
     ]
    },
    {
     "name": "stderr",
     "output_type": "stream",
     "text": [
      "[Parallel(n_jobs=-1)]: Using backend LokyBackend with 4 concurrent workers.\n",
      "[Parallel(n_jobs=-1)]: Done   5 tasks      | elapsed:    7.9s\n",
      "[Parallel(n_jobs=-1)]: Done  10 tasks      | elapsed:   12.6s\n",
      "[Parallel(n_jobs=-1)]: Done  17 tasks      | elapsed:   19.9s\n",
      "[Parallel(n_jobs=-1)]: Done  24 tasks      | elapsed:   24.3s\n",
      "[Parallel(n_jobs=-1)]: Done  33 out of  36 | elapsed:   37.6s remaining:    3.3s\n",
      "[Parallel(n_jobs=-1)]: Done  36 out of  36 | elapsed:   39.9s finished\n",
      "C:\\Users\\City_Year\\Anaconda3\\lib\\site-packages\\xgboost\\core.py:587: FutureWarning: Series.base is deprecated and will be removed in a future version\n",
      "  if getattr(data, 'base', None) is not None and \\\n",
      "C:\\Users\\City_Year\\Anaconda3\\lib\\site-packages\\xgboost\\core.py:588: FutureWarning: Series.base is deprecated and will be removed in a future version\n",
      "  data.base is not None and isinstance(data, np.ndarray) \\\n"
     ]
    },
    {
     "name": "stdout",
     "output_type": "stream",
     "text": [
      "best estimator: XGBRegressor(base_score=0.5, booster='gbtree', colsample_bylevel=1,\n",
      "       colsample_bytree=1, gamma=0, importance_type='gain',\n",
      "       learning_rate=0.08, max_delta_step=0, max_depth=2,\n",
      "       min_child_weight=1, missing=None, n_estimators=60, n_jobs=1,\n",
      "       nthread=None, objective='reg:linear', random_state=0, reg_alpha=0,\n",
      "       reg_lambda=1, scale_pos_weight=1, seed=None, silent=True,\n",
      "       subsample=1)\n",
      "0.7909937760534955 0.7866234569099765\n",
      "mae: 15.877478192626167\n",
      "rmse: 21.81180195975936\n",
      "train size: 73638\n",
      "test size: 18409\n",
      "Fitting 3 folds for each of 12 candidates, totalling 36 fits\n"
     ]
    },
    {
     "name": "stderr",
     "output_type": "stream",
     "text": [
      "[Parallel(n_jobs=-1)]: Using backend LokyBackend with 4 concurrent workers.\n",
      "[Parallel(n_jobs=-1)]: Done   5 tasks      | elapsed:    8.3s\n",
      "[Parallel(n_jobs=-1)]: Done  10 tasks      | elapsed:   13.7s\n",
      "[Parallel(n_jobs=-1)]: Done  17 tasks      | elapsed:   21.0s\n",
      "[Parallel(n_jobs=-1)]: Done  24 tasks      | elapsed:   26.5s\n",
      "[Parallel(n_jobs=-1)]: Done  33 out of  36 | elapsed:   39.3s remaining:    3.5s\n",
      "[Parallel(n_jobs=-1)]: Done  36 out of  36 | elapsed:   41.2s finished\n",
      "C:\\Users\\City_Year\\Anaconda3\\lib\\site-packages\\xgboost\\core.py:587: FutureWarning: Series.base is deprecated and will be removed in a future version\n",
      "  if getattr(data, 'base', None) is not None and \\\n",
      "C:\\Users\\City_Year\\Anaconda3\\lib\\site-packages\\xgboost\\core.py:588: FutureWarning: Series.base is deprecated and will be removed in a future version\n",
      "  data.base is not None and isinstance(data, np.ndarray) \\\n"
     ]
    },
    {
     "name": "stdout",
     "output_type": "stream",
     "text": [
      "best estimator: XGBRegressor(base_score=0.5, booster='gbtree', colsample_bylevel=1,\n",
      "       colsample_bytree=1, gamma=0, importance_type='gain',\n",
      "       learning_rate=0.08, max_delta_step=0, max_depth=2,\n",
      "       min_child_weight=1, missing=None, n_estimators=60, n_jobs=1,\n",
      "       nthread=None, objective='reg:linear', random_state=0, reg_alpha=0,\n",
      "       reg_lambda=1, scale_pos_weight=1, seed=None, silent=True,\n",
      "       subsample=1)\n",
      "0.7384300965655117 0.73283461656459\n",
      "mae: 18.265624696111246\n",
      "rmse: 24.886378430818066\n"
     ]
    }
   ],
   "source": [
    "df = load_so_cgm()\n",
    "models = []\n",
    "for minutes in range(5, 31, 5):\n",
    "    with open('diabetesmanager/ml_models/model_' + str(minutes) + '_minutes.pkl', 'wb') as f:\n",
    "        model = build_model(df.copy(), minutes)\n",
    "        models.append(model)\n",
    "        pickle.dump(model, f)"
   ]
  },
  {
   "cell_type": "markdown",
   "metadata": {},
   "source": [
    "## Read Models"
   ]
  },
  {
   "cell_type": "code",
   "execution_count": 46,
   "metadata": {},
   "outputs": [
    {
     "data": {
      "text/html": [
       "<div>\n",
       "<style scoped>\n",
       "    .dataframe tbody tr th:only-of-type {\n",
       "        vertical-align: middle;\n",
       "    }\n",
       "\n",
       "    .dataframe tbody tr th {\n",
       "        vertical-align: top;\n",
       "    }\n",
       "\n",
       "    .dataframe thead th {\n",
       "        text-align: right;\n",
       "    }\n",
       "</style>\n",
       "<table border=\"1\" class=\"dataframe\">\n",
       "  <thead>\n",
       "    <tr style=\"text-align: right;\">\n",
       "      <th></th>\n",
       "      <th>timestamp</th>\n",
       "      <th>measurement</th>\n",
       "      <th>below_threshold</th>\n",
       "      <th>prev_trend_1</th>\n",
       "      <th>prev_trend_2</th>\n",
       "    </tr>\n",
       "  </thead>\n",
       "  <tbody>\n",
       "    <tr>\n",
       "      <th>11</th>\n",
       "      <td>1524701556</td>\n",
       "      <td>86</td>\n",
       "      <td>False</td>\n",
       "      <td>0.277592</td>\n",
       "      <td>0.133333</td>\n",
       "    </tr>\n",
       "    <tr>\n",
       "      <th>12</th>\n",
       "      <td>1524701857</td>\n",
       "      <td>89</td>\n",
       "      <td>False</td>\n",
       "      <td>0.285714</td>\n",
       "      <td>0.138333</td>\n",
       "    </tr>\n",
       "    <tr>\n",
       "      <th>13</th>\n",
       "      <td>1524702157</td>\n",
       "      <td>93</td>\n",
       "      <td>False</td>\n",
       "      <td>0.296667</td>\n",
       "      <td>0.143095</td>\n",
       "    </tr>\n",
       "    <tr>\n",
       "      <th>14</th>\n",
       "      <td>1524702457</td>\n",
       "      <td>94</td>\n",
       "      <td>False</td>\n",
       "      <td>0.310000</td>\n",
       "      <td>0.148333</td>\n",
       "    </tr>\n",
       "    <tr>\n",
       "      <th>15</th>\n",
       "      <td>1524702756</td>\n",
       "      <td>95</td>\n",
       "      <td>False</td>\n",
       "      <td>0.314381</td>\n",
       "      <td>0.155259</td>\n",
       "    </tr>\n",
       "  </tbody>\n",
       "</table>\n",
       "</div>"
      ],
      "text/plain": [
       "     timestamp  measurement  below_threshold  prev_trend_1  prev_trend_2\n",
       "11  1524701556           86            False      0.277592      0.133333\n",
       "12  1524701857           89            False      0.285714      0.138333\n",
       "13  1524702157           93            False      0.296667      0.143095\n",
       "14  1524702457           94            False      0.310000      0.148333\n",
       "15  1524702756           95            False      0.314381      0.155259"
      ]
     },
     "execution_count": 46,
     "metadata": {},
     "output_type": "execute_result"
    }
   ],
   "source": [
    "df.head()"
   ]
  },
  {
   "cell_type": "code",
   "execution_count": 44,
   "metadata": {},
   "outputs": [],
   "source": [
    "from pathlib import Path\n",
    "\n",
    "MODEL_DIR = Path('diabetesmanager/ml_models')\n",
    "models = []\n",
    "for model_path in MODEL_DIR.iterdir():\n",
    "    if str(model_path).endswith('.pkl'):\n",
    "        with open(model_path, 'rb') as f:\n",
    "            models.append(pickle.load(f))"
   ]
  },
  {
   "cell_type": "code",
   "execution_count": 43,
   "metadata": {
    "scrolled": false
   },
   "outputs": [
    {
     "name": "stdout",
     "output_type": "stream",
     "text": [
      "5 minutes\n"
     ]
    },
    {
     "data": {
      "image/png": "[encoded data removed]",
      "text/plain": [
       "<Figure size 432x288 with 1 Axes>"
      ]
     },
     "metadata": {},
     "output_type": "display_data"
    },
    {
     "name": "stdout",
     "output_type": "stream",
     "text": [
      "10 minutes\n"
     ]
    },
    {
     "data": {
      "image/png": "[encoded data removed]",
      "text/plain": [
       "<Figure size 432x288 with 1 Axes>"
      ]
     },
     "metadata": {},
     "output_type": "display_data"
    },
    {
     "name": "stdout",
     "output_type": "stream",
     "text": [
      "15 minutes\n"
     ]
    },
    {
     "data": {
      "image/png": "[encoded data removed]",
      "text/plain": [
       "<Figure size 432x288 with 1 Axes>"
      ]
     },
     "metadata": {},
     "output_type": "display_data"
    },
    {
     "name": "stdout",
     "output_type": "stream",
     "text": [
      "20 minutes\n"
     ]
    },
    {
     "data": {
      "image/png": "[encoded data removed]",
      "text/plain": [
       "<Figure size 432x288 with 1 Axes>"
      ]
     },
     "metadata": {},
     "output_type": "display_data"
    },
    {
     "name": "stdout",
     "output_type": "stream",
     "text": [
      "25 minutes\n"
     ]
    },
    {
     "data": {
      "image/png": "[encoded data removed]",
      "text/plain": [
       "<Figure size 432x288 with 1 Axes>"
      ]
     },
     "metadata": {},
     "output_type": "display_data"
    },
    {
     "name": "stdout",
     "output_type": "stream",
     "text": [
      "30 minutes\n"
     ]
    },
    {
     "data": {
      "image/png": "[encoded data removed]",
      "text/plain": [
       "<Figure size 432x288 with 1 Axes>"
      ]
     },
     "metadata": {},
     "output_type": "display_data"
    }
   ],
   "source": [
    "df = load_so_cgm()\n",
    "df = preprocess(df, minutes=5)\n",
    "df = df[[col for col in df if '_minutes' not in col]]\n",
    "\n",
    "last_seconds = 30 * 60\n",
    "seconds_ago = df['timestamp'].max() - last_seconds\n",
    "for i, model in enumerate(models):\n",
    "    print((i+1)*5, 'minutes')\n",
    "    y_pred = model.predict(df.loc[df['timestamp'] >= seconds_ago])\n",
    "    \n",
    "    # actual\n",
    "    plt.plot(df.loc[df['timestamp'] >= seconds_ago, 'timestamp'], \n",
    "             df.loc[df['timestamp'] >= seconds_ago, 'measurement'], color='b')\n",
    "    \n",
    "    # prediction\n",
    "    plt.plot(df.loc[df['timestamp'] >= seconds_ago,  'timestamp'] + (i+1)*5*60, \n",
    "             y_pred, color='g')\n",
    "    plt.show()"
   ]
  },
  {
   "cell_type": "code",
   "execution_count": 43,
   "metadata": {
    "scrolled": true
   },
   "outputs": [
    {
     "data": {
      "text/plain": [
       "6796    1549481226\n",
       "6797    1549481525\n",
       "6798    1549481825\n",
       "6799    1549482126\n",
       "6800    1549482426\n",
       "6801    1549482726\n",
       "6802    1549483026\n",
       "6803    1549483325\n",
       "6804    1549483626\n",
       "6805    1549483925\n",
       "Name: timestamp, dtype: int64"
      ]
     },
     "execution_count": 43,
     "metadata": {},
     "output_type": "execute_result"
    }
   ],
   "source": [
    "X_val.iloc[:10, 0]"
   ]
  },
  {
   "cell_type": "code",
   "execution_count": null,
   "metadata": {},
   "outputs": [],
   "source": []
  },
  {
   "cell_type": "code",
   "execution_count": null,
   "metadata": {},
   "outputs": [],
   "source": [
    "def make_prediction(model, minutes=30):\n",
    "    # pull in user data\n",
    "    df = load_so_cgm()\n",
    "    # process\n",
    "    df = preprocess(df)\n",
    "    df = df.drop(columns=[f'{minutes}_minutes'])\n",
    "    # predict\n",
    "    predictions = model.predict(df)\n",
    "    \n",
    "    df = df[['timestamp']].assign(predicted_value = list(predictions))\n",
    "    df['timestamp'] = df['timestamp'] + 60 * minutes\n",
    "    \n",
    "    # TODO: make JSON or write to DB\n",
    "    return df"
   ]
  },
  {
   "cell_type": "code",
   "execution_count": null,
   "metadata": {},
   "outputs": [],
   "source": [
    "make_prediction(gridsearch)"
   ]
  },
  {
   "cell_type": "markdown",
   "metadata": {},
   "source": [
    "### Write out model"
   ]
  },
  {
   "cell_type": "code",
   "execution_count": null,
   "metadata": {
    "scrolled": true
   },
   "outputs": [],
   "source": [
    "with open('diabetesmanager/model.pkl', 'wb') as f:\n",
    "    pickle.dump(gridsearch, f)"
   ]
  },
  {
   "cell_type": "markdown",
   "metadata": {},
   "source": [
    "### Load model"
   ]
  },
  {
   "cell_type": "code",
   "execution_count": null,
   "metadata": {},
   "outputs": [],
   "source": [
    "with open('diabetesmanager/model.pkl', 'rb') as f:\n",
    "    gridsearch = pickle.load(f)"
   ]
  }
 ],
 "metadata": {
  "kernelspec": {
   "display_name": "Python 3",
   "language": "python",
   "name": "python3"
  },
  "language_info": {
   "codemirror_mode": {
    "name": "ipython",
    "version": 3
   },
   "file_extension": ".py",
   "mimetype": "text/x-python",
   "name": "python",
   "nbconvert_exporter": "python",
   "pygments_lexer": "ipython3",
   "version": "3.6.4"
  }
 },
 "nbformat": 4,
 "nbformat_minor": 2
}
