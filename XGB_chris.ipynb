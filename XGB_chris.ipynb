{
 "cells": [
  {
   "cell_type": "code",
   "execution_count": 28,
   "metadata": {},
   "outputs": [],
   "source": [
    "import numpy as np\n",
    "import pandas as pd\n",
    "import pickle\n",
    "from datetime import datetime\n",
    "import matplotlib.pyplot as plt\n",
    "from matplotlib.figure import Figure\n",
    "\n",
    "\n",
    "from sklearn.model_selection import GridSearchCV\n",
    "from sklearn.metrics import (\n",
    "    mean_absolute_error, mean_squared_error\n",
    ")\n",
    "from xgboost import XGBRegressor\n",
    "\n",
    "pd.options.display.max_columns = None\n",
    "\n",
    "from scripts.data_processing import (\n",
    "    load_uci, load_tidepool_dummy, \n",
    "    load_so_pump, \n",
    "    load_so_cgm\n",
    ")"
   ]
  },
  {
   "cell_type": "code",
   "execution_count": 7,
   "metadata": {},
   "outputs": [],
   "source": [
    "def split_train_validate(df, minutes=30, test_fraction=0.2):\n",
    "    test_size = int(df.shape[0] * test_fraction)\n",
    "    df_train = df.iloc[0:-test_size]\n",
    "    df_val   = df.iloc[-test_size:]\n",
    "    print(f'train size: {len(df_train)}')\n",
    "    print(f'test size: {len(df_val)}')\n",
    "    \n",
    "    target_name = str(minutes) + '_minutes'\n",
    "    X_train  = df_train.drop(columns=[target_name])\n",
    "    y_train  = df_train[target_name]\n",
    "    \n",
    "    X_val    = df_val.drop(columns=[target_name])\n",
    "    y_val    = df_val[target_name]\n",
    "    \n",
    "    return X_train, X_val, y_train, y_val\n",
    "\n",
    "\n",
    "def preprocess(df, minutes=30, n_historical_cols=2):\n",
    "    # convert datetime to int\n",
    "    df['timestamp'] = df['timestamp'].astype(np.int64) // 10**9\n",
    "\n",
    "    for x in range(1, n_historical_cols+1):\n",
    "        df[['prev_meas', 'prev_time']] = df[['measurement', 'timestamp']].shift(x)\n",
    "        df[f'prev_trend_{x}'] = (\n",
    "            df['prev_meas'].divide(df['timestamp'] - df['prev_time']))\n",
    "        df = df.drop(columns=['prev_meas', 'prev_time'])\n",
    "\n",
    "    # get 30 minute future value\n",
    "    df = append_future_value_col(df, minutes)\n",
    "\n",
    "    # remove nans\n",
    "    og_len = len(df)\n",
    "    df = df.loc[~df[f'{minutes}_minutes'].isna() & \n",
    "                ~df[f'prev_trend_{n_historical_cols}'].isna()]\n",
    "    n_dropped = og_len - len(df)\n",
    "    assert n_dropped < (10 + n_historical_cols)\n",
    "\n",
    "    return df\n",
    "\n",
    "\n",
    "def append_future_value_col(df, minutes):\n",
    "    seconds = minutes * 60\n",
    "    \n",
    "    df[f'{minutes}_minutes'] = np.interp(\n",
    "        df['timestamp'].add(seconds), df['timestamp'],\n",
    "        df['measurement']\n",
    "    )\n",
    "    \n",
    "    max_valid_time = df['timestamp'].max() - seconds\n",
    "    df.loc[df['timestamp'] > max_valid_time, f'{minutes}_minutes'] = np.nan\n",
    "\n",
    "    return df"
   ]
  },
  {
   "cell_type": "markdown",
   "metadata": {},
   "source": [
    "### Compute baseline MSE"
   ]
  },
  {
   "cell_type": "code",
   "execution_count": 8,
   "metadata": {
    "scrolled": true
   },
   "outputs": [
    {
     "data": {
      "text/plain": [
       "24.176857912755537"
      ]
     },
     "execution_count": 8,
     "metadata": {},
     "output_type": "execute_result"
    }
   ],
   "source": [
    "def baseline_rmse(df, minutes=30):\n",
    "    # if we predict the same value as the current value\n",
    "    df = preprocess(df, minutes)\n",
    "    \n",
    "    mse = sum((df[f'{minutes}_minutes'] - \n",
    "               df['measurement']).pow(2)) / len(df)\n",
    "    \n",
    "    return np.sqrt(mse)\n",
    "\n",
    "\n",
    "baseline_rmse(df=load_so_cgm(), minutes=30)"
   ]
  },
  {
   "cell_type": "markdown",
   "metadata": {},
   "source": [
    "### Build Model"
   ]
  },
  {
   "cell_type": "code",
   "execution_count": 9,
   "metadata": {
    "scrolled": true
   },
   "outputs": [
    {
     "name": "stdout",
     "output_type": "stream",
     "text": [
      "train size: 73638\n",
      "test size: 18409\n"
     ]
    }
   ],
   "source": [
    "df = load_so_cgm()\n",
    "df = preprocess(df)"
   ]
  },
  {
   "cell_type": "code",
   "execution_count": null,
   "metadata": {},
   "outputs": [],
   "source": [
    "df.head()"
   ]
  },
  {
   "cell_type": "code",
   "execution_count": null,
   "metadata": {},
   "outputs": [],
   "source": [
    "# XGBRegressor(base_score=0.5, booster='gbtree', colsample_bylevel=1,\n",
    "#        colsample_bytree=1, gamma=0, importance_type='gain',\n",
    "#        learning_rate=0.06, max_delta_step=0, max_depth=2,\n",
    "#        min_child_weight=1, missing=None, n_estimators=60, n_jobs=1,\n",
    "#        nthread=None, objective='reg:linear', random_state=0, reg_alpha=0,\n",
    "#        reg_lambda=1, scale_pos_weight=1, seed=None, silent=True,\n",
    "#        subsample=1)\n",
    "# gave us +/- 18.66 mg/dL"
   ]
  },
  {
   "cell_type": "code",
   "execution_count": 14,
   "metadata": {},
   "outputs": [],
   "source": [
    "def build_model(df, minutes=30):\n",
    "    \n",
    "    df = preprocess(df, minutes)\n",
    "    \n",
    "    X_train, X_val, y_train, y_val = \\\n",
    "                split_train_validate( \\\n",
    "                    df.copy(), minutes=minutes)\n",
    "    \n",
    "    param_grid = {  \n",
    "        'learning_rate': [0.05, 0.06, 0.07, 0.08],\n",
    "        'n_estimators':  [40, 50, 60],\n",
    "        'max_depth': [2],\n",
    "    #     'subsample': [0.5, 0.75, 0.9],\n",
    "    #     'colsample_bytree': [0.1, 0.2, 0.3, 0.4],\n",
    "    #     'gamma': [0, 1, 2]\n",
    "    }\n",
    "\n",
    "    gridsearch = GridSearchCV(XGBRegressor(),\n",
    "                              param_grid=param_grid, \n",
    "                              # scoring='roc_auc', \n",
    "                              cv=3, n_jobs=-1,\n",
    "                              return_train_score=True, verbose=10)\n",
    "    gridsearch.fit(X_train, y_train)\n",
    "    print('best estimator:', gridsearch.best_estimator_)\n",
    "    print(gridsearch.cv_results_['mean_train_score'].mean(),\n",
    "          gridsearch.cv_results_['mean_test_score'].mean())\n",
    "    y_pred = gridsearch.predict(X_val)\n",
    "    print('mae:', mean_absolute_error(y_val, y_pred))\n",
    "    print('rmse:', np.sqrt(mean_squared_error(y_val, y_pred)))\n",
    "    return gridsearch"
   ]
  },
  {
   "cell_type": "code",
   "execution_count": 18,
   "metadata": {
    "scrolled": true
   },
   "outputs": [
    {
     "name": "stdout",
     "output_type": "stream",
     "text": [
      "train size: 73642\n",
      "test size: 18410\n",
      "Fitting 3 folds for each of 12 candidates, totalling 36 fits\n"
     ]
    },
    {
     "name": "stderr",
     "output_type": "stream",
     "text": [
      "[Parallel(n_jobs=-1)]: Using backend LokyBackend with 8 concurrent workers.\n",
      "[Parallel(n_jobs=-1)]: Done   2 tasks      | elapsed:    1.0s\n",
      "[Parallel(n_jobs=-1)]: Done   9 tasks      | elapsed:    2.0s\n",
      "[Parallel(n_jobs=-1)]: Done  16 tasks      | elapsed:    2.9s\n",
      "[Parallel(n_jobs=-1)]: Done  25 out of  36 | elapsed:    4.4s remaining:    2.0s\n",
      "[Parallel(n_jobs=-1)]: Done  29 out of  36 | elapsed:    4.7s remaining:    1.1s\n",
      "[Parallel(n_jobs=-1)]: Done  33 out of  36 | elapsed:    5.4s remaining:    0.5s\n",
      "[Parallel(n_jobs=-1)]: Done  36 out of  36 | elapsed:    5.6s finished\n",
      "/anaconda3/lib/python3.7/site-packages/xgboost/core.py:587: FutureWarning: Series.base is deprecated and will be removed in a future version\n",
      "  if getattr(data, 'base', None) is not None and \\\n",
      "/anaconda3/lib/python3.7/site-packages/xgboost/core.py:588: FutureWarning: Series.base is deprecated and will be removed in a future version\n",
      "  data.base is not None and isinstance(data, np.ndarray) \\\n"
     ]
    },
    {
     "name": "stdout",
     "output_type": "stream",
     "text": [
      "best estimator: XGBRegressor(base_score=0.5, booster='gbtree', colsample_bylevel=1,\n",
      "       colsample_bytree=1, gamma=0, importance_type='gain',\n",
      "       learning_rate=0.08, max_delta_step=0, max_depth=2,\n",
      "       min_child_weight=1, missing=None, n_estimators=60, n_jobs=1,\n",
      "       nthread=None, objective='reg:linear', random_state=0, reg_alpha=0,\n",
      "       reg_lambda=1, scale_pos_weight=1, seed=None, silent=True,\n",
      "       subsample=1)\n",
      "0.9489598515052449 0.9478224511167325\n",
      "mae: 4.22761340755219\n",
      "rmse: 6.140270865402551\n",
      "train size: 73641\n",
      "test size: 18410\n",
      "Fitting 3 folds for each of 12 candidates, totalling 36 fits\n"
     ]
    },
    {
     "name": "stderr",
     "output_type": "stream",
     "text": [
      "[Parallel(n_jobs=-1)]: Using backend LokyBackend with 8 concurrent workers.\n",
      "[Parallel(n_jobs=-1)]: Done   2 tasks      | elapsed:    1.0s\n",
      "[Parallel(n_jobs=-1)]: Done   9 tasks      | elapsed:    2.0s\n",
      "[Parallel(n_jobs=-1)]: Done  16 tasks      | elapsed:    3.0s\n",
      "[Parallel(n_jobs=-1)]: Done  25 out of  36 | elapsed:    4.4s remaining:    2.0s\n",
      "[Parallel(n_jobs=-1)]: Done  29 out of  36 | elapsed:    4.8s remaining:    1.2s\n",
      "[Parallel(n_jobs=-1)]: Done  33 out of  36 | elapsed:    5.4s remaining:    0.5s\n",
      "[Parallel(n_jobs=-1)]: Done  36 out of  36 | elapsed:    5.7s finished\n",
      "/anaconda3/lib/python3.7/site-packages/xgboost/core.py:587: FutureWarning: Series.base is deprecated and will be removed in a future version\n",
      "  if getattr(data, 'base', None) is not None and \\\n",
      "/anaconda3/lib/python3.7/site-packages/xgboost/core.py:588: FutureWarning: Series.base is deprecated and will be removed in a future version\n",
      "  data.base is not None and isinstance(data, np.ndarray) \\\n"
     ]
    },
    {
     "name": "stdout",
     "output_type": "stream",
     "text": [
      "best estimator: XGBRegressor(base_score=0.5, booster='gbtree', colsample_bylevel=1,\n",
      "       colsample_bytree=1, gamma=0, importance_type='gain',\n",
      "       learning_rate=0.08, max_delta_step=0, max_depth=2,\n",
      "       min_child_weight=1, missing=None, n_estimators=60, n_jobs=1,\n",
      "       nthread=None, objective='reg:linear', random_state=0, reg_alpha=0,\n",
      "       reg_lambda=1, scale_pos_weight=1, seed=None, silent=True,\n",
      "       subsample=1)\n",
      "0.9221721841481129 0.9205550940514463\n",
      "mae: 7.458788280880056\n",
      "rmse: 10.60937788965531\n",
      "train size: 73640\n",
      "test size: 18410\n",
      "Fitting 3 folds for each of 12 candidates, totalling 36 fits\n"
     ]
    },
    {
     "name": "stderr",
     "output_type": "stream",
     "text": [
      "[Parallel(n_jobs=-1)]: Using backend LokyBackend with 8 concurrent workers.\n",
      "[Parallel(n_jobs=-1)]: Done   2 tasks      | elapsed:    1.0s\n",
      "[Parallel(n_jobs=-1)]: Done   9 tasks      | elapsed:    1.9s\n",
      "[Parallel(n_jobs=-1)]: Done  16 tasks      | elapsed:    3.0s\n",
      "[Parallel(n_jobs=-1)]: Done  25 out of  36 | elapsed:    4.5s remaining:    2.0s\n",
      "[Parallel(n_jobs=-1)]: Done  29 out of  36 | elapsed:    4.7s remaining:    1.1s\n",
      "[Parallel(n_jobs=-1)]: Done  33 out of  36 | elapsed:    5.4s remaining:    0.5s\n",
      "[Parallel(n_jobs=-1)]: Done  36 out of  36 | elapsed:    5.6s finished\n",
      "/anaconda3/lib/python3.7/site-packages/xgboost/core.py:587: FutureWarning: Series.base is deprecated and will be removed in a future version\n",
      "  if getattr(data, 'base', None) is not None and \\\n",
      "/anaconda3/lib/python3.7/site-packages/xgboost/core.py:588: FutureWarning: Series.base is deprecated and will be removed in a future version\n",
      "  data.base is not None and isinstance(data, np.ndarray) \\\n"
     ]
    },
    {
     "name": "stdout",
     "output_type": "stream",
     "text": [
      "best estimator: XGBRegressor(base_score=0.5, booster='gbtree', colsample_bylevel=1,\n",
      "       colsample_bytree=1, gamma=0, importance_type='gain',\n",
      "       learning_rate=0.08, max_delta_step=0, max_depth=2,\n",
      "       min_child_weight=1, missing=None, n_estimators=60, n_jobs=1,\n",
      "       nthread=None, objective='reg:linear', random_state=0, reg_alpha=0,\n",
      "       reg_lambda=1, scale_pos_weight=1, seed=None, silent=True,\n",
      "       subsample=1)\n",
      "0.8855178236449032 0.8829619856641079\n",
      "mae: 10.479823463735586\n",
      "rmse: 14.691354738449414\n",
      "train size: 73640\n",
      "test size: 18409\n",
      "Fitting 3 folds for each of 12 candidates, totalling 36 fits\n"
     ]
    },
    {
     "name": "stderr",
     "output_type": "stream",
     "text": [
      "[Parallel(n_jobs=-1)]: Using backend LokyBackend with 8 concurrent workers.\n",
      "[Parallel(n_jobs=-1)]: Done   2 tasks      | elapsed:    1.0s\n",
      "[Parallel(n_jobs=-1)]: Done   9 tasks      | elapsed:    2.0s\n",
      "[Parallel(n_jobs=-1)]: Done  16 tasks      | elapsed:    3.1s\n",
      "[Parallel(n_jobs=-1)]: Done  25 out of  36 | elapsed:    4.5s remaining:    2.0s\n",
      "[Parallel(n_jobs=-1)]: Done  29 out of  36 | elapsed:    4.8s remaining:    1.2s\n",
      "[Parallel(n_jobs=-1)]: Done  33 out of  36 | elapsed:    5.4s remaining:    0.5s\n",
      "[Parallel(n_jobs=-1)]: Done  36 out of  36 | elapsed:    5.7s finished\n",
      "/anaconda3/lib/python3.7/site-packages/xgboost/core.py:587: FutureWarning: Series.base is deprecated and will be removed in a future version\n",
      "  if getattr(data, 'base', None) is not None and \\\n",
      "/anaconda3/lib/python3.7/site-packages/xgboost/core.py:588: FutureWarning: Series.base is deprecated and will be removed in a future version\n",
      "  data.base is not None and isinstance(data, np.ndarray) \\\n"
     ]
    },
    {
     "name": "stdout",
     "output_type": "stream",
     "text": [
      "best estimator: XGBRegressor(base_score=0.5, booster='gbtree', colsample_bylevel=1,\n",
      "       colsample_bytree=1, gamma=0, importance_type='gain',\n",
      "       learning_rate=0.08, max_delta_step=0, max_depth=2,\n",
      "       min_child_weight=1, missing=None, n_estimators=60, n_jobs=1,\n",
      "       nthread=None, objective='reg:linear', random_state=0, reg_alpha=0,\n",
      "       reg_lambda=1, scale_pos_weight=1, seed=None, silent=True,\n",
      "       subsample=1)\n",
      "0.8412502304434638 0.8379157424558651\n",
      "mae: 13.256854739028268\n",
      "rmse: 18.394962522488143\n",
      "train size: 73639\n",
      "test size: 18409\n",
      "Fitting 3 folds for each of 12 candidates, totalling 36 fits\n"
     ]
    },
    {
     "name": "stderr",
     "output_type": "stream",
     "text": [
      "[Parallel(n_jobs=-1)]: Using backend LokyBackend with 8 concurrent workers.\n",
      "[Parallel(n_jobs=-1)]: Done   2 tasks      | elapsed:    0.9s\n",
      "[Parallel(n_jobs=-1)]: Done   9 tasks      | elapsed:    2.0s\n",
      "[Parallel(n_jobs=-1)]: Done  16 tasks      | elapsed:    3.2s\n",
      "[Parallel(n_jobs=-1)]: Done  25 out of  36 | elapsed:    4.6s remaining:    2.0s\n",
      "[Parallel(n_jobs=-1)]: Done  29 out of  36 | elapsed:    4.9s remaining:    1.2s\n",
      "[Parallel(n_jobs=-1)]: Done  33 out of  36 | elapsed:    5.5s remaining:    0.5s\n",
      "[Parallel(n_jobs=-1)]: Done  36 out of  36 | elapsed:    5.7s finished\n",
      "/anaconda3/lib/python3.7/site-packages/xgboost/core.py:587: FutureWarning: Series.base is deprecated and will be removed in a future version\n",
      "  if getattr(data, 'base', None) is not None and \\\n",
      "/anaconda3/lib/python3.7/site-packages/xgboost/core.py:588: FutureWarning: Series.base is deprecated and will be removed in a future version\n",
      "  data.base is not None and isinstance(data, np.ndarray) \\\n"
     ]
    },
    {
     "name": "stdout",
     "output_type": "stream",
     "text": [
      "best estimator: XGBRegressor(base_score=0.5, booster='gbtree', colsample_bylevel=1,\n",
      "       colsample_bytree=1, gamma=0, importance_type='gain',\n",
      "       learning_rate=0.08, max_delta_step=0, max_depth=2,\n",
      "       min_child_weight=1, missing=None, n_estimators=60, n_jobs=1,\n",
      "       nthread=None, objective='reg:linear', random_state=0, reg_alpha=0,\n",
      "       reg_lambda=1, scale_pos_weight=1, seed=None, silent=True,\n",
      "       subsample=1)\n",
      "0.7908566763999851 0.7864303300804188\n",
      "mae: 15.88488122693306\n",
      "rmse: 21.816356729519534\n",
      "train size: 73638\n",
      "test size: 18409\n",
      "Fitting 3 folds for each of 12 candidates, totalling 36 fits\n"
     ]
    },
    {
     "name": "stderr",
     "output_type": "stream",
     "text": [
      "[Parallel(n_jobs=-1)]: Using backend LokyBackend with 8 concurrent workers.\n",
      "[Parallel(n_jobs=-1)]: Done   2 tasks      | elapsed:    1.0s\n",
      "[Parallel(n_jobs=-1)]: Done   9 tasks      | elapsed:    2.1s\n",
      "[Parallel(n_jobs=-1)]: Done  16 tasks      | elapsed:    3.1s\n",
      "[Parallel(n_jobs=-1)]: Done  25 out of  36 | elapsed:    4.6s remaining:    2.0s\n",
      "[Parallel(n_jobs=-1)]: Done  29 out of  36 | elapsed:    4.9s remaining:    1.2s\n",
      "[Parallel(n_jobs=-1)]: Done  33 out of  36 | elapsed:    5.6s remaining:    0.5s\n",
      "[Parallel(n_jobs=-1)]: Done  36 out of  36 | elapsed:    5.8s finished\n",
      "/anaconda3/lib/python3.7/site-packages/xgboost/core.py:587: FutureWarning: Series.base is deprecated and will be removed in a future version\n",
      "  if getattr(data, 'base', None) is not None and \\\n",
      "/anaconda3/lib/python3.7/site-packages/xgboost/core.py:588: FutureWarning: Series.base is deprecated and will be removed in a future version\n",
      "  data.base is not None and isinstance(data, np.ndarray) \\\n"
     ]
    },
    {
     "name": "stdout",
     "output_type": "stream",
     "text": [
      "best estimator: XGBRegressor(base_score=0.5, booster='gbtree', colsample_bylevel=1,\n",
      "       colsample_bytree=1, gamma=0, importance_type='gain',\n",
      "       learning_rate=0.08, max_delta_step=0, max_depth=2,\n",
      "       min_child_weight=1, missing=None, n_estimators=60, n_jobs=1,\n",
      "       nthread=None, objective='reg:linear', random_state=0, reg_alpha=0,\n",
      "       reg_lambda=1, scale_pos_weight=1, seed=None, silent=True,\n",
      "       subsample=1)\n",
      "0.738171058853458 0.7325217686555159\n",
      "mae: 18.251799651408216\n",
      "rmse: 24.853446767565373\n"
     ]
    }
   ],
   "source": [
    "df = load_so_cgm()\n",
    "models = []\n",
    "for minutes in range(5, 31, 5):\n",
    "    with open('diabetesmanager/model_' + str(minutes) + '_minutes.pkl', 'wb') as f:\n",
    "        model = build_model(df.copy(), minutes)\n",
    "        models.append(model)\n",
    "        pickle.dump(model, f)"
   ]
  },
  {
   "cell_type": "code",
   "execution_count": 21,
   "metadata": {},
   "outputs": [
    {
     "data": {
      "text/html": [
       "<div>\n",
       "<style scoped>\n",
       "    .dataframe tbody tr th:only-of-type {\n",
       "        vertical-align: middle;\n",
       "    }\n",
       "\n",
       "    .dataframe tbody tr th {\n",
       "        vertical-align: top;\n",
       "    }\n",
       "\n",
       "    .dataframe thead th {\n",
       "        text-align: right;\n",
       "    }\n",
       "</style>\n",
       "<table border=\"1\" class=\"dataframe\">\n",
       "  <thead>\n",
       "    <tr style=\"text-align: right;\">\n",
       "      <th></th>\n",
       "      <th>timestamp</th>\n",
       "      <th>measurement</th>\n",
       "      <th>below_threshold</th>\n",
       "      <th>prev_trend_1</th>\n",
       "      <th>prev_trend_2</th>\n",
       "    </tr>\n",
       "  </thead>\n",
       "  <tbody>\n",
       "    <tr>\n",
       "      <th>6796</th>\n",
       "      <td>1549481226</td>\n",
       "      <td>162</td>\n",
       "      <td>False</td>\n",
       "      <td>0.540000</td>\n",
       "      <td>0.270000</td>\n",
       "    </tr>\n",
       "    <tr>\n",
       "      <th>6797</th>\n",
       "      <td>1549481525</td>\n",
       "      <td>156</td>\n",
       "      <td>False</td>\n",
       "      <td>0.541806</td>\n",
       "      <td>0.270451</td>\n",
       "    </tr>\n",
       "    <tr>\n",
       "      <th>6798</th>\n",
       "      <td>1549481825</td>\n",
       "      <td>149</td>\n",
       "      <td>False</td>\n",
       "      <td>0.520000</td>\n",
       "      <td>0.270451</td>\n",
       "    </tr>\n",
       "    <tr>\n",
       "      <th>6799</th>\n",
       "      <td>1549482126</td>\n",
       "      <td>145</td>\n",
       "      <td>False</td>\n",
       "      <td>0.495017</td>\n",
       "      <td>0.259567</td>\n",
       "    </tr>\n",
       "    <tr>\n",
       "      <th>6800</th>\n",
       "      <td>1549482426</td>\n",
       "      <td>142</td>\n",
       "      <td>False</td>\n",
       "      <td>0.483333</td>\n",
       "      <td>0.247920</td>\n",
       "    </tr>\n",
       "  </tbody>\n",
       "</table>\n",
       "</div>"
      ],
      "text/plain": [
       "       timestamp  measurement  below_threshold  prev_trend_1  prev_trend_2\n",
       "6796  1549481226          162            False      0.540000      0.270000\n",
       "6797  1549481525          156            False      0.541806      0.270451\n",
       "6798  1549481825          149            False      0.520000      0.270451\n",
       "6799  1549482126          145            False      0.495017      0.259567\n",
       "6800  1549482426          142            False      0.483333      0.247920"
      ]
     },
     "execution_count": 21,
     "metadata": {},
     "output_type": "execute_result"
    }
   ],
   "source": [
    "X_val.head()"
   ]
  },
  {
   "cell_type": "code",
   "execution_count": 51,
   "metadata": {
    "scrolled": true
   },
   "outputs": [
    {
     "data": {
      "image/png": "[encoded data removed]",
      "text/plain": [
       "<Figure size 432x288 with 1 Axes>"
      ]
     },
     "metadata": {
      "needs_background": "light"
     },
     "output_type": "display_data"
    },
    {
     "data": {
      "image/png": "[encoded data removed]",
      "text/plain": [
       "<Figure size 432x288 with 1 Axes>"
      ]
     },
     "metadata": {
      "needs_background": "light"
     },
     "output_type": "display_data"
    },
    {
     "data": {
      "image/png": "[encoded data removed]",
      "text/plain": [
       "<Figure size 432x288 with 1 Axes>"
      ]
     },
     "metadata": {
      "needs_background": "light"
     },
     "output_type": "display_data"
    },
    {
     "data": {
      "image/png": "[encoded data removed]",
      "text/plain": [
       "<Figure size 432x288 with 1 Axes>"
      ]
     },
     "metadata": {
      "needs_background": "light"
     },
     "output_type": "display_data"
    },
    {
     "data": {
      "image/png": "[encoded data removed]",
      "text/plain": [
       "<Figure size 432x288 with 1 Axes>"
      ]
     },
     "metadata": {
      "needs_background": "light"
     },
     "output_type": "display_data"
    },
    {
     "data": {
      "image/png": "[encoded data removed]",
      "text/plain": [
       "<Figure size 432x288 with 1 Axes>"
      ]
     },
     "metadata": {
      "needs_background": "light"
     },
     "output_type": "display_data"
    }
   ],
   "source": [
    "num_values = 100\n",
    "for model in models:\n",
    "    y_pred = model.predict(X_val.iloc[:num_values, :])\n",
    "    fig = Figure()\n",
    "    plt.plot(X_val.iloc[:num_values, 0], \n",
    "             X_val.iloc[:num_values, 1], color='b')\n",
    "    plt.plot(X_val.iloc[:num_values, 0], y_pred, color='g')\n",
    "    plt.show()"
   ]
  },
  {
   "cell_type": "code",
   "execution_count": 43,
   "metadata": {
    "scrolled": true
   },
   "outputs": [
    {
     "data": {
      "text/plain": [
       "6796    1549481226\n",
       "6797    1549481525\n",
       "6798    1549481825\n",
       "6799    1549482126\n",
       "6800    1549482426\n",
       "6801    1549482726\n",
       "6802    1549483026\n",
       "6803    1549483325\n",
       "6804    1549483626\n",
       "6805    1549483925\n",
       "Name: timestamp, dtype: int64"
      ]
     },
     "execution_count": 43,
     "metadata": {},
     "output_type": "execute_result"
    }
   ],
   "source": [
    "X_val.iloc[:10, 0]"
   ]
  },
  {
   "cell_type": "code",
   "execution_count": null,
   "metadata": {},
   "outputs": [],
   "source": []
  },
  {
   "cell_type": "code",
   "execution_count": null,
   "metadata": {},
   "outputs": [],
   "source": [
    "def make_prediction(model, minutes=30):\n",
    "    # pull in user data\n",
    "    df = load_so_cgm()\n",
    "    # process\n",
    "    df = preprocess(df)\n",
    "    df = df.drop(columns=[f'{minutes}_minutes'])\n",
    "    # predict\n",
    "    predictions = model.predict(df)\n",
    "    \n",
    "    df = df[['timestamp']].assign(predicted_value = list(predictions))\n",
    "    df['timestamp'] = df['timestamp'] + 60 * minutes\n",
    "    \n",
    "    # TODO: make JSON or write to DB\n",
    "    return df"
   ]
  },
  {
   "cell_type": "code",
   "execution_count": null,
   "metadata": {},
   "outputs": [],
   "source": [
    "make_prediction(gridsearch)"
   ]
  },
  {
   "cell_type": "markdown",
   "metadata": {},
   "source": [
    "### Write out model"
   ]
  },
  {
   "cell_type": "code",
   "execution_count": null,
   "metadata": {
    "scrolled": true
   },
   "outputs": [],
   "source": [
    "with open('diabetesmanager/model.pkl', 'wb') as f:\n",
    "    pickle.dump(gridsearch, f)"
   ]
  },
  {
   "cell_type": "markdown",
   "metadata": {},
   "source": [
    "### Load model"
   ]
  },
  {
   "cell_type": "code",
   "execution_count": null,
   "metadata": {},
   "outputs": [],
   "source": [
    "with open('diabetesmanager/model.pkl', 'rb') as f:\n",
    "    gridsearch = pickle.load(f)"
   ]
  }
 ],
 "metadata": {
  "kernelspec": {
   "display_name": "Python 3",
   "language": "python",
   "name": "python3"
  },
  "language_info": {
   "codemirror_mode": {
    "name": "ipython",
    "version": 3
   },
   "file_extension": ".py",
   "mimetype": "text/x-python",
   "name": "python",
   "nbconvert_exporter": "python",
   "pygments_lexer": "ipython3",
   "version": "3.7.1"
  }
 },
 "nbformat": 4,
 "nbformat_minor": 2
}
