{
 "cells": [
  {
   "cell_type": "code",
   "execution_count": null,
   "metadata": {},
   "outputs": [],
   "source": [
    "import numpy as np\n",
    "import pandas as pd\n",
    "import pickle\n",
    "from datetime import datetime\n",
    "\n",
    "from sklearn.model_selection import GridSearchCV\n",
    "from sklearn.metrics import (\n",
    "    mean_absolute_error, mean_squared_error\n",
    ")\n",
    "from xgboost import XGBRegressor\n",
    "\n",
    "pd.options.display.max_columns = None\n",
    "\n",
    "from scripts.data_processing import (\n",
    "    load_uci, load_tidepool_dummy, \n",
    "    load_so_pump, \n",
    "    load_so_cgm\n",
    ")"
   ]
  },
  {
   "cell_type": "code",
   "execution_count": null,
   "metadata": {},
   "outputs": [],
   "source": [
    "def split_train_validate(df, minutes=30, test_fraction=0.2):\n",
    "    test_size = int(df.shape[0] * test_fraction)\n",
    "    df_train = df.iloc[0:-test_size]\n",
    "    df_val   = df.iloc[-test_size:]\n",
    "    print(f'train size: {len(df_train)}')\n",
    "    print(f'test size: {len(df_val)}')\n",
    "    \n",
    "    target_name = str(minutes) + '_minutes'\n",
    "    X_train  = df_train.drop(columns=[target_name])\n",
    "    y_train  = df_train[target_name]\n",
    "    \n",
    "    X_val    = df_val.drop(columns=[target_name])\n",
    "    y_val    = df_val[target_name]\n",
    "    \n",
    "    return X_train, X_val, y_train, y_val\n",
    "\n",
    "\n",
    "def type_check(df):\n",
    "    for col in ['timestamp', 'value', 'below_threshold']:\n",
    "        assert pd.api.types.is_numeric_dtype(df[col])\n",
    "    \n",
    "    return None\n",
    "\n",
    "\n",
    "def feature_engineer(df, minutes=30, n_historical_cols=2):\n",
    "    \"\"\"Adds most recent CGM rates as columns\"\"\"\n",
    "    type_check(df)\n",
    "    \n",
    "    for x in range(1, n_historical_cols+1):\n",
    "        df[['prev_val', 'prev_time']] = df[['value', 'timestamp']].shift(x)\n",
    "        df[f'prev_trend_{x}'] = (\n",
    "            df['prev_val'].divide(df['timestamp'] - df['prev_time']))\n",
    "        df = df.drop(columns=['prev_val', 'prev_time'])\n",
    "\n",
    "    # remove nans\n",
    "    og_len = len(df)\n",
    "    df = df.loc[~df[f'prev_trend_{n_historical_cols}'].isna()]\n",
    "    n_dropped = og_len - len(df)\n",
    "    assert n_dropped <= n_historical_cols\n",
    "\n",
    "    return df\n",
    "\n",
    "\n",
    "def append_future_target_col(df, minutes):\n",
    "    \"\"\"Append target column for machine learning model\"\"\"\n",
    "    seconds = minutes * 60\n",
    "    \n",
    "    df[f'{minutes}_minutes'] = np.interp(\n",
    "        df['timestamp'].add(seconds), df['timestamp'],\n",
    "        df['value']\n",
    "    )\n",
    "    \n",
    "    max_valid_time = df['timestamp'].max() - seconds\n",
    "    df.loc[df['timestamp'] > max_valid_time, f'{minutes}_minutes'] = np.nan\n",
    "    \n",
    "    # remove nans\n",
    "    og_len = len(df)\n",
    "    df = df.loc[~df[f'{minutes}_minutes'].isna()]\n",
    "    n_dropped = og_len - len(df)\n",
    "    assert n_dropped < 10\n",
    "    \n",
    "    return df\n",
    "\n",
    "\n",
    "def build_model(df, minutes=30):\n",
    "    df = feature_engineer(df.copy(), minutes)\n",
    "    df = append_future_target_col(df.copy(), minutes)\n",
    "    \n",
    "    X_train, X_val, y_train, y_val = \\\n",
    "        split_train_validate(df.copy(), minutes=minutes)\n",
    "    \n",
    "    param_grid = {  \n",
    "        'learning_rate': [0.05, 0.06, 0.07, 0.08],\n",
    "        'n_estimators':  [40, 50, 60],\n",
    "        'max_depth': [2],\n",
    "    }\n",
    "\n",
    "    gridsearch = GridSearchCV(XGBRegressor(),\n",
    "                              param_grid=param_grid, \n",
    "                              # scoring='roc_auc', \n",
    "                              cv=3, n_jobs=-1,\n",
    "                              return_train_score=True, verbose=10)\n",
    "    gridsearch.fit(X_train, y_train)\n",
    "    print('best estimator:', gridsearch.best_estimator_)\n",
    "    print(gridsearch.cv_results_['mean_train_score'].mean(),\n",
    "          gridsearch.cv_results_['mean_test_score'].mean())\n",
    "    y_pred = gridsearch.predict(X_val)\n",
    "    print('mae:', mean_absolute_error(y_val, y_pred))\n",
    "    print('rmse:', np.sqrt(mean_squared_error(y_val, y_pred)))\n",
    "    \n",
    "    return gridsearch\n",
    "\n",
    "def baseline_rmse(df, minutes=30):\n",
    "    \"\"\"Baseline RMSE assuming the target value will be the same\n",
    "    as the current value\n",
    "    \"\"\"\n",
    "    df = load_so_cgm()\n",
    "    df = feature_engineer(df.copy(), minutes)\n",
    "    df = append_future_target_col(df.copy(), minutes)\n",
    "    \n",
    "    mse = sum((df[f'{minutes}_minutes'] - \n",
    "               df['value']).pow(2)) / len(df)\n",
    "    \n",
    "    return np.sqrt(mse)"
   ]
  },
  {
   "cell_type": "markdown",
   "metadata": {},
   "source": [
    "### Compute baseline MSE"
   ]
  },
  {
   "cell_type": "code",
   "execution_count": null,
   "metadata": {
    "scrolled": true
   },
   "outputs": [],
   "source": [
    "for minute in range(5, 31, 5):\n",
    "    print(baseline_rmse(df=load_so_cgm(), minutes=minute))"
   ]
  },
  {
   "cell_type": "code",
   "execution_count": null,
   "metadata": {},
   "outputs": [],
   "source": [
    "# XGBRegressor(base_score=0.5, booster='gbtree', colsample_bylevel=1,\n",
    "#        colsample_bytree=1, gamma=0, importance_type='gain',\n",
    "#        learning_rate=0.06, max_delta_step=0, max_depth=2,\n",
    "#        min_child_weight=1, missing=None, n_estimators=60, n_jobs=1,\n",
    "#        nthread=None, objective='reg:linear', random_state=0, reg_alpha=0,\n",
    "#        reg_lambda=1, scale_pos_weight=1, seed=None, silent=True,\n",
    "#        subsample=1)\n",
    "# gave us +/- 18.66 mg/dL"
   ]
  },
  {
   "cell_type": "markdown",
   "metadata": {},
   "source": [
    "## Write Models"
   ]
  },
  {
   "cell_type": "code",
   "execution_count": null,
   "metadata": {
    "scrolled": true
   },
   "outputs": [],
   "source": [
    "df = load_so_cgm()\n",
    "models = []\n",
    "for minutes in range(5, 31, 5):\n",
    "    with open('diabetesmanager/ml_models/model_' + str(minutes) + '_minutes.pkl', 'wb') as f:\n",
    "        model = build_model(df.copy(), minutes)\n",
    "        pickle.dump(model, f)\n",
    "        models.append(model)"
   ]
  },
  {
   "cell_type": "markdown",
   "metadata": {},
   "source": [
    "## Read Models"
   ]
  },
  {
   "cell_type": "code",
   "execution_count": null,
   "metadata": {},
   "outputs": [],
   "source": [
    "from pathlib import Path\n",
    "\n",
    "MODEL_DIR = Path('diabetesmanager/ml_models')\n",
    "models = []\n",
    "for model_path in MODEL_DIR.iterdir():\n",
    "    if str(model_path).endswith('.pkl'):\n",
    "        with open(model_path, 'rb') as f:\n",
    "            models.append(pickle.load(f))"
   ]
  },
  {
   "cell_type": "markdown",
   "metadata": {},
   "source": [
    "## Plotting"
   ]
  },
  {
   "cell_type": "code",
   "execution_count": null,
   "metadata": {
    "scrolled": false
   },
   "outputs": [],
   "source": [
    "import matplotlib.pyplot as plt\n",
    "\n",
    "df = load_so_cgm()\n",
    "df = preprocess(df.copy(), minutes=5)\n",
    "df = feature_engineer(df.copy(), minutes)\n",
    "df = df[[col for col in df if '_minutes' not in col]]\n",
    "\n",
    "last_seconds = 30 * 60\n",
    "seconds_ago = df['timestamp'].max() - last_seconds\n",
    "for i, model in enumerate(models):\n",
    "    print((i+1)*5, 'minutes')\n",
    "    y_pred = model.predict(df.loc[df['timestamp'] >= seconds_ago])\n",
    "    \n",
    "    # actual\n",
    "    plt.plot(df.loc[df['timestamp'] >= seconds_ago, 'timestamp'], \n",
    "             df.loc[df['timestamp'] >= seconds_ago, 'value'], color='b', marker='P')\n",
    "    \n",
    "    # prediction\n",
    "    plt.plot(df.loc[df['timestamp'] >= seconds_ago,  'timestamp'] + (i+1)*5*60, \n",
    "             y_pred, color='g', marker='d')\n",
    "    plt.show()"
   ]
  }
 ],
 "metadata": {
  "kernelspec": {
   "display_name": "Python 3",
   "language": "python",
   "name": "python3"
  },
  "language_info": {
   "codemirror_mode": {
    "name": "ipython",
    "version": 3
   },
   "file_extension": ".py",
   "mimetype": "text/x-python",
   "name": "python",
   "nbconvert_exporter": "python",
   "pygments_lexer": "ipython3",
   "version": "3.6.4"
  }
 },
 "nbformat": 4,
 "nbformat_minor": 2
}
