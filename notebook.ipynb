{
 "cells": [
  {
   "cell_type": "code",
   "execution_count": 77,
   "metadata": {},
   "outputs": [],
   "source": [
    "from datetime import datetime\n",
    "import pickle\n",
    "\n",
    "import eli5\n",
    "from eli5.sklearn import PermutationImportance\n",
    "\n",
    "import matplotlib.pyplot as plt\n",
    "import numpy as np\n",
    "import pandas as pd\n",
    "from sklearn.ensemble import (\n",
    "    RandomForestRegressor, GradientBoostingRegressor)\n",
    "from sklearn.linear_model import LinearRegression\n",
    "from sklearn.model_selection import GridSearchCV\n",
    "from sklearn.metrics import (\n",
    "    mean_absolute_error, mean_squared_error)\n",
    "from xgboost import XGBRegressor\n",
    "\n",
    "from scripts.data_processing import (\n",
    "    load_uci, load_tidepool_dummy, \n",
    "    load_so_pump, \n",
    "    load_so_cgm)"
   ]
  },
  {
   "cell_type": "code",
   "execution_count": 78,
   "metadata": {},
   "outputs": [],
   "source": [
    "def resample(df, freq='5Min', value_col='value'):\n",
    "    \"\"\"Converts measurements to a given interval\"\"\"\n",
    "    df = df.copy()\n",
    "    \n",
    "    df['timestamp'] = pd.to_datetime(df['timestamp'], unit='s')\n",
    "    \n",
    "    desired_dts = pd.date_range(df['timestamp'].min().round(freq),\n",
    "                                df['timestamp'].max().round(freq), \n",
    "                                freq=freq)\n",
    "    \n",
    "    interp = np.interp(desired_dts, df['timestamp'], df[value_col])\n",
    "    \n",
    "    df = pd.DataFrame({'timestamp':desired_dts,\n",
    "                       value_col:interp})\n",
    "    \n",
    "    return df\n",
    "\n",
    "\n",
    "def append_hour_day_features(df):\n",
    "    df = df.copy()\n",
    "    df = pd.concat(\n",
    "        [df, \n",
    "         pd.get_dummies(df['timestamp'].dt.hour, prefix='hour_of_day'),\n",
    "         pd.get_dummies(df['timestamp'].dt.weekday, prefix='day_of_week')], \n",
    "        axis=1\n",
    "    )\n",
    "    \n",
    "    return df\n",
    "\n",
    "\n",
    "def type_check(df):\n",
    "    for col in ['timestamp', 'value', 'below_threshold']:\n",
    "        assert pd.api.types.is_numeric_dtype(df[col])\n",
    "    \n",
    "    return None\n",
    "\n",
    "\n",
    "def append_historical_cols(df, value_col='value', n_value_cols=12, \n",
    "                           n_rate_cols=0, interval_mins=5):\n",
    "    \"\"\"Adds recent blood glucose measures as columns\"\"\"\n",
    "    df = df.copy()\n",
    "    \n",
    "    for x in range(1, max([n_value_cols, n_rate_cols])+1):\n",
    "        if x <= n_value_cols:\n",
    "            df[f'{value_col}_lag{str(x).zfill(2)}'] = df[value_col].shift(x)\n",
    "        if x <= n_rate_cols:\n",
    "            df[f'{value_col}_per_min_lag{str(x).zfill(2)}'] = (\n",
    "                (df[value_col].shift(x-1) - df[value_col].shift(x)).divide(interval_mins)\n",
    "            )\n",
    "\n",
    "    return df\n",
    "\n",
    "\n",
    "def append_future_target_col(df, minutes=30):\n",
    "    \"\"\"Append target column for machine learning model\"\"\"\n",
    "    df = df.copy()\n",
    "\n",
    "    target_name = f'future_value_{str(minutes).zfill(2)}_minutes'\n",
    "    df[target_name] = df['value'].shift(int(-minutes/5))\n",
    "    \n",
    "    return df\n",
    "\n",
    "\n",
    "def split_train_validate(df, minutes=30, test_fraction=0.2):\n",
    "    df = df.copy()\n",
    "    \n",
    "    test_size = int(df.shape[0] * test_fraction)\n",
    "    df_train = df.iloc[0:-test_size]\n",
    "    df_val   = df.iloc[-test_size:]\n",
    "    print(f'train size: {len(df_train)}')\n",
    "    print(f'test size: {len(df_val)}')\n",
    "    \n",
    "    target_name = f'future_value_{str(minutes).zfill(2)}_minutes'\n",
    "    X_train  = df_train.drop(columns=[target_name])\n",
    "    y_train  = df_train[target_name]\n",
    "    \n",
    "    X_val    = df_val.drop(columns=[target_name])\n",
    "    y_val    = df_val[target_name]\n",
    "    \n",
    "    return X_train, X_val, y_train, y_val\n",
    "\n",
    "\n",
    "def build_model(df, minutes=30):\n",
    "    df = append_historical_bg_cols(df.copy(), minutes)\n",
    "    df = append_future_target_col(df.copy(), minutes)\n",
    "    \n",
    "    X_train, X_val, y_train, y_val = \\\n",
    "        split_train_validate(df.copy(), minutes=minutes)\n",
    "    \n",
    "    param_grid = {  \n",
    "        'learning_rate': [0.05, 0.06, 0.07, 0.08],\n",
    "        'n_estimators':  [40, 50, 60],\n",
    "        'max_depth': [2],\n",
    "    }\n",
    "\n",
    "    gridsearch = GridSearchCV(XGBRegressor(),\n",
    "                              param_grid=param_grid, \n",
    "                              # scoring='roc_auc', \n",
    "                              cv=3, n_jobs=-1,\n",
    "                              return_train_score=True, verbose=10)\n",
    "    gridsearch.fit(X_train, y_train)\n",
    "    print('best estimator:', gridsearch.best_estimator_)\n",
    "    print(gridsearch.cv_results_['mean_train_score'].mean(),\n",
    "          gridsearch.cv_results_['mean_test_score'].mean())\n",
    "    y_pred = gridsearch.predict(X_val)\n",
    "    print('mae:', mean_absolute_error(y_val, y_pred))\n",
    "    print('rmse:', np.sqrt(mean_squared_error(y_val, y_pred)))\n",
    "    \n",
    "    return gridsearch\n",
    "\n",
    "\n",
    "def baseline_rmse(df, minutes=30):\n",
    "    \"\"\"Baseline RMSE assuming the target value will be the same\n",
    "    as the current value\n",
    "    \"\"\"\n",
    "    df = load_so_cgm()\n",
    "    df = append_future_target_col(df.copy(), minutes)\n",
    "    df = df.dropna()\n",
    "    target_name = f'future_value_{str(minutes).zfill(2)}_minutes'\n",
    "    mse = sum((df[target_name] - \n",
    "               df['value']).pow(2)) / len(df)\n",
    "    \n",
    "    return np.sqrt(mse)\n",
    "\n",
    "\n",
    "def score(model, X_train, X_val, y_train, y_val):\n",
    "    # train score\n",
    "    mse = mean_squared_error(y_train, model.predict(X_train))\n",
    "    rmse = np.sqrt(mse)\n",
    "    print(rmse)\n",
    "    \n",
    "    # test score\n",
    "    y_pred = model.predict(X_val)\n",
    "    mse = mean_squared_error(y_val, y_pred)\n",
    "    rmse = np.sqrt(mse)\n",
    "    print(rmse)\n",
    "\n",
    "\n",
    "def plot(df, model, duration_mins=30):\n",
    "    \"\"\"Plots a randomly selected portion of data\"\"\"\n",
    "    df = df.copy()\n",
    "    \n",
    "    min_time = df.sample(1)['timestamp'].values[0]\n",
    "    max_time = min_time + (duration_mins * 60)\n",
    "    \n",
    "    df = df.loc[(min_time <= df['timestamp']) & \n",
    "                (df['timestamp'] <= max_time)]\n",
    "\n",
    "    # actual\n",
    "    plt.plot(df['timestamp'], \n",
    "             df['value'], \n",
    "             color='b', marker='P')\n",
    "\n",
    "    # prediction\n",
    "    plt.plot(df['timestamp'] + 30 * 60, \n",
    "             model.predict(df), \n",
    "             color='g', marker='d')\n",
    "    \n",
    "    return plt.show()"
   ]
  },
  {
   "cell_type": "markdown",
   "metadata": {},
   "source": [
    "### Naive Baseline RMSE"
   ]
  },
  {
   "cell_type": "code",
   "execution_count": 172,
   "metadata": {
    "scrolled": true
   },
   "outputs": [
    {
     "name": "stdout",
     "output_type": "stream",
     "text": [
      "05 minutes in future: 6.719252100307445\n",
      "10 minutes in future: 10.41333712177528\n",
      "15 minutes in future: 14.53977672402164\n",
      "20 minutes in future: 18.158543769341655\n",
      "25 minutes in future: 21.638654622552746\n",
      "30 minutes in future: 24.896238216187268\n"
     ]
    }
   ],
   "source": [
    "for minute in range(5, 31, 5):\n",
    "    print(str(minute).zfill(2), 'minutes in future:',\n",
    "          baseline_rmse(df=load_so_cgm(), minutes=minute))"
   ]
  },
  {
   "cell_type": "markdown",
   "metadata": {},
   "source": [
    "## Model Selection"
   ]
  },
  {
   "cell_type": "code",
   "execution_count": 30,
   "metadata": {},
   "outputs": [],
   "source": [
    "df = load_so_pump()\n",
    "\n",
    "df = (df.set_index('Datetime')['Value']\n",
    "        .resample('5Min').sum()\n",
    "        .reset_index())\n",
    "df['Datetime'] = df['Datetime'] + pd.Timedelta(minutes=5)\n",
    "df = df.rename(columns={'Datetime':'timestamp',\n",
    "                        'Value':'ins_prev5min'})\n",
    "df = append_historical_cols(df, value_col='ins_prev5min')\n",
    "df = df.dropna()\n",
    "\n",
    "pmp = df.copy(); del df"
   ]
  },
  {
   "cell_type": "code",
   "execution_count": 31,
   "metadata": {},
   "outputs": [],
   "source": [
    "df = load_so_cgm()\n",
    "df = resample(df, freq='5Min')\n",
    "df = append_historical_cols(df, value_col='value')\n",
    "df = append_future_target_col(df)\n",
    "df = df.dropna()"
   ]
  },
  {
   "cell_type": "code",
   "execution_count": 32,
   "metadata": {},
   "outputs": [],
   "source": [
    "df = df.merge(pmp, on='timestamp')\n",
    "# df = append_hour_day_features(df)\n",
    "df['timestamp'] = df['timestamp'].astype(np.int64) // 10**9"
   ]
  },
  {
   "cell_type": "markdown",
   "metadata": {},
   "source": [
    "### Linear Regression"
   ]
  },
  {
   "cell_type": "code",
   "execution_count": 82,
   "metadata": {},
   "outputs": [
    {
     "name": "stdout",
     "output_type": "stream",
     "text": [
      "train size: 54460\n",
      "test size: 13615\n"
     ]
    }
   ],
   "source": [
    "X_train, X_val, y_train, y_val = (\n",
    "    split_train_validate(df)\n",
    ")"
   ]
  },
  {
   "cell_type": "code",
   "execution_count": 83,
   "metadata": {},
   "outputs": [
    {
     "data": {
      "text/plain": [
       "LinearRegression(copy_X=True, fit_intercept=True, n_jobs=None,\n",
       "         normalize=False)"
      ]
     },
     "execution_count": 83,
     "metadata": {},
     "output_type": "execute_result"
    }
   ],
   "source": [
    "model = LinearRegression()\n",
    "model.fit(X_train, y_train)"
   ]
  },
  {
   "cell_type": "code",
   "execution_count": 84,
   "metadata": {},
   "outputs": [
    {
     "name": "stdout",
     "output_type": "stream",
     "text": [
      "16.53343625464301\n",
      "21.504662370119526\n"
     ]
    }
   ],
   "source": [
    "score(model, X_train, X_val, y_train, y_val)"
   ]
  },
  {
   "cell_type": "code",
   "execution_count": 87,
   "metadata": {},
   "outputs": [
    {
     "data": {
      "text/plain": [
       "value                 3.190833e+00\n",
       "ins_prev5min_lag02    1.211457e+00\n",
       "ins_prev5min          1.210461e+00\n",
       "ins_prev5min_lag01    1.188757e+00\n",
       "ins_prev5min_lag03    9.113467e-01\n",
       "ins_prev5min_lag04    3.243260e-01\n",
       "ins_prev5min_lag05    5.526559e-02\n",
       "value_lag04           4.166017e-02\n",
       "value_lag12           2.810709e-02\n",
       "value_lag11           2.537052e-02\n",
       "value_lag09           1.773497e-02\n",
       "value_lag07           9.016186e-03\n",
       "timestamp             2.076113e-07\n",
       "value_lag10          -9.137100e-04\n",
       "value_lag06          -7.732042e-03\n",
       "value_lag02          -3.694270e-02\n",
       "value_lag08          -5.673124e-02\n",
       "value_lag05          -5.735421e-02\n",
       "ins_prev5min_lag06   -1.419397e-01\n",
       "value_lag03          -1.679326e-01\n",
       "ins_prev5min_lag07   -3.342750e-01\n",
       "ins_prev5min_lag09   -4.348999e-01\n",
       "ins_prev5min_lag10   -4.355934e-01\n",
       "ins_prev5min_lag08   -4.805450e-01\n",
       "ins_prev5min_lag12   -5.548265e-01\n",
       "ins_prev5min_lag11   -5.711833e-01\n",
       "value_lag01          -2.124752e+00\n",
       "dtype: float64"
      ]
     },
     "execution_count": 87,
     "metadata": {},
     "output_type": "execute_result"
    }
   ],
   "source": [
    "pd.Series(model.coef_,\n",
    "          X_train.columns).sort_values(ascending=False)"
   ]
  },
  {
   "cell_type": "code",
   "execution_count": 97,
   "metadata": {},
   "outputs": [
    {
     "data": {
      "image/png": "[encoded data removed]",
      "text/plain": [
       "<Figure size 432x288 with 1 Axes>"
      ]
     },
     "metadata": {},
     "output_type": "display_data"
    }
   ],
   "source": [
    "plot(X_val, model, duration_mins=12*60)"
   ]
  },
  {
   "cell_type": "markdown",
   "metadata": {},
   "source": [
    "### Random Forest"
   ]
  },
  {
   "cell_type": "code",
   "execution_count": 33,
   "metadata": {
    "scrolled": true
   },
   "outputs": [
    {
     "name": "stdout",
     "output_type": "stream",
     "text": [
      "train size: 54460\n",
      "test size: 13615\n"
     ]
    }
   ],
   "source": [
    "X_train, X_val, y_train, y_val = (\n",
    "    split_train_validate(df)\n",
    ")"
   ]
  },
  {
   "cell_type": "code",
   "execution_count": 51,
   "metadata": {},
   "outputs": [],
   "source": [
    "model = RandomForestRegressor(\n",
    "    n_estimators=100, \n",
    "    min_samples_leaf=0.004,\n",
    "    n_jobs=-1\n",
    ")"
   ]
  },
  {
   "cell_type": "code",
   "execution_count": 52,
   "metadata": {},
   "outputs": [
    {
     "data": {
      "text/plain": [
       "RandomForestRegressor(bootstrap=True, criterion='mse', max_depth=None,\n",
       "           max_features='auto', max_leaf_nodes=None,\n",
       "           min_impurity_decrease=0.0, min_impurity_split=None,\n",
       "           min_samples_leaf=0.004, min_samples_split=2,\n",
       "           min_weight_fraction_leaf=0.0, n_estimators=150, n_jobs=-1,\n",
       "           oob_score=False, random_state=None, verbose=0, warm_start=False)"
      ]
     },
     "execution_count": 52,
     "metadata": {},
     "output_type": "execute_result"
    }
   ],
   "source": [
    "model.fit(X_train, y_train)"
   ]
  },
  {
   "cell_type": "code",
   "execution_count": 55,
   "metadata": {},
   "outputs": [
    {
     "data": {
      "text/plain": [
       "value                 0.940081\n",
       "value_lag04           0.015955\n",
       "value_lag03           0.015888\n",
       "value_lag05           0.010383\n",
       "value_lag02           0.007952\n",
       "value_lag06           0.005596\n",
       "value_lag07           0.001765\n",
       "value_lag01           0.000874\n",
       "value_lag08           0.000487\n",
       "timestamp             0.000391\n",
       "value_lag12           0.000158\n",
       "value_lag09           0.000115\n",
       "value_lag11           0.000089\n",
       "value_lag10           0.000082\n",
       "ins_prev5min_lag12    0.000030\n",
       "ins_prev5min_lag05    0.000028\n",
       "ins_prev5min          0.000027\n",
       "ins_prev5min_lag06    0.000018\n",
       "ins_prev5min_lag03    0.000014\n",
       "ins_prev5min_lag01    0.000012\n",
       "ins_prev5min_lag04    0.000012\n",
       "ins_prev5min_lag02    0.000010\n",
       "ins_prev5min_lag09    0.000010\n",
       "ins_prev5min_lag11    0.000009\n",
       "ins_prev5min_lag08    0.000006\n",
       "ins_prev5min_lag10    0.000005\n",
       "ins_prev5min_lag07    0.000003\n",
       "dtype: float64"
      ]
     },
     "execution_count": 55,
     "metadata": {},
     "output_type": "execute_result"
    }
   ],
   "source": [
    "# feature importances\n",
    "pd.Series(model.feature_importances_, \n",
    "          X_train.columns).sort_values(ascending=False)"
   ]
  },
  {
   "cell_type": "code",
   "execution_count": 56,
   "metadata": {},
   "outputs": [
    {
     "data": {
      "text/plain": [
       "PermutationImportance(cv='prefit',\n",
       "           estimator=RandomForestRegressor(bootstrap=True, criterion='mse', max_depth=None,\n",
       "           max_features='auto', max_leaf_nodes=None,\n",
       "           min_impurity_decrease=0.0, min_impurity_split=None,\n",
       "           min_samples_leaf=0.004, min_samples_split=2,\n",
       "           min_weight_fraction_leaf=0.0, n_estimators=150, n_jobs=-1,\n",
       "           oob_score=False, random_state=None, verbose=0, warm_start=False),\n",
       "           n_iter=1, random_state=None, refit=True,\n",
       "           scoring='neg_mean_squared_error')"
      ]
     },
     "execution_count": 56,
     "metadata": {},
     "output_type": "execute_result"
    }
   ],
   "source": [
    "# permutation feature importances\n",
    "permuter = PermutationImportance(model, scoring='neg_mean_squared_error', n_iter=1, cv='prefit')\n",
    "permuter.fit(X_train, y_train)"
   ]
  },
  {
   "cell_type": "code",
   "execution_count": 57,
   "metadata": {},
   "outputs": [
    {
     "data": {
      "text/html": [
       "\n",
       "    <style>\n",
       "    table.eli5-weights tr:hover {\n",
       "        filter: brightness(85%);\n",
       "    }\n",
       "</style>\n",
       "\n",
       "\n",
       "\n",
       "    \n",
       "\n",
       "    \n",
       "\n",
       "    \n",
       "\n",
       "    \n",
       "\n",
       "    \n",
       "\n",
       "    \n",
       "\n",
       "\n",
       "    \n",
       "\n",
       "    \n",
       "\n",
       "    \n",
       "\n",
       "    \n",
       "\n",
       "    \n",
       "\n",
       "    \n",
       "\n",
       "\n",
       "    \n",
       "\n",
       "    \n",
       "\n",
       "    \n",
       "\n",
       "    \n",
       "\n",
       "    \n",
       "        <table class=\"eli5-weights eli5-feature-importances\" style=\"border-collapse: collapse; border: none; margin-top: 0em; table-layout: auto;\">\n",
       "    <thead>\n",
       "    <tr style=\"border: none;\">\n",
       "        <th style=\"padding: 0 1em 0 0.5em; text-align: right; border: none;\">Weight</th>\n",
       "        <th style=\"padding: 0 0.5em 0 0.5em; text-align: left; border: none;\">Feature</th>\n",
       "    </tr>\n",
       "    </thead>\n",
       "    <tbody>\n",
       "    \n",
       "        <tr style=\"background-color: hsl(120, 100.00%, 80.00%); border: none;\">\n",
       "            <td style=\"padding: 0 1em 0 0.5em; text-align: right; border: none;\">\n",
       "                4179.5079\n",
       "                \n",
       "                    &plusmn; 0.0000\n",
       "                \n",
       "            </td>\n",
       "            <td style=\"padding: 0 0.5em 0 0.5em; text-align: left; border: none;\">\n",
       "                value\n",
       "            </td>\n",
       "        </tr>\n",
       "    \n",
       "        <tr style=\"background-color: hsl(120, 100.00%, 99.23%); border: none;\">\n",
       "            <td style=\"padding: 0 1em 0 0.5em; text-align: right; border: none;\">\n",
       "                39.6248\n",
       "                \n",
       "                    &plusmn; 0.0000\n",
       "                \n",
       "            </td>\n",
       "            <td style=\"padding: 0 0.5em 0 0.5em; text-align: left; border: none;\">\n",
       "                value_lag03\n",
       "            </td>\n",
       "        </tr>\n",
       "    \n",
       "        <tr style=\"background-color: hsl(120, 100.00%, 99.28%); border: none;\">\n",
       "            <td style=\"padding: 0 1em 0 0.5em; text-align: right; border: none;\">\n",
       "                36.5089\n",
       "                \n",
       "                    &plusmn; 0.0000\n",
       "                \n",
       "            </td>\n",
       "            <td style=\"padding: 0 0.5em 0 0.5em; text-align: left; border: none;\">\n",
       "                value_lag04\n",
       "            </td>\n",
       "        </tr>\n",
       "    \n",
       "        <tr style=\"background-color: hsl(120, 100.00%, 99.54%); border: none;\">\n",
       "            <td style=\"padding: 0 1em 0 0.5em; text-align: right; border: none;\">\n",
       "                19.0717\n",
       "                \n",
       "                    &plusmn; 0.0000\n",
       "                \n",
       "            </td>\n",
       "            <td style=\"padding: 0 0.5em 0 0.5em; text-align: left; border: none;\">\n",
       "                value_lag05\n",
       "            </td>\n",
       "        </tr>\n",
       "    \n",
       "        <tr style=\"background-color: hsl(120, 100.00%, 99.57%); border: none;\">\n",
       "            <td style=\"padding: 0 1em 0 0.5em; text-align: right; border: none;\">\n",
       "                17.4247\n",
       "                \n",
       "                    &plusmn; 0.0000\n",
       "                \n",
       "            </td>\n",
       "            <td style=\"padding: 0 0.5em 0 0.5em; text-align: left; border: none;\">\n",
       "                value_lag02\n",
       "            </td>\n",
       "        </tr>\n",
       "    \n",
       "        <tr style=\"background-color: hsl(120, 100.00%, 99.80%); border: none;\">\n",
       "            <td style=\"padding: 0 1em 0 0.5em; text-align: right; border: none;\">\n",
       "                6.0132\n",
       "                \n",
       "                    &plusmn; 0.0000\n",
       "                \n",
       "            </td>\n",
       "            <td style=\"padding: 0 0.5em 0 0.5em; text-align: left; border: none;\">\n",
       "                value_lag06\n",
       "            </td>\n",
       "        </tr>\n",
       "    \n",
       "        <tr style=\"background-color: hsl(120, 100.00%, 99.92%); border: none;\">\n",
       "            <td style=\"padding: 0 1em 0 0.5em; text-align: right; border: none;\">\n",
       "                1.5626\n",
       "                \n",
       "                    &plusmn; 0.0000\n",
       "                \n",
       "            </td>\n",
       "            <td style=\"padding: 0 0.5em 0 0.5em; text-align: left; border: none;\">\n",
       "                value_lag01\n",
       "            </td>\n",
       "        </tr>\n",
       "    \n",
       "        <tr style=\"background-color: hsl(120, 100.00%, 99.93%); border: none;\">\n",
       "            <td style=\"padding: 0 1em 0 0.5em; text-align: right; border: none;\">\n",
       "                1.2389\n",
       "                \n",
       "                    &plusmn; 0.0000\n",
       "                \n",
       "            </td>\n",
       "            <td style=\"padding: 0 0.5em 0 0.5em; text-align: left; border: none;\">\n",
       "                value_lag07\n",
       "            </td>\n",
       "        </tr>\n",
       "    \n",
       "        <tr style=\"background-color: hsl(120, 100.00%, 99.94%); border: none;\">\n",
       "            <td style=\"padding: 0 1em 0 0.5em; text-align: right; border: none;\">\n",
       "                0.9742\n",
       "                \n",
       "                    &plusmn; 0.0000\n",
       "                \n",
       "            </td>\n",
       "            <td style=\"padding: 0 0.5em 0 0.5em; text-align: left; border: none;\">\n",
       "                timestamp\n",
       "            </td>\n",
       "        </tr>\n",
       "    \n",
       "        <tr style=\"background-color: hsl(120, 100.00%, 99.97%); border: none;\">\n",
       "            <td style=\"padding: 0 1em 0 0.5em; text-align: right; border: none;\">\n",
       "                0.4622\n",
       "                \n",
       "                    &plusmn; 0.0000\n",
       "                \n",
       "            </td>\n",
       "            <td style=\"padding: 0 0.5em 0 0.5em; text-align: left; border: none;\">\n",
       "                value_lag12\n",
       "            </td>\n",
       "        </tr>\n",
       "    \n",
       "        <tr style=\"background-color: hsl(120, 100.00%, 99.98%); border: none;\">\n",
       "            <td style=\"padding: 0 1em 0 0.5em; text-align: right; border: none;\">\n",
       "                0.2566\n",
       "                \n",
       "                    &plusmn; 0.0000\n",
       "                \n",
       "            </td>\n",
       "            <td style=\"padding: 0 0.5em 0 0.5em; text-align: left; border: none;\">\n",
       "                value_lag08\n",
       "            </td>\n",
       "        </tr>\n",
       "    \n",
       "        <tr style=\"background-color: hsl(120, 100.00%, 99.98%); border: none;\">\n",
       "            <td style=\"padding: 0 1em 0 0.5em; text-align: right; border: none;\">\n",
       "                0.1519\n",
       "                \n",
       "                    &plusmn; 0.0000\n",
       "                \n",
       "            </td>\n",
       "            <td style=\"padding: 0 0.5em 0 0.5em; text-align: left; border: none;\">\n",
       "                value_lag11\n",
       "            </td>\n",
       "        </tr>\n",
       "    \n",
       "        <tr style=\"background-color: hsl(120, 100.00%, 99.99%); border: none;\">\n",
       "            <td style=\"padding: 0 1em 0 0.5em; text-align: right; border: none;\">\n",
       "                0.1307\n",
       "                \n",
       "                    &plusmn; 0.0000\n",
       "                \n",
       "            </td>\n",
       "            <td style=\"padding: 0 0.5em 0 0.5em; text-align: left; border: none;\">\n",
       "                value_lag10\n",
       "            </td>\n",
       "        </tr>\n",
       "    \n",
       "        <tr style=\"background-color: hsl(120, 100.00%, 99.99%); border: none;\">\n",
       "            <td style=\"padding: 0 1em 0 0.5em; text-align: right; border: none;\">\n",
       "                0.1004\n",
       "                \n",
       "                    &plusmn; 0.0000\n",
       "                \n",
       "            </td>\n",
       "            <td style=\"padding: 0 0.5em 0 0.5em; text-align: left; border: none;\">\n",
       "                value_lag09\n",
       "            </td>\n",
       "        </tr>\n",
       "    \n",
       "        <tr style=\"background-color: hsl(120, 100.00%, 99.99%); border: none;\">\n",
       "            <td style=\"padding: 0 1em 0 0.5em; text-align: right; border: none;\">\n",
       "                0.0745\n",
       "                \n",
       "                    &plusmn; 0.0000\n",
       "                \n",
       "            </td>\n",
       "            <td style=\"padding: 0 0.5em 0 0.5em; text-align: left; border: none;\">\n",
       "                ins_prev5min\n",
       "            </td>\n",
       "        </tr>\n",
       "    \n",
       "        <tr style=\"background-color: hsl(120, 100.00%, 99.99%); border: none;\">\n",
       "            <td style=\"padding: 0 1em 0 0.5em; text-align: right; border: none;\">\n",
       "                0.0711\n",
       "                \n",
       "                    &plusmn; 0.0000\n",
       "                \n",
       "            </td>\n",
       "            <td style=\"padding: 0 0.5em 0 0.5em; text-align: left; border: none;\">\n",
       "                ins_prev5min_lag05\n",
       "            </td>\n",
       "        </tr>\n",
       "    \n",
       "        <tr style=\"background-color: hsl(120, 100.00%, 99.99%); border: none;\">\n",
       "            <td style=\"padding: 0 1em 0 0.5em; text-align: right; border: none;\">\n",
       "                0.0606\n",
       "                \n",
       "                    &plusmn; 0.0000\n",
       "                \n",
       "            </td>\n",
       "            <td style=\"padding: 0 0.5em 0 0.5em; text-align: left; border: none;\">\n",
       "                ins_prev5min_lag06\n",
       "            </td>\n",
       "        </tr>\n",
       "    \n",
       "        <tr style=\"background-color: hsl(120, 100.00%, 99.99%); border: none;\">\n",
       "            <td style=\"padding: 0 1em 0 0.5em; text-align: right; border: none;\">\n",
       "                0.0601\n",
       "                \n",
       "                    &plusmn; 0.0000\n",
       "                \n",
       "            </td>\n",
       "            <td style=\"padding: 0 0.5em 0 0.5em; text-align: left; border: none;\">\n",
       "                ins_prev5min_lag12\n",
       "            </td>\n",
       "        </tr>\n",
       "    \n",
       "        <tr style=\"background-color: hsl(120, 100.00%, 99.99%); border: none;\">\n",
       "            <td style=\"padding: 0 1em 0 0.5em; text-align: right; border: none;\">\n",
       "                0.0330\n",
       "                \n",
       "                    &plusmn; 0.0000\n",
       "                \n",
       "            </td>\n",
       "            <td style=\"padding: 0 0.5em 0 0.5em; text-align: left; border: none;\">\n",
       "                ins_prev5min_lag09\n",
       "            </td>\n",
       "        </tr>\n",
       "    \n",
       "        <tr style=\"background-color: hsl(120, 100.00%, 99.99%); border: none;\">\n",
       "            <td style=\"padding: 0 1em 0 0.5em; text-align: right; border: none;\">\n",
       "                0.0302\n",
       "                \n",
       "                    &plusmn; 0.0000\n",
       "                \n",
       "            </td>\n",
       "            <td style=\"padding: 0 0.5em 0 0.5em; text-align: left; border: none;\">\n",
       "                ins_prev5min_lag01\n",
       "            </td>\n",
       "        </tr>\n",
       "    \n",
       "        <tr style=\"background-color: hsl(120, 100.00%, 100.00%); border: none;\">\n",
       "            <td style=\"padding: 0 1em 0 0.5em; text-align: right; border: none;\">\n",
       "                0.0298\n",
       "                \n",
       "                    &plusmn; 0.0000\n",
       "                \n",
       "            </td>\n",
       "            <td style=\"padding: 0 0.5em 0 0.5em; text-align: left; border: none;\">\n",
       "                ins_prev5min_lag03\n",
       "            </td>\n",
       "        </tr>\n",
       "    \n",
       "        <tr style=\"background-color: hsl(120, 100.00%, 100.00%); border: none;\">\n",
       "            <td style=\"padding: 0 1em 0 0.5em; text-align: right; border: none;\">\n",
       "                0.0221\n",
       "                \n",
       "                    &plusmn; 0.0000\n",
       "                \n",
       "            </td>\n",
       "            <td style=\"padding: 0 0.5em 0 0.5em; text-align: left; border: none;\">\n",
       "                ins_prev5min_lag11\n",
       "            </td>\n",
       "        </tr>\n",
       "    \n",
       "        <tr style=\"background-color: hsl(120, 100.00%, 100.00%); border: none;\">\n",
       "            <td style=\"padding: 0 1em 0 0.5em; text-align: right; border: none;\">\n",
       "                0.0200\n",
       "                \n",
       "                    &plusmn; 0.0000\n",
       "                \n",
       "            </td>\n",
       "            <td style=\"padding: 0 0.5em 0 0.5em; text-align: left; border: none;\">\n",
       "                ins_prev5min_lag04\n",
       "            </td>\n",
       "        </tr>\n",
       "    \n",
       "        <tr style=\"background-color: hsl(120, 100.00%, 100.00%); border: none;\">\n",
       "            <td style=\"padding: 0 1em 0 0.5em; text-align: right; border: none;\">\n",
       "                0.0168\n",
       "                \n",
       "                    &plusmn; 0.0000\n",
       "                \n",
       "            </td>\n",
       "            <td style=\"padding: 0 0.5em 0 0.5em; text-align: left; border: none;\">\n",
       "                ins_prev5min_lag02\n",
       "            </td>\n",
       "        </tr>\n",
       "    \n",
       "        <tr style=\"background-color: hsl(120, 100.00%, 100.00%); border: none;\">\n",
       "            <td style=\"padding: 0 1em 0 0.5em; text-align: right; border: none;\">\n",
       "                0.0168\n",
       "                \n",
       "                    &plusmn; 0.0000\n",
       "                \n",
       "            </td>\n",
       "            <td style=\"padding: 0 0.5em 0 0.5em; text-align: left; border: none;\">\n",
       "                ins_prev5min_lag08\n",
       "            </td>\n",
       "        </tr>\n",
       "    \n",
       "        <tr style=\"background-color: hsl(120, 100.00%, 100.00%); border: none;\">\n",
       "            <td style=\"padding: 0 1em 0 0.5em; text-align: right; border: none;\">\n",
       "                0.0107\n",
       "                \n",
       "                    &plusmn; 0.0000\n",
       "                \n",
       "            </td>\n",
       "            <td style=\"padding: 0 0.5em 0 0.5em; text-align: left; border: none;\">\n",
       "                ins_prev5min_lag10\n",
       "            </td>\n",
       "        </tr>\n",
       "    \n",
       "        <tr style=\"background-color: hsl(120, 100.00%, 100.00%); border: none;\">\n",
       "            <td style=\"padding: 0 1em 0 0.5em; text-align: right; border: none;\">\n",
       "                0.0076\n",
       "                \n",
       "                    &plusmn; 0.0000\n",
       "                \n",
       "            </td>\n",
       "            <td style=\"padding: 0 0.5em 0 0.5em; text-align: left; border: none;\">\n",
       "                ins_prev5min_lag07\n",
       "            </td>\n",
       "        </tr>\n",
       "    \n",
       "    \n",
       "    </tbody>\n",
       "</table>\n",
       "    \n",
       "\n",
       "    \n",
       "\n",
       "\n",
       "    \n",
       "\n",
       "    \n",
       "\n",
       "    \n",
       "\n",
       "    \n",
       "\n",
       "    \n",
       "\n",
       "    \n",
       "\n",
       "\n",
       "\n"
      ],
      "text/plain": [
       "<IPython.core.display.HTML object>"
      ]
     },
     "execution_count": 57,
     "metadata": {},
     "output_type": "execute_result"
    }
   ],
   "source": [
    "eli5.show_weights(permuter, top=None, feature_names=X_train.columns.tolist())"
   ]
  },
  {
   "cell_type": "markdown",
   "metadata": {},
   "source": [
    "### Gradient Boosting Regressor"
   ]
  },
  {
   "cell_type": "code",
   "execution_count": 79,
   "metadata": {},
   "outputs": [
    {
     "name": "stdout",
     "output_type": "stream",
     "text": [
      "train size: 54460\n",
      "test size: 13615\n"
     ]
    }
   ],
   "source": [
    "X_train, X_val, y_train, y_val = (\n",
    "    split_train_validate(df)\n",
    ")"
   ]
  },
  {
   "cell_type": "code",
   "execution_count": 80,
   "metadata": {},
   "outputs": [
    {
     "data": {
      "text/plain": [
       "GradientBoostingRegressor(alpha=0.9, criterion='friedman_mse', init=None,\n",
       "             learning_rate=0.1, loss='ls', max_depth=3, max_features=None,\n",
       "             max_leaf_nodes=None, min_impurity_decrease=0.0,\n",
       "             min_impurity_split=None, min_samples_leaf=1,\n",
       "             min_samples_split=2, min_weight_fraction_leaf=0.0,\n",
       "             n_estimators=100, n_iter_no_change=None, presort='auto',\n",
       "             random_state=None, subsample=1.0, tol=0.0001,\n",
       "             validation_fraction=0.1, verbose=0, warm_start=False)"
      ]
     },
     "execution_count": 80,
     "metadata": {},
     "output_type": "execute_result"
    }
   ],
   "source": [
    "model = GradientBoostingRegressor()\n",
    "model.fit(X_train, y_train)"
   ]
  },
  {
   "cell_type": "code",
   "execution_count": 81,
   "metadata": {},
   "outputs": [
    {
     "name": "stdout",
     "output_type": "stream",
     "text": [
      "16.73303164984469\n",
      "22.60373950838316\n"
     ]
    }
   ],
   "source": [
    "score(model, X_train, X_val, y_train, y_val)"
   ]
  },
  {
   "cell_type": "markdown",
   "metadata": {},
   "source": [
    "## Write Models"
   ]
  },
  {
   "cell_type": "code",
   "execution_count": null,
   "metadata": {
    "scrolled": true
   },
   "outputs": [],
   "source": [
    "df = load_so_cgm()\n",
    "models = []\n",
    "for minutes in range(5, 31, 5):\n",
    "    with open('diabetesmanager/ml_models/model_' + str(minutes) + '_minutes.pkl', 'wb') as f:\n",
    "        model = build_model(df.copy(), minutes)\n",
    "        pickle.dump(model, f)\n",
    "        models.append(model)"
   ]
  },
  {
   "cell_type": "markdown",
   "metadata": {},
   "source": [
    "## Read Models"
   ]
  },
  {
   "cell_type": "code",
   "execution_count": null,
   "metadata": {},
   "outputs": [],
   "source": [
    "from pathlib import Path\n",
    "\n",
    "MODEL_DIR = Path('diabetesmanager/ml_models')\n",
    "models = []\n",
    "for model_path in MODEL_DIR.iterdir():\n",
    "    if str(model_path).endswith('.pkl'):\n",
    "        with open(model_path, 'rb') as f:\n",
    "            models.append(pickle.load(f))"
   ]
  }
 ],
 "metadata": {
  "kernelspec": {
   "display_name": "Python 3",
   "language": "python",
   "name": "python3"
  },
  "language_info": {
   "codemirror_mode": {
    "name": "ipython",
    "version": 3
   },
   "file_extension": ".py",
   "mimetype": "text/x-python",
   "name": "python",
   "nbconvert_exporter": "python",
   "pygments_lexer": "ipython3",
   "version": "3.6.4"
  }
 },
 "nbformat": 4,
 "nbformat_minor": 2
}
