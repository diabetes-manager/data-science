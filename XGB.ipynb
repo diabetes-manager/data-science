{
 "cells": [
  {
   "cell_type": "code",
   "execution_count": 430,
   "metadata": {},
   "outputs": [],
   "source": [
    "import numpy as np\n",
    "import pandas as pd\n",
    "import pickle\n",
    "from sklearn.model_selection import GridSearchCV\n",
    "from sklearn.metrics import mean_absolute_error, \\\n",
    "                            mean_squared_error\n",
    "from xgboost import XGBRegressor\n",
    "\n",
    "pd.options.display.max_columns = None\n",
    "\n",
    "from scripts import (\n",
    "    load_uci, load_tidepool_dummy, \n",
    "    load_so_pump_raw, load_so_pump_clean,\n",
    "    load_so_cgm    \n",
    ")"
   ]
  },
  {
   "cell_type": "markdown",
   "metadata": {},
   "source": [
    "## CGM data"
   ]
  },
  {
   "cell_type": "code",
   "execution_count": 431,
   "metadata": {},
   "outputs": [
    {
     "name": "stdout",
     "output_type": "stream",
     "text": [
      "(25285, 14)\n"
     ]
    },
    {
     "data": {
      "text/html": [
       "<div>\n",
       "<style scoped>\n",
       "    .dataframe tbody tr th:only-of-type {\n",
       "        vertical-align: middle;\n",
       "    }\n",
       "\n",
       "    .dataframe tbody tr th {\n",
       "        vertical-align: top;\n",
       "    }\n",
       "\n",
       "    .dataframe thead th {\n",
       "        text-align: right;\n",
       "    }\n",
       "</style>\n",
       "<table border=\"1\" class=\"dataframe\">\n",
       "  <thead>\n",
       "    <tr style=\"text-align: right;\">\n",
       "      <th></th>\n",
       "      <th>Index</th>\n",
       "      <th>Timestamp (YYYY-MM-DDThh:mm:ss)</th>\n",
       "      <th>Event Type</th>\n",
       "      <th>Event Subtype</th>\n",
       "      <th>Patient Info</th>\n",
       "      <th>Device Info</th>\n",
       "      <th>Source Device ID</th>\n",
       "      <th>Glucose Value (mg/dL)</th>\n",
       "      <th>Insulin Value (u)</th>\n",
       "      <th>Carb Value (grams)</th>\n",
       "      <th>Duration (hh:mm:ss)</th>\n",
       "      <th>Glucose Rate of Change (mg/dL/min)</th>\n",
       "      <th>Transmitter Time (Long Integer)</th>\n",
       "      <th>Transmitter ID</th>\n",
       "    </tr>\n",
       "  </thead>\n",
       "  <tbody>\n",
       "    <tr>\n",
       "      <th>9</th>\n",
       "      <td>10</td>\n",
       "      <td>2019-01-14T00:02:42</td>\n",
       "      <td>EGV</td>\n",
       "      <td>NaN</td>\n",
       "      <td>NaN</td>\n",
       "      <td>NaN</td>\n",
       "      <td>iPhone</td>\n",
       "      <td>128</td>\n",
       "      <td>NaN</td>\n",
       "      <td>NaN</td>\n",
       "      <td>NaN</td>\n",
       "      <td>NaN</td>\n",
       "      <td>1943354.0</td>\n",
       "      <td>41W22H</td>\n",
       "    </tr>\n",
       "    <tr>\n",
       "      <th>10</th>\n",
       "      <td>11</td>\n",
       "      <td>2019-01-14T00:07:41</td>\n",
       "      <td>EGV</td>\n",
       "      <td>NaN</td>\n",
       "      <td>NaN</td>\n",
       "      <td>NaN</td>\n",
       "      <td>iPhone</td>\n",
       "      <td>129</td>\n",
       "      <td>NaN</td>\n",
       "      <td>NaN</td>\n",
       "      <td>NaN</td>\n",
       "      <td>NaN</td>\n",
       "      <td>1943654.0</td>\n",
       "      <td>41W22H</td>\n",
       "    </tr>\n",
       "    <tr>\n",
       "      <th>11</th>\n",
       "      <td>12</td>\n",
       "      <td>2019-01-14T00:12:41</td>\n",
       "      <td>EGV</td>\n",
       "      <td>NaN</td>\n",
       "      <td>NaN</td>\n",
       "      <td>NaN</td>\n",
       "      <td>iPhone</td>\n",
       "      <td>130</td>\n",
       "      <td>NaN</td>\n",
       "      <td>NaN</td>\n",
       "      <td>NaN</td>\n",
       "      <td>NaN</td>\n",
       "      <td>1943954.0</td>\n",
       "      <td>41W22H</td>\n",
       "    </tr>\n",
       "    <tr>\n",
       "      <th>12</th>\n",
       "      <td>13</td>\n",
       "      <td>2019-01-14T00:17:42</td>\n",
       "      <td>EGV</td>\n",
       "      <td>NaN</td>\n",
       "      <td>NaN</td>\n",
       "      <td>NaN</td>\n",
       "      <td>iPhone</td>\n",
       "      <td>131</td>\n",
       "      <td>NaN</td>\n",
       "      <td>NaN</td>\n",
       "      <td>NaN</td>\n",
       "      <td>NaN</td>\n",
       "      <td>1944254.0</td>\n",
       "      <td>41W22H</td>\n",
       "    </tr>\n",
       "    <tr>\n",
       "      <th>13</th>\n",
       "      <td>14</td>\n",
       "      <td>2019-01-14T00:22:41</td>\n",
       "      <td>EGV</td>\n",
       "      <td>NaN</td>\n",
       "      <td>NaN</td>\n",
       "      <td>NaN</td>\n",
       "      <td>iPhone</td>\n",
       "      <td>132</td>\n",
       "      <td>NaN</td>\n",
       "      <td>NaN</td>\n",
       "      <td>NaN</td>\n",
       "      <td>NaN</td>\n",
       "      <td>1944554.0</td>\n",
       "      <td>41W22H</td>\n",
       "    </tr>\n",
       "  </tbody>\n",
       "</table>\n",
       "</div>"
      ],
      "text/plain": [
       "    Index Timestamp (YYYY-MM-DDThh:mm:ss) Event Type Event Subtype  \\\n",
       "9      10             2019-01-14T00:02:42        EGV           NaN   \n",
       "10     11             2019-01-14T00:07:41        EGV           NaN   \n",
       "11     12             2019-01-14T00:12:41        EGV           NaN   \n",
       "12     13             2019-01-14T00:17:42        EGV           NaN   \n",
       "13     14             2019-01-14T00:22:41        EGV           NaN   \n",
       "\n",
       "   Patient Info Device Info Source Device ID Glucose Value (mg/dL)  \\\n",
       "9           NaN         NaN           iPhone                   128   \n",
       "10          NaN         NaN           iPhone                   129   \n",
       "11          NaN         NaN           iPhone                   130   \n",
       "12          NaN         NaN           iPhone                   131   \n",
       "13          NaN         NaN           iPhone                   132   \n",
       "\n",
       "    Insulin Value (u)  Carb Value (grams) Duration (hh:mm:ss)  \\\n",
       "9                 NaN                 NaN                 NaN   \n",
       "10                NaN                 NaN                 NaN   \n",
       "11                NaN                 NaN                 NaN   \n",
       "12                NaN                 NaN                 NaN   \n",
       "13                NaN                 NaN                 NaN   \n",
       "\n",
       "    Glucose Rate of Change (mg/dL/min)  Transmitter Time (Long Integer)  \\\n",
       "9                                  NaN                        1943354.0   \n",
       "10                                 NaN                        1943654.0   \n",
       "11                                 NaN                        1943954.0   \n",
       "12                                 NaN                        1944254.0   \n",
       "13                                 NaN                        1944554.0   \n",
       "\n",
       "   Transmitter ID  \n",
       "9          41W22H  \n",
       "10         41W22H  \n",
       "11         41W22H  \n",
       "12         41W22H  \n",
       "13         41W22H  "
      ]
     },
     "execution_count": 431,
     "metadata": {},
     "output_type": "execute_result"
    }
   ],
   "source": [
    "cgm = load_so_cgm()\n",
    "print(cgm.shape)\n",
    "cgm.head()"
   ]
  },
  {
   "cell_type": "code",
   "execution_count": 432,
   "metadata": {},
   "outputs": [
    {
     "data": {
      "text/plain": [
       "1"
      ]
     },
     "execution_count": 432,
     "metadata": {},
     "output_type": "execute_result"
    }
   ],
   "source": [
    "cgm['Event Subtype'].nunique()"
   ]
  },
  {
   "cell_type": "code",
   "execution_count": 433,
   "metadata": {},
   "outputs": [
    {
     "data": {
      "text/plain": [
       "array(['EGV', 'Calibration'], dtype=object)"
      ]
     },
     "execution_count": 433,
     "metadata": {},
     "output_type": "execute_result"
    }
   ],
   "source": [
    "cgm['Event Type'].unique()"
   ]
  },
  {
   "cell_type": "markdown",
   "metadata": {},
   "source": [
    "### Drop the non-EGV events"
   ]
  },
  {
   "cell_type": "code",
   "execution_count": 434,
   "metadata": {},
   "outputs": [],
   "source": [
    "cgm = cgm[cgm['Event Type'] == 'EGV']"
   ]
  },
  {
   "cell_type": "code",
   "execution_count": 435,
   "metadata": {},
   "outputs": [
    {
     "name": "stdout",
     "output_type": "stream",
     "text": [
      "cgm.shape: (25170, 14)\n"
     ]
    },
    {
     "data": {
      "text/html": [
       "<div>\n",
       "<style scoped>\n",
       "    .dataframe tbody tr th:only-of-type {\n",
       "        vertical-align: middle;\n",
       "    }\n",
       "\n",
       "    .dataframe tbody tr th {\n",
       "        vertical-align: top;\n",
       "    }\n",
       "\n",
       "    .dataframe thead th {\n",
       "        text-align: right;\n",
       "    }\n",
       "</style>\n",
       "<table border=\"1\" class=\"dataframe\">\n",
       "  <thead>\n",
       "    <tr style=\"text-align: right;\">\n",
       "      <th></th>\n",
       "      <th>Index</th>\n",
       "      <th>Timestamp (YYYY-MM-DDThh:mm:ss)</th>\n",
       "      <th>Event Type</th>\n",
       "      <th>Event Subtype</th>\n",
       "      <th>Patient Info</th>\n",
       "      <th>Device Info</th>\n",
       "      <th>Source Device ID</th>\n",
       "      <th>Glucose Value (mg/dL)</th>\n",
       "      <th>Insulin Value (u)</th>\n",
       "      <th>Carb Value (grams)</th>\n",
       "      <th>Duration (hh:mm:ss)</th>\n",
       "      <th>Glucose Rate of Change (mg/dL/min)</th>\n",
       "      <th>Transmitter Time (Long Integer)</th>\n",
       "      <th>Transmitter ID</th>\n",
       "    </tr>\n",
       "  </thead>\n",
       "  <tbody>\n",
       "    <tr>\n",
       "      <th>9</th>\n",
       "      <td>10</td>\n",
       "      <td>2019-01-14T00:02:42</td>\n",
       "      <td>EGV</td>\n",
       "      <td>NaN</td>\n",
       "      <td>NaN</td>\n",
       "      <td>NaN</td>\n",
       "      <td>iPhone</td>\n",
       "      <td>128</td>\n",
       "      <td>NaN</td>\n",
       "      <td>NaN</td>\n",
       "      <td>NaN</td>\n",
       "      <td>NaN</td>\n",
       "      <td>1943354.0</td>\n",
       "      <td>41W22H</td>\n",
       "    </tr>\n",
       "    <tr>\n",
       "      <th>10</th>\n",
       "      <td>11</td>\n",
       "      <td>2019-01-14T00:07:41</td>\n",
       "      <td>EGV</td>\n",
       "      <td>NaN</td>\n",
       "      <td>NaN</td>\n",
       "      <td>NaN</td>\n",
       "      <td>iPhone</td>\n",
       "      <td>129</td>\n",
       "      <td>NaN</td>\n",
       "      <td>NaN</td>\n",
       "      <td>NaN</td>\n",
       "      <td>NaN</td>\n",
       "      <td>1943654.0</td>\n",
       "      <td>41W22H</td>\n",
       "    </tr>\n",
       "    <tr>\n",
       "      <th>11</th>\n",
       "      <td>12</td>\n",
       "      <td>2019-01-14T00:12:41</td>\n",
       "      <td>EGV</td>\n",
       "      <td>NaN</td>\n",
       "      <td>NaN</td>\n",
       "      <td>NaN</td>\n",
       "      <td>iPhone</td>\n",
       "      <td>130</td>\n",
       "      <td>NaN</td>\n",
       "      <td>NaN</td>\n",
       "      <td>NaN</td>\n",
       "      <td>NaN</td>\n",
       "      <td>1943954.0</td>\n",
       "      <td>41W22H</td>\n",
       "    </tr>\n",
       "    <tr>\n",
       "      <th>12</th>\n",
       "      <td>13</td>\n",
       "      <td>2019-01-14T00:17:42</td>\n",
       "      <td>EGV</td>\n",
       "      <td>NaN</td>\n",
       "      <td>NaN</td>\n",
       "      <td>NaN</td>\n",
       "      <td>iPhone</td>\n",
       "      <td>131</td>\n",
       "      <td>NaN</td>\n",
       "      <td>NaN</td>\n",
       "      <td>NaN</td>\n",
       "      <td>NaN</td>\n",
       "      <td>1944254.0</td>\n",
       "      <td>41W22H</td>\n",
       "    </tr>\n",
       "    <tr>\n",
       "      <th>13</th>\n",
       "      <td>14</td>\n",
       "      <td>2019-01-14T00:22:41</td>\n",
       "      <td>EGV</td>\n",
       "      <td>NaN</td>\n",
       "      <td>NaN</td>\n",
       "      <td>NaN</td>\n",
       "      <td>iPhone</td>\n",
       "      <td>132</td>\n",
       "      <td>NaN</td>\n",
       "      <td>NaN</td>\n",
       "      <td>NaN</td>\n",
       "      <td>NaN</td>\n",
       "      <td>1944554.0</td>\n",
       "      <td>41W22H</td>\n",
       "    </tr>\n",
       "  </tbody>\n",
       "</table>\n",
       "</div>"
      ],
      "text/plain": [
       "    Index Timestamp (YYYY-MM-DDThh:mm:ss) Event Type Event Subtype  \\\n",
       "9      10             2019-01-14T00:02:42        EGV           NaN   \n",
       "10     11             2019-01-14T00:07:41        EGV           NaN   \n",
       "11     12             2019-01-14T00:12:41        EGV           NaN   \n",
       "12     13             2019-01-14T00:17:42        EGV           NaN   \n",
       "13     14             2019-01-14T00:22:41        EGV           NaN   \n",
       "\n",
       "   Patient Info Device Info Source Device ID Glucose Value (mg/dL)  \\\n",
       "9           NaN         NaN           iPhone                   128   \n",
       "10          NaN         NaN           iPhone                   129   \n",
       "11          NaN         NaN           iPhone                   130   \n",
       "12          NaN         NaN           iPhone                   131   \n",
       "13          NaN         NaN           iPhone                   132   \n",
       "\n",
       "    Insulin Value (u)  Carb Value (grams) Duration (hh:mm:ss)  \\\n",
       "9                 NaN                 NaN                 NaN   \n",
       "10                NaN                 NaN                 NaN   \n",
       "11                NaN                 NaN                 NaN   \n",
       "12                NaN                 NaN                 NaN   \n",
       "13                NaN                 NaN                 NaN   \n",
       "\n",
       "    Glucose Rate of Change (mg/dL/min)  Transmitter Time (Long Integer)  \\\n",
       "9                                  NaN                        1943354.0   \n",
       "10                                 NaN                        1943654.0   \n",
       "11                                 NaN                        1943954.0   \n",
       "12                                 NaN                        1944254.0   \n",
       "13                                 NaN                        1944554.0   \n",
       "\n",
       "   Transmitter ID  \n",
       "9          41W22H  \n",
       "10         41W22H  \n",
       "11         41W22H  \n",
       "12         41W22H  \n",
       "13         41W22H  "
      ]
     },
     "execution_count": 435,
     "metadata": {},
     "output_type": "execute_result"
    }
   ],
   "source": [
    "print('cgm.shape:', cgm.shape)\n",
    "cgm.head()"
   ]
  },
  {
   "cell_type": "code",
   "execution_count": 436,
   "metadata": {},
   "outputs": [
    {
     "data": {
      "text/plain": [
       "('2019-01-14T00:02:42', '2019-04-13T09:04:08')"
      ]
     },
     "execution_count": 436,
     "metadata": {},
     "output_type": "execute_result"
    }
   ],
   "source": [
    "cgm['Timestamp (YYYY-MM-DDThh:mm:ss)'].min(), cgm['Timestamp (YYYY-MM-DDThh:mm:ss)'].max()"
   ]
  },
  {
   "cell_type": "markdown",
   "metadata": {},
   "source": [
    "### Remove unnecessary columns"
   ]
  },
  {
   "cell_type": "code",
   "execution_count": 437,
   "metadata": {},
   "outputs": [
    {
     "name": "stdout",
     "output_type": "stream",
     "text": [
      "cgm.shape: (25170, 2)\n"
     ]
    },
    {
     "data": {
      "text/html": [
       "<div>\n",
       "<style scoped>\n",
       "    .dataframe tbody tr th:only-of-type {\n",
       "        vertical-align: middle;\n",
       "    }\n",
       "\n",
       "    .dataframe tbody tr th {\n",
       "        vertical-align: top;\n",
       "    }\n",
       "\n",
       "    .dataframe thead th {\n",
       "        text-align: right;\n",
       "    }\n",
       "</style>\n",
       "<table border=\"1\" class=\"dataframe\">\n",
       "  <thead>\n",
       "    <tr style=\"text-align: right;\">\n",
       "      <th></th>\n",
       "      <th>Timestamp</th>\n",
       "      <th>Glucose Value (mg/dL)</th>\n",
       "    </tr>\n",
       "  </thead>\n",
       "  <tbody>\n",
       "    <tr>\n",
       "      <th>9</th>\n",
       "      <td>2019-01-14T00:02:42</td>\n",
       "      <td>128</td>\n",
       "    </tr>\n",
       "    <tr>\n",
       "      <th>10</th>\n",
       "      <td>2019-01-14T00:07:41</td>\n",
       "      <td>129</td>\n",
       "    </tr>\n",
       "    <tr>\n",
       "      <th>11</th>\n",
       "      <td>2019-01-14T00:12:41</td>\n",
       "      <td>130</td>\n",
       "    </tr>\n",
       "    <tr>\n",
       "      <th>12</th>\n",
       "      <td>2019-01-14T00:17:42</td>\n",
       "      <td>131</td>\n",
       "    </tr>\n",
       "    <tr>\n",
       "      <th>13</th>\n",
       "      <td>2019-01-14T00:22:41</td>\n",
       "      <td>132</td>\n",
       "    </tr>\n",
       "  </tbody>\n",
       "</table>\n",
       "</div>"
      ],
      "text/plain": [
       "              Timestamp Glucose Value (mg/dL)\n",
       "9   2019-01-14T00:02:42                   128\n",
       "10  2019-01-14T00:07:41                   129\n",
       "11  2019-01-14T00:12:41                   130\n",
       "12  2019-01-14T00:17:42                   131\n",
       "13  2019-01-14T00:22:41                   132"
      ]
     },
     "execution_count": 437,
     "metadata": {},
     "output_type": "execute_result"
    }
   ],
   "source": [
    "cgm = cgm.drop(columns=['Index', 'Event Type', 'Event Subtype', 'Patient Info', 'Device Info', \n",
    "                        'Source Device ID', 'Insulin Value (u)', 'Carb Value (grams)',\n",
    "                        'Duration (hh:mm:ss)', 'Glucose Rate of Change (mg/dL/min)',\n",
    "                        'Transmitter Time (Long Integer)', 'Transmitter ID'])\n",
    "cgm = cgm.rename(mapper={'Timestamp (YYYY-MM-DDThh:mm:ss)': 'Timestamp'},\n",
    "                         axis=1)\n",
    "print('cgm.shape:', cgm.shape)\n",
    "cgm.head()"
   ]
  },
  {
   "cell_type": "code",
   "execution_count": 438,
   "metadata": {},
   "outputs": [
    {
     "data": {
      "text/html": [
       "<div>\n",
       "<style scoped>\n",
       "    .dataframe tbody tr th:only-of-type {\n",
       "        vertical-align: middle;\n",
       "    }\n",
       "\n",
       "    .dataframe tbody tr th {\n",
       "        vertical-align: top;\n",
       "    }\n",
       "\n",
       "    .dataframe thead th {\n",
       "        text-align: right;\n",
       "    }\n",
       "</style>\n",
       "<table border=\"1\" class=\"dataframe\">\n",
       "  <thead>\n",
       "    <tr style=\"text-align: right;\">\n",
       "      <th></th>\n",
       "      <th>Timestamp</th>\n",
       "      <th>Glucose Value (mg/dL)</th>\n",
       "    </tr>\n",
       "  </thead>\n",
       "  <tbody>\n",
       "    <tr>\n",
       "      <th>9</th>\n",
       "      <td>2019-01-14 00:02:42</td>\n",
       "      <td>128</td>\n",
       "    </tr>\n",
       "    <tr>\n",
       "      <th>10</th>\n",
       "      <td>2019-01-14 00:07:41</td>\n",
       "      <td>129</td>\n",
       "    </tr>\n",
       "    <tr>\n",
       "      <th>11</th>\n",
       "      <td>2019-01-14 00:12:41</td>\n",
       "      <td>130</td>\n",
       "    </tr>\n",
       "    <tr>\n",
       "      <th>12</th>\n",
       "      <td>2019-01-14 00:17:42</td>\n",
       "      <td>131</td>\n",
       "    </tr>\n",
       "    <tr>\n",
       "      <th>13</th>\n",
       "      <td>2019-01-14 00:22:41</td>\n",
       "      <td>132</td>\n",
       "    </tr>\n",
       "  </tbody>\n",
       "</table>\n",
       "</div>"
      ],
      "text/plain": [
       "             Timestamp Glucose Value (mg/dL)\n",
       "9  2019-01-14 00:02:42                   128\n",
       "10 2019-01-14 00:07:41                   129\n",
       "11 2019-01-14 00:12:41                   130\n",
       "12 2019-01-14 00:17:42                   131\n",
       "13 2019-01-14 00:22:41                   132"
      ]
     },
     "execution_count": 438,
     "metadata": {},
     "output_type": "execute_result"
    }
   ],
   "source": [
    "cgm['Timestamp'] = cgm['Timestamp'] \\\n",
    "                    .apply(lambda x: \n",
    "                        pd.Timestamp(x).to_datetime64())\n",
    "cgm.head()"
   ]
  },
  {
   "cell_type": "code",
   "execution_count": 439,
   "metadata": {},
   "outputs": [
    {
     "data": {
      "text/plain": [
       "Timedelta('89 days 09:01:26')"
      ]
     },
     "execution_count": 439,
     "metadata": {},
     "output_type": "execute_result"
    }
   ],
   "source": [
    "cgm.Timestamp.iloc[cgm.shape[0] - 1] - cgm.Timestamp.iloc[0]"
   ]
  },
  {
   "cell_type": "markdown",
   "metadata": {},
   "source": [
    "### Convert timestamp to int and apply check mean value as an initial guess"
   ]
  },
  {
   "cell_type": "code",
   "execution_count": 440,
   "metadata": {},
   "outputs": [
    {
     "name": "stdout",
     "output_type": "stream",
     "text": [
      "cgm.shape: (25170, 2)\n",
      "cgm.shape: (25141, 2)\n"
     ]
    },
    {
     "data": {
      "text/html": [
       "<div>\n",
       "<style scoped>\n",
       "    .dataframe tbody tr th:only-of-type {\n",
       "        vertical-align: middle;\n",
       "    }\n",
       "\n",
       "    .dataframe tbody tr th {\n",
       "        vertical-align: top;\n",
       "    }\n",
       "\n",
       "    .dataframe thead th {\n",
       "        text-align: right;\n",
       "    }\n",
       "</style>\n",
       "<table border=\"1\" class=\"dataframe\">\n",
       "  <thead>\n",
       "    <tr style=\"text-align: right;\">\n",
       "      <th></th>\n",
       "      <th>Timestamp</th>\n",
       "      <th>Glucose Value (mg/dL)</th>\n",
       "    </tr>\n",
       "  </thead>\n",
       "  <tbody>\n",
       "    <tr>\n",
       "      <th>9</th>\n",
       "      <td>1547424162</td>\n",
       "      <td>128.0</td>\n",
       "    </tr>\n",
       "    <tr>\n",
       "      <th>10</th>\n",
       "      <td>1547424461</td>\n",
       "      <td>129.0</td>\n",
       "    </tr>\n",
       "    <tr>\n",
       "      <th>11</th>\n",
       "      <td>1547424761</td>\n",
       "      <td>130.0</td>\n",
       "    </tr>\n",
       "    <tr>\n",
       "      <th>12</th>\n",
       "      <td>1547425062</td>\n",
       "      <td>131.0</td>\n",
       "    </tr>\n",
       "    <tr>\n",
       "      <th>13</th>\n",
       "      <td>1547425361</td>\n",
       "      <td>132.0</td>\n",
       "    </tr>\n",
       "  </tbody>\n",
       "</table>\n",
       "</div>"
      ],
      "text/plain": [
       "     Timestamp  Glucose Value (mg/dL)\n",
       "9   1547424162                  128.0\n",
       "10  1547424461                  129.0\n",
       "11  1547424761                  130.0\n",
       "12  1547425062                  131.0\n",
       "13  1547425361                  132.0"
      ]
     },
     "execution_count": 440,
     "metadata": {},
     "output_type": "execute_result"
    }
   ],
   "source": [
    "print('cgm.shape:', cgm.shape)\n",
    "cgm['Timestamp'] = (cgm.Timestamp.astype(int)/(10**9)).astype(int)\n",
    "\n",
    "# Remove Glucose Values that are not numbers and convert them to numbers\n",
    "cgm = cgm[~cgm['Glucose Value (mg/dL)'].str.contains(\"[a-zA-Z]\").fillna(False)]\n",
    "cgm['Glucose Value (mg/dL)'] = cgm['Glucose Value (mg/dL)'].astype(float)\n",
    "\n",
    "print('cgm.shape:', cgm.shape)\n",
    "cgm.head()"
   ]
  },
  {
   "cell_type": "code",
   "execution_count": 441,
   "metadata": {},
   "outputs": [
    {
     "data": {
      "text/plain": [
       "Timestamp                  int64\n",
       "Glucose Value (mg/dL)    float64\n",
       "dtype: object"
      ]
     },
     "execution_count": 441,
     "metadata": {},
     "output_type": "execute_result"
    }
   ],
   "source": [
    "cgm.dtypes"
   ]
  },
  {
   "cell_type": "code",
   "execution_count": 442,
   "metadata": {},
   "outputs": [
    {
     "name": "stdout",
     "output_type": "stream",
     "text": [
      "X_train.shape: (20113, 1) y_train.shape: (20113,)\n",
      "X_val.shape: (5028, 1) y_val.shape: (5028,)\n"
     ]
    }
   ],
   "source": [
    "def split_train_validate(df, target_name, test_fraction=0.2):\n",
    "\n",
    "    test_size = int(df.shape[0] * test_fraction)\n",
    "    df_train = df.iloc[:df.shape[0]-test_size,  :]\n",
    "    df_val   = df.iloc[ df.shape[0]-test_size:, :]\n",
    "    X_train  = df_train.drop(columns=[target_name])\n",
    "    y_train  = df_train[target_name]\n",
    "    X_val    = df_val.drop(columns=[target_name])\n",
    "    y_val    = df_val[target_name]\n",
    "\n",
    "    print('X_train.shape:', X_train.shape, 'y_train.shape:', y_train.shape)\n",
    "    print('X_val.shape:', X_val.shape, 'y_val.shape:', y_val.shape)\n",
    "    \n",
    "    return X_train, X_val, y_train, y_val\n",
    "\n",
    "X_train, X_val, y_train, y_val = split_train_validate(cgm, \n",
    "                                                     'Glucose Value (mg/dL)', \n",
    "                                                     0.2)"
   ]
  },
  {
   "cell_type": "code",
   "execution_count": 443,
   "metadata": {},
   "outputs": [
    {
     "name": "stdout",
     "output_type": "stream",
     "text": [
      "Average of the training y against validation y gives MAE: 25.52558788655618\n",
      "Average of the training y against itself gives MAE: 23.73030596294413\n"
     ]
    }
   ],
   "source": [
    "def baseline(y_train, y_val):\n",
    "    \n",
    "    mean_value_train = y_train.mean()\n",
    "    \n",
    "    y_pred = [abs(y - mean_value_train) for y in y_val]\n",
    "    mean_value_ypred = np.average(y_pred)\n",
    "    mae = np.average([abs(y - mean_value_ypred) for y in y_pred], axis = 0)\n",
    "    return mae\n",
    "\n",
    "print('Average of the training y against validation y gives MAE:', baseline(y_train, y_val))\n",
    "print('Average of the training y against itself gives MAE:', baseline(y_train, y_train))"
   ]
  },
  {
   "cell_type": "markdown",
   "metadata": {},
   "source": [
    "### Create column with glucose values 30 minutes into the future"
   ]
  },
  {
   "cell_type": "code",
   "execution_count": 444,
   "metadata": {},
   "outputs": [
    {
     "data": {
      "text/html": [
       "<div>\n",
       "<style scoped>\n",
       "    .dataframe tbody tr th:only-of-type {\n",
       "        vertical-align: middle;\n",
       "    }\n",
       "\n",
       "    .dataframe tbody tr th {\n",
       "        vertical-align: top;\n",
       "    }\n",
       "\n",
       "    .dataframe thead th {\n",
       "        text-align: right;\n",
       "    }\n",
       "</style>\n",
       "<table border=\"1\" class=\"dataframe\">\n",
       "  <thead>\n",
       "    <tr style=\"text-align: right;\">\n",
       "      <th></th>\n",
       "      <th>Timestamp</th>\n",
       "      <th>Glucose Value (mg/dL)</th>\n",
       "    </tr>\n",
       "  </thead>\n",
       "  <tbody>\n",
       "    <tr>\n",
       "      <th>9</th>\n",
       "      <td>1547424162</td>\n",
       "      <td>128.0</td>\n",
       "    </tr>\n",
       "    <tr>\n",
       "      <th>10</th>\n",
       "      <td>1547424461</td>\n",
       "      <td>129.0</td>\n",
       "    </tr>\n",
       "    <tr>\n",
       "      <th>11</th>\n",
       "      <td>1547424761</td>\n",
       "      <td>130.0</td>\n",
       "    </tr>\n",
       "    <tr>\n",
       "      <th>12</th>\n",
       "      <td>1547425062</td>\n",
       "      <td>131.0</td>\n",
       "    </tr>\n",
       "    <tr>\n",
       "      <th>13</th>\n",
       "      <td>1547425361</td>\n",
       "      <td>132.0</td>\n",
       "    </tr>\n",
       "  </tbody>\n",
       "</table>\n",
       "</div>"
      ],
      "text/plain": [
       "     Timestamp  Glucose Value (mg/dL)\n",
       "9   1547424162                  128.0\n",
       "10  1547424461                  129.0\n",
       "11  1547424761                  130.0\n",
       "12  1547425062                  131.0\n",
       "13  1547425361                  132.0"
      ]
     },
     "execution_count": 444,
     "metadata": {},
     "output_type": "execute_result"
    }
   ],
   "source": [
    "cgm.head()"
   ]
  },
  {
   "cell_type": "code",
   "execution_count": 445,
   "metadata": {},
   "outputs": [],
   "source": [
    "def wrangle(df, minutes):\n",
    "    seconds = minutes * 60\n",
    "    xs = df['Timestamp'].values\n",
    "    ys = []\n",
    "    for i in range(df.shape[0]):\n",
    "        y = np.interp(xs[i] + seconds,\n",
    "                      df['Timestamp'],\n",
    "                      df['Glucose Value (mg/dL)'])\n",
    "        ys.append(y)\n",
    "    print('df.shape:', df.shape)\n",
    "    print('len(ys):', len(ys))\n",
    "    df[str(minutes) + ' minutes'] = ys\n",
    "    return df"
   ]
  },
  {
   "cell_type": "code",
   "execution_count": 446,
   "metadata": {},
   "outputs": [
    {
     "name": "stdout",
     "output_type": "stream",
     "text": [
      "df.shape: (25141, 2)\n",
      "len(ys): 25141\n",
      "cgm.shape: (25141, 3)\n"
     ]
    },
    {
     "data": {
      "text/html": [
       "<div>\n",
       "<style scoped>\n",
       "    .dataframe tbody tr th:only-of-type {\n",
       "        vertical-align: middle;\n",
       "    }\n",
       "\n",
       "    .dataframe tbody tr th {\n",
       "        vertical-align: top;\n",
       "    }\n",
       "\n",
       "    .dataframe thead th {\n",
       "        text-align: right;\n",
       "    }\n",
       "</style>\n",
       "<table border=\"1\" class=\"dataframe\">\n",
       "  <thead>\n",
       "    <tr style=\"text-align: right;\">\n",
       "      <th></th>\n",
       "      <th>Timestamp</th>\n",
       "      <th>Glucose Value (mg/dL)</th>\n",
       "      <th>30 minutes</th>\n",
       "    </tr>\n",
       "  </thead>\n",
       "  <tbody>\n",
       "    <tr>\n",
       "      <th>9</th>\n",
       "      <td>1547424162</td>\n",
       "      <td>128.0</td>\n",
       "      <td>137.0</td>\n",
       "    </tr>\n",
       "    <tr>\n",
       "      <th>10</th>\n",
       "      <td>1547424461</td>\n",
       "      <td>129.0</td>\n",
       "      <td>139.0</td>\n",
       "    </tr>\n",
       "    <tr>\n",
       "      <th>11</th>\n",
       "      <td>1547424761</td>\n",
       "      <td>130.0</td>\n",
       "      <td>139.0</td>\n",
       "    </tr>\n",
       "    <tr>\n",
       "      <th>12</th>\n",
       "      <td>1547425062</td>\n",
       "      <td>131.0</td>\n",
       "      <td>138.0</td>\n",
       "    </tr>\n",
       "    <tr>\n",
       "      <th>13</th>\n",
       "      <td>1547425361</td>\n",
       "      <td>132.0</td>\n",
       "      <td>139.0</td>\n",
       "    </tr>\n",
       "  </tbody>\n",
       "</table>\n",
       "</div>"
      ],
      "text/plain": [
       "     Timestamp  Glucose Value (mg/dL)  30 minutes\n",
       "9   1547424162                  128.0       137.0\n",
       "10  1547424461                  129.0       139.0\n",
       "11  1547424761                  130.0       139.0\n",
       "12  1547425062                  131.0       138.0\n",
       "13  1547425361                  132.0       139.0"
      ]
     },
     "execution_count": 446,
     "metadata": {},
     "output_type": "execute_result"
    }
   ],
   "source": [
    "cgm = wrangle(cgm, 30)\n",
    "print('cgm.shape:', cgm.shape)\n",
    "cgm.head()"
   ]
  },
  {
   "cell_type": "code",
   "execution_count": 447,
   "metadata": {},
   "outputs": [
    {
     "data": {
      "text/html": [
       "<div>\n",
       "<style scoped>\n",
       "    .dataframe tbody tr th:only-of-type {\n",
       "        vertical-align: middle;\n",
       "    }\n",
       "\n",
       "    .dataframe tbody tr th {\n",
       "        vertical-align: top;\n",
       "    }\n",
       "\n",
       "    .dataframe thead th {\n",
       "        text-align: right;\n",
       "    }\n",
       "</style>\n",
       "<table border=\"1\" class=\"dataframe\">\n",
       "  <thead>\n",
       "    <tr style=\"text-align: right;\">\n",
       "      <th></th>\n",
       "      <th>Timestamp</th>\n",
       "      <th>Glucose Value (mg/dL)</th>\n",
       "      <th>30 minutes</th>\n",
       "    </tr>\n",
       "  </thead>\n",
       "  <tbody>\n",
       "    <tr>\n",
       "      <th>25284</th>\n",
       "      <td>1555143548</td>\n",
       "      <td>99.0</td>\n",
       "      <td>90.0</td>\n",
       "    </tr>\n",
       "    <tr>\n",
       "      <th>25285</th>\n",
       "      <td>1555143848</td>\n",
       "      <td>97.0</td>\n",
       "      <td>88.0</td>\n",
       "    </tr>\n",
       "    <tr>\n",
       "      <th>25286</th>\n",
       "      <td>1555144148</td>\n",
       "      <td>96.0</td>\n",
       "      <td>86.0</td>\n",
       "    </tr>\n",
       "    <tr>\n",
       "      <th>25287</th>\n",
       "      <td>1555144448</td>\n",
       "      <td>95.0</td>\n",
       "      <td>87.0</td>\n",
       "    </tr>\n",
       "    <tr>\n",
       "      <th>25288</th>\n",
       "      <td>1555144748</td>\n",
       "      <td>93.0</td>\n",
       "      <td>87.0</td>\n",
       "    </tr>\n",
       "    <tr>\n",
       "      <th>25289</th>\n",
       "      <td>1555145048</td>\n",
       "      <td>92.0</td>\n",
       "      <td>87.0</td>\n",
       "    </tr>\n",
       "    <tr>\n",
       "      <th>25290</th>\n",
       "      <td>1555145348</td>\n",
       "      <td>90.0</td>\n",
       "      <td>87.0</td>\n",
       "    </tr>\n",
       "    <tr>\n",
       "      <th>25291</th>\n",
       "      <td>1555145648</td>\n",
       "      <td>88.0</td>\n",
       "      <td>87.0</td>\n",
       "    </tr>\n",
       "    <tr>\n",
       "      <th>25292</th>\n",
       "      <td>1555145948</td>\n",
       "      <td>86.0</td>\n",
       "      <td>87.0</td>\n",
       "    </tr>\n",
       "    <tr>\n",
       "      <th>25293</th>\n",
       "      <td>1555146248</td>\n",
       "      <td>87.0</td>\n",
       "      <td>87.0</td>\n",
       "    </tr>\n",
       "  </tbody>\n",
       "</table>\n",
       "</div>"
      ],
      "text/plain": [
       "        Timestamp  Glucose Value (mg/dL)  30 minutes\n",
       "25284  1555143548                   99.0        90.0\n",
       "25285  1555143848                   97.0        88.0\n",
       "25286  1555144148                   96.0        86.0\n",
       "25287  1555144448                   95.0        87.0\n",
       "25288  1555144748                   93.0        87.0\n",
       "25289  1555145048                   92.0        87.0\n",
       "25290  1555145348                   90.0        87.0\n",
       "25291  1555145648                   88.0        87.0\n",
       "25292  1555145948                   86.0        87.0\n",
       "25293  1555146248                   87.0        87.0"
      ]
     },
     "execution_count": 447,
     "metadata": {},
     "output_type": "execute_result"
    }
   ],
   "source": [
    "cgm.tail(10)"
   ]
  },
  {
   "cell_type": "markdown",
   "metadata": {},
   "source": [
    "### Must lop off the last 30 minutes of data, since we don't have data to predict the last 30 minutes. This is why we're getting a linear interpolated value of 87 for the last few data points"
   ]
  },
  {
   "cell_type": "code",
   "execution_count": 448,
   "metadata": {},
   "outputs": [
    {
     "name": "stdout",
     "output_type": "stream",
     "text": [
      "X_train.shape: (20113, 2) y_train.shape: (20113,)\n",
      "X_val.shape: (5028, 2) y_val.shape: (5028,)\n"
     ]
    }
   ],
   "source": [
    "X_train, X_val, y_train, y_val = split_train_validate(cgm, '30 minutes', 0.2)"
   ]
  },
  {
   "cell_type": "code",
   "execution_count": 449,
   "metadata": {},
   "outputs": [],
   "source": [
    "param_grid = {\n",
    "# XGBRegressor(base_score=0.5, booster='gbtree', colsample_bylevel=1,\n",
    "#        colsample_bytree=1, gamma=0, importance_type='gain',\n",
    "#        learning_rate=0.06, max_delta_step=0, max_depth=2,\n",
    "#        min_child_weight=1, missing=None, n_estimators=60, n_jobs=1,\n",
    "#        nthread=None, objective='reg:linear', random_state=0, reg_alpha=0,\n",
    "#        reg_lambda=1, scale_pos_weight=1, seed=None, silent=True,\n",
    "#        subsample=1)\n",
    "# gave us +/- 18.66 mg/dL\n",
    "    \n",
    "    'learning_rate': [0.05, 0.06, 0.07, 0.08],\n",
    "    'n_estimators':  [40, 50, 60],\n",
    "    'max_depth': [2],\n",
    "#     'subsample': [0.5, 0.75, 0.9],\n",
    "#     'colsample_bytree': [0.1, 0.2, 0.3, 0.4],\n",
    "#     'gamma': [0, 1, 2]\n",
    "}\n",
    "\n",
    "gridsearch = GridSearchCV(XGBRegressor(),\n",
    "                          param_grid=param_grid, \n",
    "                          # scoring='roc_auc', \n",
    "                          cv=3, n_jobs=-1,\n",
    "                          return_train_score=True, verbose=10)"
   ]
  },
  {
   "cell_type": "code",
   "execution_count": 450,
   "metadata": {},
   "outputs": [
    {
     "name": "stdout",
     "output_type": "stream",
     "text": [
      "Fitting 3 folds for each of 12 candidates, totalling 36 fits\n"
     ]
    },
    {
     "name": "stderr",
     "output_type": "stream",
     "text": [
      "[Parallel(n_jobs=-1)]: Using backend LokyBackend with 8 concurrent workers.\n",
      "[Parallel(n_jobs=-1)]: Done   2 tasks      | elapsed:    2.5s\n",
      "[Parallel(n_jobs=-1)]: Done   9 tasks      | elapsed:    2.8s\n",
      "[Parallel(n_jobs=-1)]: Done  16 tasks      | elapsed:    3.0s\n",
      "[Parallel(n_jobs=-1)]: Done  25 out of  36 | elapsed:    3.3s remaining:    1.4s\n",
      "[Parallel(n_jobs=-1)]: Done  29 out of  36 | elapsed:    3.3s remaining:    0.8s\n",
      "[Parallel(n_jobs=-1)]: Done  33 out of  36 | elapsed:    3.4s remaining:    0.3s\n",
      "[Parallel(n_jobs=-1)]: Done  36 out of  36 | elapsed:    3.5s finished\n",
      "/anaconda3/lib/python3.7/site-packages/xgboost/core.py:587: FutureWarning: Series.base is deprecated and will be removed in a future version\n",
      "  if getattr(data, 'base', None) is not None and \\\n",
      "/anaconda3/lib/python3.7/site-packages/xgboost/core.py:588: FutureWarning: Series.base is deprecated and will be removed in a future version\n",
      "  data.base is not None and isinstance(data, np.ndarray) \\\n"
     ]
    },
    {
     "data": {
      "text/plain": [
       "GridSearchCV(cv=3, error_score='raise-deprecating',\n",
       "       estimator=XGBRegressor(base_score=0.5, booster='gbtree', colsample_bylevel=1,\n",
       "       colsample_bytree=1, gamma=0, importance_type='gain',\n",
       "       learning_rate=0.1, max_delta_step=0, max_depth=3,\n",
       "       min_child_weight=1, missing=None, n_estimators=100, n_jobs=1,\n",
       "       nthread=None, objective='reg:linear', random_state=0, reg_alpha=0,\n",
       "       reg_lambda=1, scale_pos_weight=1, seed=None, silent=True,\n",
       "       subsample=1),\n",
       "       fit_params=None, iid='warn', n_jobs=-1,\n",
       "       param_grid={'learning_rate': [0.05, 0.06, 0.07, 0.08], 'n_estimators': [40, 50, 60], 'max_depth': [2]},\n",
       "       pre_dispatch='2*n_jobs', refit=True, return_train_score=True,\n",
       "       scoring=None, verbose=10)"
      ]
     },
     "execution_count": 450,
     "metadata": {},
     "output_type": "execute_result"
    }
   ],
   "source": [
    "gridsearch.fit(X_train, y_train)"
   ]
  },
  {
   "cell_type": "code",
   "execution_count": 451,
   "metadata": {},
   "outputs": [
    {
     "data": {
      "text/plain": [
       "XGBRegressor(base_score=0.5, booster='gbtree', colsample_bylevel=1,\n",
       "       colsample_bytree=1, gamma=0, importance_type='gain',\n",
       "       learning_rate=0.06, max_delta_step=0, max_depth=2,\n",
       "       min_child_weight=1, missing=None, n_estimators=60, n_jobs=1,\n",
       "       nthread=None, objective='reg:linear', random_state=0, reg_alpha=0,\n",
       "       reg_lambda=1, scale_pos_weight=1, seed=None, silent=True,\n",
       "       subsample=1)"
      ]
     },
     "execution_count": 451,
     "metadata": {},
     "output_type": "execute_result"
    }
   ],
   "source": [
    "gridsearch.best_estimator_"
   ]
  },
  {
   "cell_type": "code",
   "execution_count": 452,
   "metadata": {},
   "outputs": [
    {
     "data": {
      "text/plain": [
       "array([0.6213709 , 0.71610674, 0.75119816, 0.70554766, 0.75182082,\n",
       "       0.76605401, 0.74282767, 0.76492707, 0.77093251, 0.75934217,\n",
       "       0.76999521, 0.77302234])"
      ]
     },
     "execution_count": 452,
     "metadata": {},
     "output_type": "execute_result"
    }
   ],
   "source": [
    "gridsearch.cv_results_['mean_train_score']"
   ]
  },
  {
   "cell_type": "code",
   "execution_count": 453,
   "metadata": {},
   "outputs": [
    {
     "data": {
      "text/plain": [
       "0.7319854928739806"
      ]
     },
     "execution_count": 453,
     "metadata": {},
     "output_type": "execute_result"
    }
   ],
   "source": [
    "gridsearch.cv_results_['mean_test_score'].mean()"
   ]
  },
  {
   "cell_type": "code",
   "execution_count": 454,
   "metadata": {},
   "outputs": [
    {
     "name": "stdout",
     "output_type": "stream",
     "text": [
      "mae: 18.663473640513125\n",
      "rmse: 25.94671565396476\n"
     ]
    }
   ],
   "source": [
    "y_pred = gridsearch.predict(X_val)\n",
    "print('mae:', mean_absolute_error(y_val, y_pred))\n",
    "print('rmse:', np.sqrt(mean_squared_error(y_val, y_pred)))"
   ]
  },
  {
   "cell_type": "code",
   "execution_count": 455,
   "metadata": {},
   "outputs": [
    {
     "name": "stdout",
     "output_type": "stream",
     "text": [
      "len(y_pred): 5028\n"
     ]
    }
   ],
   "source": [
    "print('len(y_pred):', len(y_pred))"
   ]
  },
  {
   "cell_type": "markdown",
   "metadata": {},
   "source": [
    "### Write out the model and the related data to the filesystem"
   ]
  },
  {
   "cell_type": "code",
   "execution_count": 457,
   "metadata": {},
   "outputs": [],
   "source": [
    "with open('diabetesmanager/data/private/model', 'wb') as f:\n",
    "    pickle.dump(gridsearch, f)"
   ]
  },
  {
   "cell_type": "code",
   "execution_count": 458,
   "metadata": {},
   "outputs": [
    {
     "data": {
      "text/html": [
       "<div>\n",
       "<style scoped>\n",
       "    .dataframe tbody tr th:only-of-type {\n",
       "        vertical-align: middle;\n",
       "    }\n",
       "\n",
       "    .dataframe tbody tr th {\n",
       "        vertical-align: top;\n",
       "    }\n",
       "\n",
       "    .dataframe thead th {\n",
       "        text-align: right;\n",
       "    }\n",
       "</style>\n",
       "<table border=\"1\" class=\"dataframe\">\n",
       "  <thead>\n",
       "    <tr style=\"text-align: right;\">\n",
       "      <th></th>\n",
       "      <th>Timestamp</th>\n",
       "      <th>Glucose Value (mg/dL)</th>\n",
       "      <th>30 minutes</th>\n",
       "    </tr>\n",
       "  </thead>\n",
       "  <tbody>\n",
       "    <tr>\n",
       "      <th>9</th>\n",
       "      <td>1547424162</td>\n",
       "      <td>128.0</td>\n",
       "      <td>137.000000</td>\n",
       "    </tr>\n",
       "    <tr>\n",
       "      <th>10</th>\n",
       "      <td>1547424461</td>\n",
       "      <td>129.0</td>\n",
       "      <td>139.000000</td>\n",
       "    </tr>\n",
       "    <tr>\n",
       "      <th>11</th>\n",
       "      <td>1547424761</td>\n",
       "      <td>130.0</td>\n",
       "      <td>139.000000</td>\n",
       "    </tr>\n",
       "    <tr>\n",
       "      <th>12</th>\n",
       "      <td>1547425062</td>\n",
       "      <td>131.0</td>\n",
       "      <td>138.000000</td>\n",
       "    </tr>\n",
       "    <tr>\n",
       "      <th>13</th>\n",
       "      <td>1547425361</td>\n",
       "      <td>132.0</td>\n",
       "      <td>139.000000</td>\n",
       "    </tr>\n",
       "    <tr>\n",
       "      <th>14</th>\n",
       "      <td>1547425662</td>\n",
       "      <td>133.0</td>\n",
       "      <td>140.006667</td>\n",
       "    </tr>\n",
       "    <tr>\n",
       "      <th>15</th>\n",
       "      <td>1547425962</td>\n",
       "      <td>137.0</td>\n",
       "      <td>142.020000</td>\n",
       "    </tr>\n",
       "    <tr>\n",
       "      <th>16</th>\n",
       "      <td>1547426261</td>\n",
       "      <td>139.0</td>\n",
       "      <td>148.000000</td>\n",
       "    </tr>\n",
       "    <tr>\n",
       "      <th>17</th>\n",
       "      <td>1547426561</td>\n",
       "      <td>139.0</td>\n",
       "      <td>153.980066</td>\n",
       "    </tr>\n",
       "    <tr>\n",
       "      <th>18</th>\n",
       "      <td>1547426862</td>\n",
       "      <td>138.0</td>\n",
       "      <td>159.000000</td>\n",
       "    </tr>\n",
       "    <tr>\n",
       "      <th>19</th>\n",
       "      <td>1547427161</td>\n",
       "      <td>139.0</td>\n",
       "      <td>162.000000</td>\n",
       "    </tr>\n",
       "    <tr>\n",
       "      <th>20</th>\n",
       "      <td>1547427461</td>\n",
       "      <td>140.0</td>\n",
       "      <td>162.000000</td>\n",
       "    </tr>\n",
       "    <tr>\n",
       "      <th>21</th>\n",
       "      <td>1547427761</td>\n",
       "      <td>142.0</td>\n",
       "      <td>162.000000</td>\n",
       "    </tr>\n",
       "    <tr>\n",
       "      <th>22</th>\n",
       "      <td>1547428061</td>\n",
       "      <td>148.0</td>\n",
       "      <td>162.000000</td>\n",
       "    </tr>\n",
       "    <tr>\n",
       "      <th>23</th>\n",
       "      <td>1547428362</td>\n",
       "      <td>154.0</td>\n",
       "      <td>164.006667</td>\n",
       "    </tr>\n",
       "    <tr>\n",
       "      <th>24</th>\n",
       "      <td>1547428662</td>\n",
       "      <td>159.0</td>\n",
       "      <td>166.016667</td>\n",
       "    </tr>\n",
       "    <tr>\n",
       "      <th>25</th>\n",
       "      <td>1547428961</td>\n",
       "      <td>162.0</td>\n",
       "      <td>171.000000</td>\n",
       "    </tr>\n",
       "    <tr>\n",
       "      <th>26</th>\n",
       "      <td>1547429262</td>\n",
       "      <td>162.0</td>\n",
       "      <td>175.000000</td>\n",
       "    </tr>\n",
       "    <tr>\n",
       "      <th>27</th>\n",
       "      <td>1547429562</td>\n",
       "      <td>162.0</td>\n",
       "      <td>175.990000</td>\n",
       "    </tr>\n",
       "    <tr>\n",
       "      <th>28</th>\n",
       "      <td>1547429861</td>\n",
       "      <td>162.0</td>\n",
       "      <td>173.000000</td>\n",
       "    </tr>\n",
       "    <tr>\n",
       "      <th>29</th>\n",
       "      <td>1547430161</td>\n",
       "      <td>164.0</td>\n",
       "      <td>167.019934</td>\n",
       "    </tr>\n",
       "    <tr>\n",
       "      <th>30</th>\n",
       "      <td>1547430461</td>\n",
       "      <td>166.0</td>\n",
       "      <td>166.000000</td>\n",
       "    </tr>\n",
       "    <tr>\n",
       "      <th>31</th>\n",
       "      <td>1547430761</td>\n",
       "      <td>171.0</td>\n",
       "      <td>166.000000</td>\n",
       "    </tr>\n",
       "    <tr>\n",
       "      <th>32</th>\n",
       "      <td>1547431062</td>\n",
       "      <td>175.0</td>\n",
       "      <td>165.000000</td>\n",
       "    </tr>\n",
       "    <tr>\n",
       "      <th>33</th>\n",
       "      <td>1547431361</td>\n",
       "      <td>176.0</td>\n",
       "      <td>165.000000</td>\n",
       "    </tr>\n",
       "    <tr>\n",
       "      <th>34</th>\n",
       "      <td>1547431661</td>\n",
       "      <td>173.0</td>\n",
       "      <td>166.000000</td>\n",
       "    </tr>\n",
       "    <tr>\n",
       "      <th>35</th>\n",
       "      <td>1547431962</td>\n",
       "      <td>167.0</td>\n",
       "      <td>168.000000</td>\n",
       "    </tr>\n",
       "    <tr>\n",
       "      <th>36</th>\n",
       "      <td>1547432261</td>\n",
       "      <td>166.0</td>\n",
       "      <td>165.010000</td>\n",
       "    </tr>\n",
       "    <tr>\n",
       "      <th>37</th>\n",
       "      <td>1547432562</td>\n",
       "      <td>166.0</td>\n",
       "      <td>162.986711</td>\n",
       "    </tr>\n",
       "    <tr>\n",
       "      <th>38</th>\n",
       "      <td>1547432861</td>\n",
       "      <td>165.0</td>\n",
       "      <td>159.013289</td>\n",
       "    </tr>\n",
       "  </tbody>\n",
       "</table>\n",
       "</div>"
      ],
      "text/plain": [
       "     Timestamp  Glucose Value (mg/dL)  30 minutes\n",
       "9   1547424162                  128.0  137.000000\n",
       "10  1547424461                  129.0  139.000000\n",
       "11  1547424761                  130.0  139.000000\n",
       "12  1547425062                  131.0  138.000000\n",
       "13  1547425361                  132.0  139.000000\n",
       "14  1547425662                  133.0  140.006667\n",
       "15  1547425962                  137.0  142.020000\n",
       "16  1547426261                  139.0  148.000000\n",
       "17  1547426561                  139.0  153.980066\n",
       "18  1547426862                  138.0  159.000000\n",
       "19  1547427161                  139.0  162.000000\n",
       "20  1547427461                  140.0  162.000000\n",
       "21  1547427761                  142.0  162.000000\n",
       "22  1547428061                  148.0  162.000000\n",
       "23  1547428362                  154.0  164.006667\n",
       "24  1547428662                  159.0  166.016667\n",
       "25  1547428961                  162.0  171.000000\n",
       "26  1547429262                  162.0  175.000000\n",
       "27  1547429562                  162.0  175.990000\n",
       "28  1547429861                  162.0  173.000000\n",
       "29  1547430161                  164.0  167.019934\n",
       "30  1547430461                  166.0  166.000000\n",
       "31  1547430761                  171.0  166.000000\n",
       "32  1547431062                  175.0  165.000000\n",
       "33  1547431361                  176.0  165.000000\n",
       "34  1547431661                  173.0  166.000000\n",
       "35  1547431962                  167.0  168.000000\n",
       "36  1547432261                  166.0  165.010000\n",
       "37  1547432562                  166.0  162.986711\n",
       "38  1547432861                  165.0  159.013289"
      ]
     },
     "execution_count": 458,
     "metadata": {},
     "output_type": "execute_result"
    }
   ],
   "source": [
    "cgm.head(30)"
   ]
  },
  {
   "cell_type": "code",
   "execution_count": 471,
   "metadata": {},
   "outputs": [
    {
     "name": "stdout",
     "output_type": "stream",
     "text": [
      "output.shape: (25135, 3)\n"
     ]
    }
   ],
   "source": [
    "# Calculate the shift for y_pred so it matches the Glucose values\n",
    "def shift_predictions_concat(df, minutes, y_pred):\n",
    "    seconds = minutes * 60\n",
    "    first_timestamp = df.Timestamp.iloc[0]\n",
    "    timestamp = df.Timestamp.values\n",
    "    shift = None\n",
    "    for i in range(df.shape[0]):\n",
    "        t = timestamp[i] - first_timestamp\n",
    "        if t < seconds:\n",
    "            continue\n",
    "        shift = i\n",
    "        break\n",
    "\n",
    "    df2 = df.copy().iloc[shift:, :].dropna()\n",
    "    \n",
    "    y_pred2 = y_pred[:df2.shape[0]]\n",
    "    y_pred = y_pred.reset_index(drop=True)\n",
    "\n",
    "    df2 = df2.reset_index(drop=True)\n",
    "    df2 = pd.concat([df2, y_pred2], axis=1, ignore_index=True)\n",
    "    df2 = df2.drop(df2.columns[2], axis=1)\n",
    "    df2 = df2.rename(columns={0: 'Timestamp', \n",
    "                              1: 'Measured', \n",
    "                              3: 'Prediction'})\n",
    "\n",
    "    return df2\n",
    "\n",
    "y_pred_all = gridsearch.predict(cgm.drop(columns=['30 minutes'], axis=1))\n",
    "output = shift_predictions_concat(cgm, 30, pd.Series(y_pred_all))\n",
    "print('output.shape:', output.shape)\n",
    "\n",
    "with open('diabetesmanager/data/private/table', 'wb') as f:\n",
    "    pickle.dump(output, f)"
   ]
  },
  {
   "cell_type": "code",
   "execution_count": 460,
   "metadata": {},
   "outputs": [
    {
     "data": {
      "text/html": [
       "<div>\n",
       "<style scoped>\n",
       "    .dataframe tbody tr th:only-of-type {\n",
       "        vertical-align: middle;\n",
       "    }\n",
       "\n",
       "    .dataframe tbody tr th {\n",
       "        vertical-align: top;\n",
       "    }\n",
       "\n",
       "    .dataframe thead th {\n",
       "        text-align: right;\n",
       "    }\n",
       "</style>\n",
       "<table border=\"1\" class=\"dataframe\">\n",
       "  <thead>\n",
       "    <tr style=\"text-align: right;\">\n",
       "      <th></th>\n",
       "      <th>Timestamp</th>\n",
       "      <th>Measured</th>\n",
       "      <th>Prediction</th>\n",
       "    </tr>\n",
       "  </thead>\n",
       "  <tbody>\n",
       "    <tr>\n",
       "      <th>25130</th>\n",
       "      <td>1555145048</td>\n",
       "      <td>92.0</td>\n",
       "      <td>100.911797</td>\n",
       "    </tr>\n",
       "    <tr>\n",
       "      <th>25131</th>\n",
       "      <td>1555145348</td>\n",
       "      <td>90.0</td>\n",
       "      <td>100.911797</td>\n",
       "    </tr>\n",
       "    <tr>\n",
       "      <th>25132</th>\n",
       "      <td>1555145648</td>\n",
       "      <td>88.0</td>\n",
       "      <td>98.500099</td>\n",
       "    </tr>\n",
       "    <tr>\n",
       "      <th>25133</th>\n",
       "      <td>1555145948</td>\n",
       "      <td>86.0</td>\n",
       "      <td>98.500099</td>\n",
       "    </tr>\n",
       "    <tr>\n",
       "      <th>25134</th>\n",
       "      <td>1555146248</td>\n",
       "      <td>87.0</td>\n",
       "      <td>98.104942</td>\n",
       "    </tr>\n",
       "  </tbody>\n",
       "</table>\n",
       "</div>"
      ],
      "text/plain": [
       "        Timestamp  Measured  Prediction\n",
       "25130  1555145048      92.0  100.911797\n",
       "25131  1555145348      90.0  100.911797\n",
       "25132  1555145648      88.0   98.500099\n",
       "25133  1555145948      86.0   98.500099\n",
       "25134  1555146248      87.0   98.104942"
      ]
     },
     "execution_count": 460,
     "metadata": {},
     "output_type": "execute_result"
    }
   ],
   "source": [
    "output.tail()"
   ]
  },
  {
   "cell_type": "code",
   "execution_count": 461,
   "metadata": {},
   "outputs": [
    {
     "name": "stdout",
     "output_type": "stream",
     "text": [
      "mae: 18.080026025356627\n",
      "rmse: 24.95112232650992\n"
     ]
    }
   ],
   "source": [
    "print('mae:', mean_absolute_error(output['Measured'], output['Prediction']))\n",
    "print('rmse:', np.sqrt(mean_squared_error(output['Measured'], output['Prediction'])))"
   ]
  },
  {
   "cell_type": "markdown",
   "metadata": {},
   "source": [
    "### Since we have CGM data from 2019-01-14 thru 2019-04-13, we can take the pump data from this date range as well"
   ]
  },
  {
   "cell_type": "markdown",
   "metadata": {},
   "source": [
    "## Pump data"
   ]
  },
  {
   "cell_type": "code",
   "execution_count": 462,
   "metadata": {},
   "outputs": [
    {
     "name": "stdout",
     "output_type": "stream",
     "text": [
      "(4507, 7)\n"
     ]
    },
    {
     "data": {
      "text/html": [
       "<div>\n",
       "<style scoped>\n",
       "    .dataframe tbody tr th:only-of-type {\n",
       "        vertical-align: middle;\n",
       "    }\n",
       "\n",
       "    .dataframe tbody tr th {\n",
       "        vertical-align: top;\n",
       "    }\n",
       "\n",
       "    .dataframe thead th {\n",
       "        text-align: right;\n",
       "    }\n",
       "</style>\n",
       "<table border=\"1\" class=\"dataframe\">\n",
       "  <thead>\n",
       "    <tr style=\"text-align: right;\">\n",
       "      <th></th>\n",
       "      <th>Datetime</th>\n",
       "      <th>Type</th>\n",
       "      <th>Value</th>\n",
       "      <th>Unit</th>\n",
       "      <th>Description</th>\n",
       "      <th>Other Info</th>\n",
       "      <th>Comment</th>\n",
       "    </tr>\n",
       "  </thead>\n",
       "  <tbody>\n",
       "    <tr>\n",
       "      <th>0</th>\n",
       "      <td>2018-08-19 00:00:00</td>\n",
       "      <td>Insulin Summary</td>\n",
       "      <td>12.6</td>\n",
       "      <td>units</td>\n",
       "      <td>End of Day Basal Total</td>\n",
       "      <td>Basal</td>\n",
       "      <td>NaN</td>\n",
       "    </tr>\n",
       "    <tr>\n",
       "      <th>1</th>\n",
       "      <td>2018-08-19 00:00:00</td>\n",
       "      <td>Insulin Summary</td>\n",
       "      <td>16.7</td>\n",
       "      <td>units</td>\n",
       "      <td>Bolus-End of Day General Bolus Total</td>\n",
       "      <td>Bolus</td>\n",
       "      <td>NaN</td>\n",
       "    </tr>\n",
       "    <tr>\n",
       "      <th>2</th>\n",
       "      <td>2018-08-19 10:28:00</td>\n",
       "      <td>Basal Insulin</td>\n",
       "      <td>1.3</td>\n",
       "      <td>units</td>\n",
       "      <td>Pod activated.Basal rate set to 1.30 units/hour.</td>\n",
       "      <td>Basal</td>\n",
       "      <td>Pod activated.Basal rate set to 1.30 units/hour.</td>\n",
       "    </tr>\n",
       "    <tr>\n",
       "      <th>3</th>\n",
       "      <td>2018-08-19 10:30:00</td>\n",
       "      <td>Basal Insulin</td>\n",
       "      <td>1.0</td>\n",
       "      <td>units</td>\n",
       "      <td>Basal rate set to 1.00 units/hour.</td>\n",
       "      <td>Basal</td>\n",
       "      <td>Basal rate set to 1.00 units/hour.</td>\n",
       "    </tr>\n",
       "    <tr>\n",
       "      <th>4</th>\n",
       "      <td>2018-08-19 10:44:00</td>\n",
       "      <td>Bolus Insulin</td>\n",
       "      <td>2.0</td>\n",
       "      <td>units</td>\n",
       "      <td>Bolus-General Bolus.</td>\n",
       "      <td>Bolus</td>\n",
       "      <td>Suggested Bolus: ; Programmed Meal: ; Programm...</td>\n",
       "    </tr>\n",
       "  </tbody>\n",
       "</table>\n",
       "</div>"
      ],
      "text/plain": [
       "             Datetime             Type  Value   Unit  \\\n",
       "0 2018-08-19 00:00:00  Insulin Summary   12.6  units   \n",
       "1 2018-08-19 00:00:00  Insulin Summary   16.7  units   \n",
       "2 2018-08-19 10:28:00    Basal Insulin    1.3  units   \n",
       "3 2018-08-19 10:30:00    Basal Insulin    1.0  units   \n",
       "4 2018-08-19 10:44:00    Bolus Insulin    2.0  units   \n",
       "\n",
       "                                        Description Other Info  \\\n",
       "0                            End of Day Basal Total      Basal   \n",
       "1              Bolus-End of Day General Bolus Total      Bolus   \n",
       "2  Pod activated.Basal rate set to 1.30 units/hour.      Basal   \n",
       "3                Basal rate set to 1.00 units/hour.      Basal   \n",
       "4                              Bolus-General Bolus.      Bolus   \n",
       "\n",
       "                                             Comment  \n",
       "0                                                NaN  \n",
       "1                                                NaN  \n",
       "2   Pod activated.Basal rate set to 1.30 units/hour.  \n",
       "3                 Basal rate set to 1.00 units/hour.  \n",
       "4  Suggested Bolus: ; Programmed Meal: ; Programm...  "
      ]
     },
     "execution_count": 462,
     "metadata": {},
     "output_type": "execute_result"
    }
   ],
   "source": [
    "pump = load_so_pump_clean()\n",
    "print(pump.shape)\n",
    "pump.head()"
   ]
  },
  {
   "cell_type": "code",
   "execution_count": 463,
   "metadata": {},
   "outputs": [
    {
     "data": {
      "text/plain": [
       "(Timestamp('2018-08-19 00:00:00'), Timestamp('2019-04-12 20:18:00'))"
      ]
     },
     "execution_count": 463,
     "metadata": {},
     "output_type": "execute_result"
    }
   ],
   "source": [
    "pump.Datetime.min(), pump.Datetime.max()"
   ]
  },
  {
   "cell_type": "code",
   "execution_count": 464,
   "metadata": {},
   "outputs": [
    {
     "data": {
      "text/plain": [
       "Bolus Insulin      2129\n",
       "Basal Insulin      1191\n",
       "Insulin Summary     521\n",
       "Glucose             494\n",
       "Pump Alarm          152\n",
       "Notes                20\n",
       "Name: Type, dtype: int64"
      ]
     },
     "execution_count": 464,
     "metadata": {},
     "output_type": "execute_result"
    }
   ],
   "source": [
    "pump.Type.value_counts()"
   ]
  },
  {
   "cell_type": "code",
   "execution_count": 465,
   "metadata": {},
   "outputs": [
    {
     "data": {
      "text/html": [
       "<div>\n",
       "<style scoped>\n",
       "    .dataframe tbody tr th:only-of-type {\n",
       "        vertical-align: middle;\n",
       "    }\n",
       "\n",
       "    .dataframe tbody tr th {\n",
       "        vertical-align: top;\n",
       "    }\n",
       "\n",
       "    .dataframe thead th {\n",
       "        text-align: right;\n",
       "    }\n",
       "</style>\n",
       "<table border=\"1\" class=\"dataframe\">\n",
       "  <thead>\n",
       "    <tr style=\"text-align: right;\">\n",
       "      <th></th>\n",
       "      <th>Datetime</th>\n",
       "      <th>Type</th>\n",
       "      <th>Value</th>\n",
       "      <th>Unit</th>\n",
       "      <th>Description</th>\n",
       "      <th>Other Info</th>\n",
       "      <th>Comment</th>\n",
       "    </tr>\n",
       "  </thead>\n",
       "  <tbody>\n",
       "    <tr>\n",
       "      <th>4</th>\n",
       "      <td>2018-08-19 10:44:00</td>\n",
       "      <td>Bolus Insulin</td>\n",
       "      <td>2.0</td>\n",
       "      <td>units</td>\n",
       "      <td>Bolus-General Bolus.</td>\n",
       "      <td>Bolus</td>\n",
       "      <td>Suggested Bolus: ; Programmed Meal: ; Programm...</td>\n",
       "    </tr>\n",
       "    <tr>\n",
       "      <th>5</th>\n",
       "      <td>2018-08-19 13:02:00</td>\n",
       "      <td>Bolus Insulin</td>\n",
       "      <td>1.2</td>\n",
       "      <td>units</td>\n",
       "      <td>Bolus-General Bolus.</td>\n",
       "      <td>Bolus</td>\n",
       "      <td>Suggested Bolus: ; Programmed Meal: ; Programm...</td>\n",
       "    </tr>\n",
       "    <tr>\n",
       "      <th>7</th>\n",
       "      <td>2018-08-19 15:57:00</td>\n",
       "      <td>Bolus Insulin</td>\n",
       "      <td>2.5</td>\n",
       "      <td>units</td>\n",
       "      <td>Bolus-General Bolus.</td>\n",
       "      <td>Bolus</td>\n",
       "      <td>Suggested Bolus: ; Programmed Meal: ; Programm...</td>\n",
       "    </tr>\n",
       "    <tr>\n",
       "      <th>8</th>\n",
       "      <td>2018-08-19 16:48:00</td>\n",
       "      <td>Bolus Insulin</td>\n",
       "      <td>2.5</td>\n",
       "      <td>units</td>\n",
       "      <td>Bolus-General Bolus.</td>\n",
       "      <td>Bolus</td>\n",
       "      <td>Suggested Bolus: ; Programmed Meal: ; Programm...</td>\n",
       "    </tr>\n",
       "    <tr>\n",
       "      <th>9</th>\n",
       "      <td>2018-08-19 17:45:00</td>\n",
       "      <td>Bolus Insulin</td>\n",
       "      <td>3.0</td>\n",
       "      <td>units</td>\n",
       "      <td>Bolus-General Bolus.</td>\n",
       "      <td>Bolus</td>\n",
       "      <td>Suggested Bolus: ; Programmed Meal: ; Programm...</td>\n",
       "    </tr>\n",
       "  </tbody>\n",
       "</table>\n",
       "</div>"
      ],
      "text/plain": [
       "             Datetime           Type  Value   Unit           Description  \\\n",
       "4 2018-08-19 10:44:00  Bolus Insulin    2.0  units  Bolus-General Bolus.   \n",
       "5 2018-08-19 13:02:00  Bolus Insulin    1.2  units  Bolus-General Bolus.   \n",
       "7 2018-08-19 15:57:00  Bolus Insulin    2.5  units  Bolus-General Bolus.   \n",
       "8 2018-08-19 16:48:00  Bolus Insulin    2.5  units  Bolus-General Bolus.   \n",
       "9 2018-08-19 17:45:00  Bolus Insulin    3.0  units  Bolus-General Bolus.   \n",
       "\n",
       "  Other Info                                            Comment  \n",
       "4      Bolus  Suggested Bolus: ; Programmed Meal: ; Programm...  \n",
       "5      Bolus  Suggested Bolus: ; Programmed Meal: ; Programm...  \n",
       "7      Bolus  Suggested Bolus: ; Programmed Meal: ; Programm...  \n",
       "8      Bolus  Suggested Bolus: ; Programmed Meal: ; Programm...  \n",
       "9      Bolus  Suggested Bolus: ; Programmed Meal: ; Programm...  "
      ]
     },
     "execution_count": 465,
     "metadata": {},
     "output_type": "execute_result"
    }
   ],
   "source": [
    "pump[pump.Type == 'Bolus Insulin'][:5]"
   ]
  },
  {
   "cell_type": "code",
   "execution_count": 466,
   "metadata": {},
   "outputs": [
    {
     "data": {
      "text/html": [
       "<div>\n",
       "<style scoped>\n",
       "    .dataframe tbody tr th:only-of-type {\n",
       "        vertical-align: middle;\n",
       "    }\n",
       "\n",
       "    .dataframe tbody tr th {\n",
       "        vertical-align: top;\n",
       "    }\n",
       "\n",
       "    .dataframe thead th {\n",
       "        text-align: right;\n",
       "    }\n",
       "</style>\n",
       "<table border=\"1\" class=\"dataframe\">\n",
       "  <thead>\n",
       "    <tr style=\"text-align: right;\">\n",
       "      <th></th>\n",
       "      <th>Datetime</th>\n",
       "      <th>Type</th>\n",
       "      <th>Value</th>\n",
       "      <th>Unit</th>\n",
       "      <th>Description</th>\n",
       "      <th>Other Info</th>\n",
       "      <th>Comment</th>\n",
       "    </tr>\n",
       "  </thead>\n",
       "  <tbody>\n",
       "    <tr>\n",
       "      <th>2</th>\n",
       "      <td>2018-08-19 10:28:00</td>\n",
       "      <td>Basal Insulin</td>\n",
       "      <td>1.3</td>\n",
       "      <td>units</td>\n",
       "      <td>Pod activated.Basal rate set to 1.30 units/hour.</td>\n",
       "      <td>Basal</td>\n",
       "      <td>Pod activated.Basal rate set to 1.30 units/hour.</td>\n",
       "    </tr>\n",
       "    <tr>\n",
       "      <th>3</th>\n",
       "      <td>2018-08-19 10:30:00</td>\n",
       "      <td>Basal Insulin</td>\n",
       "      <td>1.0</td>\n",
       "      <td>units</td>\n",
       "      <td>Basal rate set to 1.00 units/hour.</td>\n",
       "      <td>Basal</td>\n",
       "      <td>Basal rate set to 1.00 units/hour.</td>\n",
       "    </tr>\n",
       "    <tr>\n",
       "      <th>10</th>\n",
       "      <td>2018-08-19 18:27:00</td>\n",
       "      <td>Basal Insulin</td>\n",
       "      <td>0.0</td>\n",
       "      <td>units</td>\n",
       "      <td>Basal suspended.Basal rate set to 0.00 units/h...</td>\n",
       "      <td>Basal</td>\n",
       "      <td>Basal suspended.Basal rate set to 0.00 units/h...</td>\n",
       "    </tr>\n",
       "    <tr>\n",
       "      <th>12</th>\n",
       "      <td>2018-08-19 18:59:00</td>\n",
       "      <td>Basal Insulin</td>\n",
       "      <td>1.0</td>\n",
       "      <td>units</td>\n",
       "      <td>Basal resumed.Basal rate set to 1.00 units/hour.</td>\n",
       "      <td>Basal</td>\n",
       "      <td>Basal resumed.Basal rate set to 1.00 units/hour.</td>\n",
       "    </tr>\n",
       "    <tr>\n",
       "      <th>15</th>\n",
       "      <td>2018-08-19 22:49:00</td>\n",
       "      <td>Basal Insulin</td>\n",
       "      <td>0.0</td>\n",
       "      <td>units</td>\n",
       "      <td>Basal suspended.Basal rate set to 0.00 units/h...</td>\n",
       "      <td>Basal</td>\n",
       "      <td>Basal suspended.Basal rate set to 0.00 units/h...</td>\n",
       "    </tr>\n",
       "  </tbody>\n",
       "</table>\n",
       "</div>"
      ],
      "text/plain": [
       "              Datetime           Type  Value   Unit  \\\n",
       "2  2018-08-19 10:28:00  Basal Insulin    1.3  units   \n",
       "3  2018-08-19 10:30:00  Basal Insulin    1.0  units   \n",
       "10 2018-08-19 18:27:00  Basal Insulin    0.0  units   \n",
       "12 2018-08-19 18:59:00  Basal Insulin    1.0  units   \n",
       "15 2018-08-19 22:49:00  Basal Insulin    0.0  units   \n",
       "\n",
       "                                          Description Other Info  \\\n",
       "2    Pod activated.Basal rate set to 1.30 units/hour.      Basal   \n",
       "3                  Basal rate set to 1.00 units/hour.      Basal   \n",
       "10  Basal suspended.Basal rate set to 0.00 units/h...      Basal   \n",
       "12   Basal resumed.Basal rate set to 1.00 units/hour.      Basal   \n",
       "15  Basal suspended.Basal rate set to 0.00 units/h...      Basal   \n",
       "\n",
       "                                              Comment  \n",
       "2    Pod activated.Basal rate set to 1.30 units/hour.  \n",
       "3                  Basal rate set to 1.00 units/hour.  \n",
       "10  Basal suspended.Basal rate set to 0.00 units/h...  \n",
       "12   Basal resumed.Basal rate set to 1.00 units/hour.  \n",
       "15  Basal suspended.Basal rate set to 0.00 units/h...  "
      ]
     },
     "execution_count": 466,
     "metadata": {},
     "output_type": "execute_result"
    }
   ],
   "source": [
    "pump[pump.Type == 'Basal Insulin'][:5]"
   ]
  },
  {
   "cell_type": "code",
   "execution_count": 467,
   "metadata": {},
   "outputs": [
    {
     "data": {
      "text/html": [
       "<div>\n",
       "<style scoped>\n",
       "    .dataframe tbody tr th:only-of-type {\n",
       "        vertical-align: middle;\n",
       "    }\n",
       "\n",
       "    .dataframe tbody tr th {\n",
       "        vertical-align: top;\n",
       "    }\n",
       "\n",
       "    .dataframe thead th {\n",
       "        text-align: right;\n",
       "    }\n",
       "</style>\n",
       "<table border=\"1\" class=\"dataframe\">\n",
       "  <thead>\n",
       "    <tr style=\"text-align: right;\">\n",
       "      <th></th>\n",
       "      <th>Datetime</th>\n",
       "      <th>Type</th>\n",
       "      <th>Value</th>\n",
       "      <th>Unit</th>\n",
       "      <th>Description</th>\n",
       "      <th>Other Info</th>\n",
       "      <th>Comment</th>\n",
       "    </tr>\n",
       "  </thead>\n",
       "  <tbody>\n",
       "    <tr>\n",
       "      <th>0</th>\n",
       "      <td>2018-08-19</td>\n",
       "      <td>Insulin Summary</td>\n",
       "      <td>12.60</td>\n",
       "      <td>units</td>\n",
       "      <td>End of Day Basal Total</td>\n",
       "      <td>Basal</td>\n",
       "      <td>NaN</td>\n",
       "    </tr>\n",
       "    <tr>\n",
       "      <th>1</th>\n",
       "      <td>2018-08-19</td>\n",
       "      <td>Insulin Summary</td>\n",
       "      <td>16.70</td>\n",
       "      <td>units</td>\n",
       "      <td>Bolus-End of Day General Bolus Total</td>\n",
       "      <td>Bolus</td>\n",
       "      <td>NaN</td>\n",
       "    </tr>\n",
       "    <tr>\n",
       "      <th>17</th>\n",
       "      <td>2018-08-20</td>\n",
       "      <td>Insulin Summary</td>\n",
       "      <td>12.50</td>\n",
       "      <td>units</td>\n",
       "      <td>Bolus-End of Day General Bolus Total</td>\n",
       "      <td>Bolus</td>\n",
       "      <td>NaN</td>\n",
       "    </tr>\n",
       "    <tr>\n",
       "      <th>18</th>\n",
       "      <td>2018-08-20</td>\n",
       "      <td>Insulin Summary</td>\n",
       "      <td>20.15</td>\n",
       "      <td>units</td>\n",
       "      <td>End of Day Basal Total</td>\n",
       "      <td>Basal</td>\n",
       "      <td>NaN</td>\n",
       "    </tr>\n",
       "    <tr>\n",
       "      <th>34</th>\n",
       "      <td>2018-08-21</td>\n",
       "      <td>Insulin Summary</td>\n",
       "      <td>22.10</td>\n",
       "      <td>units</td>\n",
       "      <td>End of Day Basal Total</td>\n",
       "      <td>Basal</td>\n",
       "      <td>NaN</td>\n",
       "    </tr>\n",
       "  </tbody>\n",
       "</table>\n",
       "</div>"
      ],
      "text/plain": [
       "     Datetime             Type  Value   Unit  \\\n",
       "0  2018-08-19  Insulin Summary  12.60  units   \n",
       "1  2018-08-19  Insulin Summary  16.70  units   \n",
       "17 2018-08-20  Insulin Summary  12.50  units   \n",
       "18 2018-08-20  Insulin Summary  20.15  units   \n",
       "34 2018-08-21  Insulin Summary  22.10  units   \n",
       "\n",
       "                             Description Other Info Comment  \n",
       "0                 End of Day Basal Total      Basal     NaN  \n",
       "1   Bolus-End of Day General Bolus Total      Bolus     NaN  \n",
       "17  Bolus-End of Day General Bolus Total      Bolus     NaN  \n",
       "18                End of Day Basal Total      Basal     NaN  \n",
       "34                End of Day Basal Total      Basal     NaN  "
      ]
     },
     "execution_count": 467,
     "metadata": {},
     "output_type": "execute_result"
    }
   ],
   "source": [
    "pump[pump.Type == 'Insulin Summary'][:5]"
   ]
  },
  {
   "cell_type": "code",
   "execution_count": 468,
   "metadata": {},
   "outputs": [
    {
     "data": {
      "text/html": [
       "<div>\n",
       "<style scoped>\n",
       "    .dataframe tbody tr th:only-of-type {\n",
       "        vertical-align: middle;\n",
       "    }\n",
       "\n",
       "    .dataframe tbody tr th {\n",
       "        vertical-align: top;\n",
       "    }\n",
       "\n",
       "    .dataframe thead th {\n",
       "        text-align: right;\n",
       "    }\n",
       "</style>\n",
       "<table border=\"1\" class=\"dataframe\">\n",
       "  <thead>\n",
       "    <tr style=\"text-align: right;\">\n",
       "      <th></th>\n",
       "      <th>Datetime</th>\n",
       "      <th>Type</th>\n",
       "      <th>Value</th>\n",
       "      <th>Unit</th>\n",
       "      <th>Description</th>\n",
       "      <th>Other Info</th>\n",
       "      <th>Comment</th>\n",
       "    </tr>\n",
       "  </thead>\n",
       "  <tbody>\n",
       "    <tr>\n",
       "      <th>6</th>\n",
       "      <td>2018-08-19 14:36:00</td>\n",
       "      <td>Glucose</td>\n",
       "      <td>5.6</td>\n",
       "      <td>mmol/L</td>\n",
       "      <td>NaN</td>\n",
       "      <td>NaN</td>\n",
       "      <td>NaN</td>\n",
       "    </tr>\n",
       "    <tr>\n",
       "      <th>40</th>\n",
       "      <td>2018-08-21 10:49:00</td>\n",
       "      <td>Glucose</td>\n",
       "      <td>4.9</td>\n",
       "      <td>mmol/L</td>\n",
       "      <td>NaN</td>\n",
       "      <td>NaN</td>\n",
       "      <td>NaN</td>\n",
       "    </tr>\n",
       "    <tr>\n",
       "      <th>65</th>\n",
       "      <td>2018-08-22 14:05:00</td>\n",
       "      <td>Glucose</td>\n",
       "      <td>9.0</td>\n",
       "      <td>mmol/L</td>\n",
       "      <td>NaN</td>\n",
       "      <td>NaN</td>\n",
       "      <td>NaN</td>\n",
       "    </tr>\n",
       "    <tr>\n",
       "      <th>95</th>\n",
       "      <td>2018-08-24 20:26:00</td>\n",
       "      <td>Glucose</td>\n",
       "      <td>5.3</td>\n",
       "      <td>mmol/L</td>\n",
       "      <td>NaN</td>\n",
       "      <td>NaN</td>\n",
       "      <td>NaN</td>\n",
       "    </tr>\n",
       "    <tr>\n",
       "      <th>109</th>\n",
       "      <td>2018-08-25 12:18:00</td>\n",
       "      <td>Glucose</td>\n",
       "      <td>8.9</td>\n",
       "      <td>mmol/L</td>\n",
       "      <td>NaN</td>\n",
       "      <td>NaN</td>\n",
       "      <td>NaN</td>\n",
       "    </tr>\n",
       "  </tbody>\n",
       "</table>\n",
       "</div>"
      ],
      "text/plain": [
       "               Datetime     Type  Value    Unit Description Other Info Comment\n",
       "6   2018-08-19 14:36:00  Glucose    5.6  mmol/L         NaN        NaN     NaN\n",
       "40  2018-08-21 10:49:00  Glucose    4.9  mmol/L         NaN        NaN     NaN\n",
       "65  2018-08-22 14:05:00  Glucose    9.0  mmol/L         NaN        NaN     NaN\n",
       "95  2018-08-24 20:26:00  Glucose    5.3  mmol/L         NaN        NaN     NaN\n",
       "109 2018-08-25 12:18:00  Glucose    8.9  mmol/L         NaN        NaN     NaN"
      ]
     },
     "execution_count": 468,
     "metadata": {},
     "output_type": "execute_result"
    }
   ],
   "source": [
    "pump[pump.Type == 'Glucose'][:5]"
   ]
  },
  {
   "cell_type": "code",
   "execution_count": 469,
   "metadata": {},
   "outputs": [
    {
     "data": {
      "text/plain": [
       "array(['OmniPod Alarm: Suspend end advisory alarm',\n",
       "       'OmniPod Alarm: Pod expiration advisory alarm',\n",
       "       'OmniPod Alarm: Low reservoir advisory alarm',\n",
       "       'OmniPod Alarm: Pod expired hazard alarm',\n",
       "       'OmniPod Alarm: Clock reset alarm', 'OmniPod Alarm: Pod alarm',\n",
       "       'OmniPod Alarm: Last Pod status hazard alarm'], dtype=object)"
      ]
     },
     "execution_count": 469,
     "metadata": {},
     "output_type": "execute_result"
    }
   ],
   "source": [
    "pump[pump.Type == 'Pump Alarm'].Description.unique()"
   ]
  },
  {
   "cell_type": "code",
   "execution_count": 470,
   "metadata": {},
   "outputs": [
    {
     "data": {
      "text/plain": [
       "array(['Date changed to: 10/21/2018', 'Time changed to: 15:05',\n",
       "       'Time changed to: 19:00', 'Basal rate set to 1.00 units/hour.',\n",
       "       'General Bolus.Delivered: 1.00.', 'General Bolus.Delivered: 1.50.',\n",
       "       'Pod deactivated.Basal rate set to 0.00 units/hour.',\n",
       "       'Pod activated.Basal rate set to 1.00 units/hour.',\n",
       "       'General Bolus.Delivered: 2.10.', 'General Bolus.Delivered: 1.10.',\n",
       "       'General Bolus.Delivered: 3.00.', 'General Bolus.Delivered: 2.50.',\n",
       "       'General Bolus.Delivered: 3.60.', 'General Bolus.Delivered: 1.60.',\n",
       "       'General Bolus.Delivered: 5.60.',\n",
       "       'Temporary basal rate set to 0.75 units/hour.Temp percent change: -25%.',\n",
       "       'Time changed to: 22:14'], dtype=object)"
      ]
     },
     "execution_count": 470,
     "metadata": {},
     "output_type": "execute_result"
    }
   ],
   "source": [
    "pump[pump.Type == 'Notes'].Description.unique()"
   ]
  },
  {
   "cell_type": "markdown",
   "metadata": {},
   "source": [
    "### Use Bolus/Basal Insulin rows, and use data only after 10/21/2018 or before - never across. There was a date/time change on the pump on that day"
   ]
  },
  {
   "cell_type": "markdown",
   "metadata": {},
   "source": [
    "## Data Cleaning"
   ]
  },
  {
   "cell_type": "code",
   "execution_count": null,
   "metadata": {},
   "outputs": [],
   "source": []
  },
  {
   "cell_type": "code",
   "execution_count": null,
   "metadata": {},
   "outputs": [],
   "source": []
  },
  {
   "cell_type": "code",
   "execution_count": null,
   "metadata": {},
   "outputs": [],
   "source": []
  },
  {
   "cell_type": "code",
   "execution_count": null,
   "metadata": {},
   "outputs": [],
   "source": []
  },
  {
   "cell_type": "code",
   "execution_count": null,
   "metadata": {},
   "outputs": [],
   "source": []
  },
  {
   "cell_type": "code",
   "execution_count": null,
   "metadata": {},
   "outputs": [],
   "source": []
  }
 ],
 "metadata": {
  "kernelspec": {
   "display_name": "Python 3",
   "language": "python",
   "name": "python3"
  },
  "language_info": {
   "codemirror_mode": {
    "name": "ipython",
    "version": 3
   },
   "file_extension": ".py",
   "mimetype": "text/x-python",
   "name": "python",
   "nbconvert_exporter": "python",
   "pygments_lexer": "ipython3",
   "version": "3.7.1"
  }
 },
 "nbformat": 4,
 "nbformat_minor": 2
}
