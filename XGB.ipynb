{
 "cells": [
  {
   "cell_type": "code",
   "execution_count": 254,
   "metadata": {},
   "outputs": [],
   "source": [
    "import numpy as np\n",
    "import pandas as pd\n",
    "from sklearn.model_selection import GridSearchCV\n",
    "from sklearn.metrics import mean_absolute_error\n",
    "from xgboost import XGBRegressor\n",
    "\n",
    "pd.options.display.max_columns = None\n",
    "\n",
    "from scripts import (\n",
    "    load_uci, load_tidepool_dummy, \n",
    "    load_so_pump_raw, load_so_pump_clean,\n",
    "    load_so_cgm    \n",
    ")"
   ]
  },
  {
   "cell_type": "markdown",
   "metadata": {},
   "source": [
    "## CGM data"
   ]
  },
  {
   "cell_type": "code",
   "execution_count": 255,
   "metadata": {},
   "outputs": [
    {
     "name": "stdout",
     "output_type": "stream",
     "text": [
      "(25285, 14)\n"
     ]
    },
    {
     "data": {
      "text/html": [
       "<div>\n",
       "<style scoped>\n",
       "    .dataframe tbody tr th:only-of-type {\n",
       "        vertical-align: middle;\n",
       "    }\n",
       "\n",
       "    .dataframe tbody tr th {\n",
       "        vertical-align: top;\n",
       "    }\n",
       "\n",
       "    .dataframe thead th {\n",
       "        text-align: right;\n",
       "    }\n",
       "</style>\n",
       "<table border=\"1\" class=\"dataframe\">\n",
       "  <thead>\n",
       "    <tr style=\"text-align: right;\">\n",
       "      <th></th>\n",
       "      <th>Index</th>\n",
       "      <th>Timestamp (YYYY-MM-DDThh:mm:ss)</th>\n",
       "      <th>Event Type</th>\n",
       "      <th>Event Subtype</th>\n",
       "      <th>Patient Info</th>\n",
       "      <th>Device Info</th>\n",
       "      <th>Source Device ID</th>\n",
       "      <th>Glucose Value (mg/dL)</th>\n",
       "      <th>Insulin Value (u)</th>\n",
       "      <th>Carb Value (grams)</th>\n",
       "      <th>Duration (hh:mm:ss)</th>\n",
       "      <th>Glucose Rate of Change (mg/dL/min)</th>\n",
       "      <th>Transmitter Time (Long Integer)</th>\n",
       "      <th>Transmitter ID</th>\n",
       "    </tr>\n",
       "  </thead>\n",
       "  <tbody>\n",
       "    <tr>\n",
       "      <th>9</th>\n",
       "      <td>10</td>\n",
       "      <td>2019-01-14T00:02:42</td>\n",
       "      <td>EGV</td>\n",
       "      <td>NaN</td>\n",
       "      <td>NaN</td>\n",
       "      <td>NaN</td>\n",
       "      <td>iPhone</td>\n",
       "      <td>128</td>\n",
       "      <td>NaN</td>\n",
       "      <td>NaN</td>\n",
       "      <td>NaN</td>\n",
       "      <td>NaN</td>\n",
       "      <td>1943354.0</td>\n",
       "      <td>41W22H</td>\n",
       "    </tr>\n",
       "    <tr>\n",
       "      <th>10</th>\n",
       "      <td>11</td>\n",
       "      <td>2019-01-14T00:07:41</td>\n",
       "      <td>EGV</td>\n",
       "      <td>NaN</td>\n",
       "      <td>NaN</td>\n",
       "      <td>NaN</td>\n",
       "      <td>iPhone</td>\n",
       "      <td>129</td>\n",
       "      <td>NaN</td>\n",
       "      <td>NaN</td>\n",
       "      <td>NaN</td>\n",
       "      <td>NaN</td>\n",
       "      <td>1943654.0</td>\n",
       "      <td>41W22H</td>\n",
       "    </tr>\n",
       "    <tr>\n",
       "      <th>11</th>\n",
       "      <td>12</td>\n",
       "      <td>2019-01-14T00:12:41</td>\n",
       "      <td>EGV</td>\n",
       "      <td>NaN</td>\n",
       "      <td>NaN</td>\n",
       "      <td>NaN</td>\n",
       "      <td>iPhone</td>\n",
       "      <td>130</td>\n",
       "      <td>NaN</td>\n",
       "      <td>NaN</td>\n",
       "      <td>NaN</td>\n",
       "      <td>NaN</td>\n",
       "      <td>1943954.0</td>\n",
       "      <td>41W22H</td>\n",
       "    </tr>\n",
       "    <tr>\n",
       "      <th>12</th>\n",
       "      <td>13</td>\n",
       "      <td>2019-01-14T00:17:42</td>\n",
       "      <td>EGV</td>\n",
       "      <td>NaN</td>\n",
       "      <td>NaN</td>\n",
       "      <td>NaN</td>\n",
       "      <td>iPhone</td>\n",
       "      <td>131</td>\n",
       "      <td>NaN</td>\n",
       "      <td>NaN</td>\n",
       "      <td>NaN</td>\n",
       "      <td>NaN</td>\n",
       "      <td>1944254.0</td>\n",
       "      <td>41W22H</td>\n",
       "    </tr>\n",
       "    <tr>\n",
       "      <th>13</th>\n",
       "      <td>14</td>\n",
       "      <td>2019-01-14T00:22:41</td>\n",
       "      <td>EGV</td>\n",
       "      <td>NaN</td>\n",
       "      <td>NaN</td>\n",
       "      <td>NaN</td>\n",
       "      <td>iPhone</td>\n",
       "      <td>132</td>\n",
       "      <td>NaN</td>\n",
       "      <td>NaN</td>\n",
       "      <td>NaN</td>\n",
       "      <td>NaN</td>\n",
       "      <td>1944554.0</td>\n",
       "      <td>41W22H</td>\n",
       "    </tr>\n",
       "  </tbody>\n",
       "</table>\n",
       "</div>"
      ],
      "text/plain": [
       "    Index Timestamp (YYYY-MM-DDThh:mm:ss) Event Type Event Subtype  \\\n",
       "9      10             2019-01-14T00:02:42        EGV           NaN   \n",
       "10     11             2019-01-14T00:07:41        EGV           NaN   \n",
       "11     12             2019-01-14T00:12:41        EGV           NaN   \n",
       "12     13             2019-01-14T00:17:42        EGV           NaN   \n",
       "13     14             2019-01-14T00:22:41        EGV           NaN   \n",
       "\n",
       "   Patient Info Device Info Source Device ID Glucose Value (mg/dL)  \\\n",
       "9           NaN         NaN           iPhone                   128   \n",
       "10          NaN         NaN           iPhone                   129   \n",
       "11          NaN         NaN           iPhone                   130   \n",
       "12          NaN         NaN           iPhone                   131   \n",
       "13          NaN         NaN           iPhone                   132   \n",
       "\n",
       "    Insulin Value (u)  Carb Value (grams) Duration (hh:mm:ss)  \\\n",
       "9                 NaN                 NaN                 NaN   \n",
       "10                NaN                 NaN                 NaN   \n",
       "11                NaN                 NaN                 NaN   \n",
       "12                NaN                 NaN                 NaN   \n",
       "13                NaN                 NaN                 NaN   \n",
       "\n",
       "    Glucose Rate of Change (mg/dL/min)  Transmitter Time (Long Integer)  \\\n",
       "9                                  NaN                        1943354.0   \n",
       "10                                 NaN                        1943654.0   \n",
       "11                                 NaN                        1943954.0   \n",
       "12                                 NaN                        1944254.0   \n",
       "13                                 NaN                        1944554.0   \n",
       "\n",
       "   Transmitter ID  \n",
       "9          41W22H  \n",
       "10         41W22H  \n",
       "11         41W22H  \n",
       "12         41W22H  \n",
       "13         41W22H  "
      ]
     },
     "execution_count": 255,
     "metadata": {},
     "output_type": "execute_result"
    }
   ],
   "source": [
    "cgm = load_so_cgm()\n",
    "print(cgm.shape)\n",
    "cgm.head()"
   ]
  },
  {
   "cell_type": "code",
   "execution_count": 256,
   "metadata": {},
   "outputs": [
    {
     "data": {
      "text/plain": [
       "1"
      ]
     },
     "execution_count": 256,
     "metadata": {},
     "output_type": "execute_result"
    }
   ],
   "source": [
    "cgm['Event Subtype'].nunique()"
   ]
  },
  {
   "cell_type": "code",
   "execution_count": 257,
   "metadata": {},
   "outputs": [
    {
     "data": {
      "text/plain": [
       "array(['EGV', 'Calibration'], dtype=object)"
      ]
     },
     "execution_count": 257,
     "metadata": {},
     "output_type": "execute_result"
    }
   ],
   "source": [
    "cgm['Event Type'].unique()"
   ]
  },
  {
   "cell_type": "markdown",
   "metadata": {},
   "source": [
    "### Drop the non-EGV events"
   ]
  },
  {
   "cell_type": "code",
   "execution_count": 258,
   "metadata": {},
   "outputs": [],
   "source": [
    "cgm = cgm[cgm['Event Type'] == 'EGV']"
   ]
  },
  {
   "cell_type": "code",
   "execution_count": 259,
   "metadata": {},
   "outputs": [
    {
     "name": "stdout",
     "output_type": "stream",
     "text": [
      "cgm.shape: (25170, 14)\n"
     ]
    },
    {
     "data": {
      "text/html": [
       "<div>\n",
       "<style scoped>\n",
       "    .dataframe tbody tr th:only-of-type {\n",
       "        vertical-align: middle;\n",
       "    }\n",
       "\n",
       "    .dataframe tbody tr th {\n",
       "        vertical-align: top;\n",
       "    }\n",
       "\n",
       "    .dataframe thead th {\n",
       "        text-align: right;\n",
       "    }\n",
       "</style>\n",
       "<table border=\"1\" class=\"dataframe\">\n",
       "  <thead>\n",
       "    <tr style=\"text-align: right;\">\n",
       "      <th></th>\n",
       "      <th>Index</th>\n",
       "      <th>Timestamp (YYYY-MM-DDThh:mm:ss)</th>\n",
       "      <th>Event Type</th>\n",
       "      <th>Event Subtype</th>\n",
       "      <th>Patient Info</th>\n",
       "      <th>Device Info</th>\n",
       "      <th>Source Device ID</th>\n",
       "      <th>Glucose Value (mg/dL)</th>\n",
       "      <th>Insulin Value (u)</th>\n",
       "      <th>Carb Value (grams)</th>\n",
       "      <th>Duration (hh:mm:ss)</th>\n",
       "      <th>Glucose Rate of Change (mg/dL/min)</th>\n",
       "      <th>Transmitter Time (Long Integer)</th>\n",
       "      <th>Transmitter ID</th>\n",
       "    </tr>\n",
       "  </thead>\n",
       "  <tbody>\n",
       "    <tr>\n",
       "      <th>9</th>\n",
       "      <td>10</td>\n",
       "      <td>2019-01-14T00:02:42</td>\n",
       "      <td>EGV</td>\n",
       "      <td>NaN</td>\n",
       "      <td>NaN</td>\n",
       "      <td>NaN</td>\n",
       "      <td>iPhone</td>\n",
       "      <td>128</td>\n",
       "      <td>NaN</td>\n",
       "      <td>NaN</td>\n",
       "      <td>NaN</td>\n",
       "      <td>NaN</td>\n",
       "      <td>1943354.0</td>\n",
       "      <td>41W22H</td>\n",
       "    </tr>\n",
       "    <tr>\n",
       "      <th>10</th>\n",
       "      <td>11</td>\n",
       "      <td>2019-01-14T00:07:41</td>\n",
       "      <td>EGV</td>\n",
       "      <td>NaN</td>\n",
       "      <td>NaN</td>\n",
       "      <td>NaN</td>\n",
       "      <td>iPhone</td>\n",
       "      <td>129</td>\n",
       "      <td>NaN</td>\n",
       "      <td>NaN</td>\n",
       "      <td>NaN</td>\n",
       "      <td>NaN</td>\n",
       "      <td>1943654.0</td>\n",
       "      <td>41W22H</td>\n",
       "    </tr>\n",
       "    <tr>\n",
       "      <th>11</th>\n",
       "      <td>12</td>\n",
       "      <td>2019-01-14T00:12:41</td>\n",
       "      <td>EGV</td>\n",
       "      <td>NaN</td>\n",
       "      <td>NaN</td>\n",
       "      <td>NaN</td>\n",
       "      <td>iPhone</td>\n",
       "      <td>130</td>\n",
       "      <td>NaN</td>\n",
       "      <td>NaN</td>\n",
       "      <td>NaN</td>\n",
       "      <td>NaN</td>\n",
       "      <td>1943954.0</td>\n",
       "      <td>41W22H</td>\n",
       "    </tr>\n",
       "    <tr>\n",
       "      <th>12</th>\n",
       "      <td>13</td>\n",
       "      <td>2019-01-14T00:17:42</td>\n",
       "      <td>EGV</td>\n",
       "      <td>NaN</td>\n",
       "      <td>NaN</td>\n",
       "      <td>NaN</td>\n",
       "      <td>iPhone</td>\n",
       "      <td>131</td>\n",
       "      <td>NaN</td>\n",
       "      <td>NaN</td>\n",
       "      <td>NaN</td>\n",
       "      <td>NaN</td>\n",
       "      <td>1944254.0</td>\n",
       "      <td>41W22H</td>\n",
       "    </tr>\n",
       "    <tr>\n",
       "      <th>13</th>\n",
       "      <td>14</td>\n",
       "      <td>2019-01-14T00:22:41</td>\n",
       "      <td>EGV</td>\n",
       "      <td>NaN</td>\n",
       "      <td>NaN</td>\n",
       "      <td>NaN</td>\n",
       "      <td>iPhone</td>\n",
       "      <td>132</td>\n",
       "      <td>NaN</td>\n",
       "      <td>NaN</td>\n",
       "      <td>NaN</td>\n",
       "      <td>NaN</td>\n",
       "      <td>1944554.0</td>\n",
       "      <td>41W22H</td>\n",
       "    </tr>\n",
       "  </tbody>\n",
       "</table>\n",
       "</div>"
      ],
      "text/plain": [
       "    Index Timestamp (YYYY-MM-DDThh:mm:ss) Event Type Event Subtype  \\\n",
       "9      10             2019-01-14T00:02:42        EGV           NaN   \n",
       "10     11             2019-01-14T00:07:41        EGV           NaN   \n",
       "11     12             2019-01-14T00:12:41        EGV           NaN   \n",
       "12     13             2019-01-14T00:17:42        EGV           NaN   \n",
       "13     14             2019-01-14T00:22:41        EGV           NaN   \n",
       "\n",
       "   Patient Info Device Info Source Device ID Glucose Value (mg/dL)  \\\n",
       "9           NaN         NaN           iPhone                   128   \n",
       "10          NaN         NaN           iPhone                   129   \n",
       "11          NaN         NaN           iPhone                   130   \n",
       "12          NaN         NaN           iPhone                   131   \n",
       "13          NaN         NaN           iPhone                   132   \n",
       "\n",
       "    Insulin Value (u)  Carb Value (grams) Duration (hh:mm:ss)  \\\n",
       "9                 NaN                 NaN                 NaN   \n",
       "10                NaN                 NaN                 NaN   \n",
       "11                NaN                 NaN                 NaN   \n",
       "12                NaN                 NaN                 NaN   \n",
       "13                NaN                 NaN                 NaN   \n",
       "\n",
       "    Glucose Rate of Change (mg/dL/min)  Transmitter Time (Long Integer)  \\\n",
       "9                                  NaN                        1943354.0   \n",
       "10                                 NaN                        1943654.0   \n",
       "11                                 NaN                        1943954.0   \n",
       "12                                 NaN                        1944254.0   \n",
       "13                                 NaN                        1944554.0   \n",
       "\n",
       "   Transmitter ID  \n",
       "9          41W22H  \n",
       "10         41W22H  \n",
       "11         41W22H  \n",
       "12         41W22H  \n",
       "13         41W22H  "
      ]
     },
     "execution_count": 259,
     "metadata": {},
     "output_type": "execute_result"
    }
   ],
   "source": [
    "print('cgm.shape:', cgm.shape)\n",
    "cgm.head()"
   ]
  },
  {
   "cell_type": "code",
   "execution_count": 260,
   "metadata": {},
   "outputs": [
    {
     "data": {
      "text/plain": [
       "('2019-01-14T00:02:42', '2019-04-13T09:04:08')"
      ]
     },
     "execution_count": 260,
     "metadata": {},
     "output_type": "execute_result"
    }
   ],
   "source": [
    "cgm['Timestamp (YYYY-MM-DDThh:mm:ss)'].min(), cgm['Timestamp (YYYY-MM-DDThh:mm:ss)'].max()"
   ]
  },
  {
   "cell_type": "markdown",
   "metadata": {},
   "source": [
    "### Remove unnecessary columns"
   ]
  },
  {
   "cell_type": "code",
   "execution_count": 261,
   "metadata": {},
   "outputs": [
    {
     "name": "stdout",
     "output_type": "stream",
     "text": [
      "cgm.shape: (25170, 2)\n"
     ]
    },
    {
     "data": {
      "text/html": [
       "<div>\n",
       "<style scoped>\n",
       "    .dataframe tbody tr th:only-of-type {\n",
       "        vertical-align: middle;\n",
       "    }\n",
       "\n",
       "    .dataframe tbody tr th {\n",
       "        vertical-align: top;\n",
       "    }\n",
       "\n",
       "    .dataframe thead th {\n",
       "        text-align: right;\n",
       "    }\n",
       "</style>\n",
       "<table border=\"1\" class=\"dataframe\">\n",
       "  <thead>\n",
       "    <tr style=\"text-align: right;\">\n",
       "      <th></th>\n",
       "      <th>Timestamp</th>\n",
       "      <th>Glucose Value (mg/dL)</th>\n",
       "    </tr>\n",
       "  </thead>\n",
       "  <tbody>\n",
       "    <tr>\n",
       "      <th>9</th>\n",
       "      <td>2019-01-14T00:02:42</td>\n",
       "      <td>128</td>\n",
       "    </tr>\n",
       "    <tr>\n",
       "      <th>10</th>\n",
       "      <td>2019-01-14T00:07:41</td>\n",
       "      <td>129</td>\n",
       "    </tr>\n",
       "    <tr>\n",
       "      <th>11</th>\n",
       "      <td>2019-01-14T00:12:41</td>\n",
       "      <td>130</td>\n",
       "    </tr>\n",
       "    <tr>\n",
       "      <th>12</th>\n",
       "      <td>2019-01-14T00:17:42</td>\n",
       "      <td>131</td>\n",
       "    </tr>\n",
       "    <tr>\n",
       "      <th>13</th>\n",
       "      <td>2019-01-14T00:22:41</td>\n",
       "      <td>132</td>\n",
       "    </tr>\n",
       "  </tbody>\n",
       "</table>\n",
       "</div>"
      ],
      "text/plain": [
       "              Timestamp Glucose Value (mg/dL)\n",
       "9   2019-01-14T00:02:42                   128\n",
       "10  2019-01-14T00:07:41                   129\n",
       "11  2019-01-14T00:12:41                   130\n",
       "12  2019-01-14T00:17:42                   131\n",
       "13  2019-01-14T00:22:41                   132"
      ]
     },
     "execution_count": 261,
     "metadata": {},
     "output_type": "execute_result"
    }
   ],
   "source": [
    "cgm = cgm.drop(columns=['Index', 'Event Type', 'Event Subtype', 'Patient Info', 'Device Info', \n",
    "                        'Source Device ID', 'Insulin Value (u)', 'Carb Value (grams)',\n",
    "                        'Duration (hh:mm:ss)', 'Glucose Rate of Change (mg/dL/min)',\n",
    "                        'Transmitter Time (Long Integer)', 'Transmitter ID'])\n",
    "cgm = cgm.rename(mapper={'Timestamp (YYYY-MM-DDThh:mm:ss)': 'Timestamp'},\n",
    "                         axis=1)\n",
    "print('cgm.shape:', cgm.shape)\n",
    "cgm.head()"
   ]
  },
  {
   "cell_type": "code",
   "execution_count": 262,
   "metadata": {},
   "outputs": [
    {
     "data": {
      "text/html": [
       "<div>\n",
       "<style scoped>\n",
       "    .dataframe tbody tr th:only-of-type {\n",
       "        vertical-align: middle;\n",
       "    }\n",
       "\n",
       "    .dataframe tbody tr th {\n",
       "        vertical-align: top;\n",
       "    }\n",
       "\n",
       "    .dataframe thead th {\n",
       "        text-align: right;\n",
       "    }\n",
       "</style>\n",
       "<table border=\"1\" class=\"dataframe\">\n",
       "  <thead>\n",
       "    <tr style=\"text-align: right;\">\n",
       "      <th></th>\n",
       "      <th>Timestamp</th>\n",
       "      <th>Glucose Value (mg/dL)</th>\n",
       "    </tr>\n",
       "  </thead>\n",
       "  <tbody>\n",
       "    <tr>\n",
       "      <th>9</th>\n",
       "      <td>2019-01-14 00:02:42</td>\n",
       "      <td>128</td>\n",
       "    </tr>\n",
       "    <tr>\n",
       "      <th>10</th>\n",
       "      <td>2019-01-14 00:07:41</td>\n",
       "      <td>129</td>\n",
       "    </tr>\n",
       "    <tr>\n",
       "      <th>11</th>\n",
       "      <td>2019-01-14 00:12:41</td>\n",
       "      <td>130</td>\n",
       "    </tr>\n",
       "    <tr>\n",
       "      <th>12</th>\n",
       "      <td>2019-01-14 00:17:42</td>\n",
       "      <td>131</td>\n",
       "    </tr>\n",
       "    <tr>\n",
       "      <th>13</th>\n",
       "      <td>2019-01-14 00:22:41</td>\n",
       "      <td>132</td>\n",
       "    </tr>\n",
       "  </tbody>\n",
       "</table>\n",
       "</div>"
      ],
      "text/plain": [
       "             Timestamp Glucose Value (mg/dL)\n",
       "9  2019-01-14 00:02:42                   128\n",
       "10 2019-01-14 00:07:41                   129\n",
       "11 2019-01-14 00:12:41                   130\n",
       "12 2019-01-14 00:17:42                   131\n",
       "13 2019-01-14 00:22:41                   132"
      ]
     },
     "execution_count": 262,
     "metadata": {},
     "output_type": "execute_result"
    }
   ],
   "source": [
    "cgm['Timestamp'] = cgm['Timestamp'] \\\n",
    "                    .apply(lambda x: \n",
    "                        pd.Timestamp(x).to_datetime64())\n",
    "cgm.head()"
   ]
  },
  {
   "cell_type": "code",
   "execution_count": 263,
   "metadata": {},
   "outputs": [
    {
     "data": {
      "text/plain": [
       "Timedelta('89 days 09:01:26')"
      ]
     },
     "execution_count": 263,
     "metadata": {},
     "output_type": "execute_result"
    }
   ],
   "source": [
    "cgm.Timestamp.iloc[cgm.shape[0] - 1] - cgm.Timestamp.iloc[0]"
   ]
  },
  {
   "cell_type": "markdown",
   "metadata": {},
   "source": [
    "### Convert timestamp to int and apply check mean value as an initial guess"
   ]
  },
  {
   "cell_type": "code",
   "execution_count": 264,
   "metadata": {},
   "outputs": [
    {
     "name": "stdout",
     "output_type": "stream",
     "text": [
      "cgm.shape: (25170, 2)\n",
      "cgm.shape: (25141, 2)\n"
     ]
    },
    {
     "data": {
      "text/html": [
       "<div>\n",
       "<style scoped>\n",
       "    .dataframe tbody tr th:only-of-type {\n",
       "        vertical-align: middle;\n",
       "    }\n",
       "\n",
       "    .dataframe tbody tr th {\n",
       "        vertical-align: top;\n",
       "    }\n",
       "\n",
       "    .dataframe thead th {\n",
       "        text-align: right;\n",
       "    }\n",
       "</style>\n",
       "<table border=\"1\" class=\"dataframe\">\n",
       "  <thead>\n",
       "    <tr style=\"text-align: right;\">\n",
       "      <th></th>\n",
       "      <th>Timestamp</th>\n",
       "      <th>Glucose Value (mg/dL)</th>\n",
       "    </tr>\n",
       "  </thead>\n",
       "  <tbody>\n",
       "    <tr>\n",
       "      <th>9</th>\n",
       "      <td>1547424162</td>\n",
       "      <td>128.0</td>\n",
       "    </tr>\n",
       "    <tr>\n",
       "      <th>10</th>\n",
       "      <td>1547424461</td>\n",
       "      <td>129.0</td>\n",
       "    </tr>\n",
       "    <tr>\n",
       "      <th>11</th>\n",
       "      <td>1547424761</td>\n",
       "      <td>130.0</td>\n",
       "    </tr>\n",
       "    <tr>\n",
       "      <th>12</th>\n",
       "      <td>1547425062</td>\n",
       "      <td>131.0</td>\n",
       "    </tr>\n",
       "    <tr>\n",
       "      <th>13</th>\n",
       "      <td>1547425361</td>\n",
       "      <td>132.0</td>\n",
       "    </tr>\n",
       "  </tbody>\n",
       "</table>\n",
       "</div>"
      ],
      "text/plain": [
       "     Timestamp  Glucose Value (mg/dL)\n",
       "9   1547424162                  128.0\n",
       "10  1547424461                  129.0\n",
       "11  1547424761                  130.0\n",
       "12  1547425062                  131.0\n",
       "13  1547425361                  132.0"
      ]
     },
     "execution_count": 264,
     "metadata": {},
     "output_type": "execute_result"
    }
   ],
   "source": [
    "print('cgm.shape:', cgm.shape)\n",
    "cgm['Timestamp'] = (cgm.Timestamp.astype(int)/(10**9)).astype(int)\n",
    "\n",
    "# Remove Glucose Values that are not numbers and convert them to numbers\n",
    "cgm = cgm[~cgm['Glucose Value (mg/dL)'].str.contains(\"[a-zA-Z]\").fillna(False)]\n",
    "cgm['Glucose Value (mg/dL)'] = cgm['Glucose Value (mg/dL)'].astype(float)\n",
    "\n",
    "print('cgm.shape:', cgm.shape)\n",
    "cgm.head()"
   ]
  },
  {
   "cell_type": "code",
   "execution_count": 265,
   "metadata": {},
   "outputs": [
    {
     "data": {
      "text/plain": [
       "Timestamp                  int64\n",
       "Glucose Value (mg/dL)    float64\n",
       "dtype: object"
      ]
     },
     "execution_count": 265,
     "metadata": {},
     "output_type": "execute_result"
    }
   ],
   "source": [
    "cgm.dtypes"
   ]
  },
  {
   "cell_type": "code",
   "execution_count": 266,
   "metadata": {},
   "outputs": [
    {
     "name": "stdout",
     "output_type": "stream",
     "text": [
      "X_train.shape: (20113, 1) y_train.shape: (20113,)\n",
      "X_val.shape: (5028, 1) y_val.shape: (5028,)\n"
     ]
    }
   ],
   "source": [
    "def split_train_validate(df, target_name, test_fraction=0.2):\n",
    "\n",
    "    test_size = int(df.shape[0] * test_fraction)\n",
    "    df_train = df.iloc[:df.shape[0]-test_size,  :]\n",
    "    df_val   = df.iloc[ df.shape[0]-test_size:, :]\n",
    "    X_train  = df_train.drop(columns=[target_name])\n",
    "    y_train  = df_train[target_name]\n",
    "    X_val    = df_val.drop(columns=[target_name])\n",
    "    y_val    = df_val[target_name]\n",
    "\n",
    "    print('X_train.shape:', X_train.shape, 'y_train.shape:', y_train.shape)\n",
    "    print('X_val.shape:', X_val.shape, 'y_val.shape:', y_val.shape)\n",
    "    \n",
    "    return X_train, X_val, y_train, y_val\n",
    "\n",
    "X_train, X_val, y_train, y_val = split_train_validate(cgm, \n",
    "                                                     'Glucose Value (mg/dL)', \n",
    "                                                     0.2)"
   ]
  },
  {
   "cell_type": "code",
   "execution_count": 269,
   "metadata": {},
   "outputs": [
    {
     "name": "stdout",
     "output_type": "stream",
     "text": [
      "mean_value_train: 138.45000745786308\n"
     ]
    }
   ],
   "source": [
    "mean_value_train = y_train.mean()\n",
    "print('mean_value_train:', mean_value_train)"
   ]
  },
  {
   "cell_type": "code",
   "execution_count": 274,
   "metadata": {},
   "outputs": [
    {
     "name": "stdout",
     "output_type": "stream",
     "text": [
      "Average of the training y values gives MAE: 25.52558788655618\n"
     ]
    }
   ],
   "source": [
    "y_pred = [abs(y - mean_value_train) for y in y_val]\n",
    "mean_value_ypred = np.average(y_pred)\n",
    "mae = np.average([abs(y - mean_value_ypred) for y in y_pred], axis = 0)\n",
    "print('Average of the training y values gives MAE:', mae)"
   ]
  },
  {
   "cell_type": "markdown",
   "metadata": {},
   "source": [
    "### Create column with glucose values 30 minutes into the future"
   ]
  },
  {
   "cell_type": "code",
   "execution_count": null,
   "metadata": {},
   "outputs": [],
   "source": [
    "cgm.head()"
   ]
  },
  {
   "cell_type": "code",
   "execution_count": 275,
   "metadata": {},
   "outputs": [],
   "source": [
    "def wrangle(df, minutes):\n",
    "    seconds = minutes * 60\n",
    "    xs = df['Timestamp'].values\n",
    "    ys = []\n",
    "    for i in range(df.shape[0]):\n",
    "        y = np.interp(xs[i],\n",
    "                      df['Timestamp'],\n",
    "                      df['Glucose Value (mg/dL)'])\n",
    "        ys.append(y)\n",
    "    print('df.shape:', df.shape)\n",
    "    print('len(ys):', len(ys))\n",
    "    df[str(minutes) + ' minutes'] = ys\n",
    "    return df"
   ]
  },
  {
   "cell_type": "code",
   "execution_count": 276,
   "metadata": {},
   "outputs": [
    {
     "name": "stdout",
     "output_type": "stream",
     "text": [
      "df.shape: (25141, 2)\n",
      "len(ys): 25141\n",
      "cgm.shape: (25141, 3)\n"
     ]
    },
    {
     "data": {
      "text/html": [
       "<div>\n",
       "<style scoped>\n",
       "    .dataframe tbody tr th:only-of-type {\n",
       "        vertical-align: middle;\n",
       "    }\n",
       "\n",
       "    .dataframe tbody tr th {\n",
       "        vertical-align: top;\n",
       "    }\n",
       "\n",
       "    .dataframe thead th {\n",
       "        text-align: right;\n",
       "    }\n",
       "</style>\n",
       "<table border=\"1\" class=\"dataframe\">\n",
       "  <thead>\n",
       "    <tr style=\"text-align: right;\">\n",
       "      <th></th>\n",
       "      <th>Timestamp</th>\n",
       "      <th>Glucose Value (mg/dL)</th>\n",
       "      <th>30 minutes</th>\n",
       "    </tr>\n",
       "  </thead>\n",
       "  <tbody>\n",
       "    <tr>\n",
       "      <th>9</th>\n",
       "      <td>1547424162</td>\n",
       "      <td>128.0</td>\n",
       "      <td>128.0</td>\n",
       "    </tr>\n",
       "    <tr>\n",
       "      <th>10</th>\n",
       "      <td>1547424461</td>\n",
       "      <td>129.0</td>\n",
       "      <td>129.0</td>\n",
       "    </tr>\n",
       "    <tr>\n",
       "      <th>11</th>\n",
       "      <td>1547424761</td>\n",
       "      <td>130.0</td>\n",
       "      <td>130.0</td>\n",
       "    </tr>\n",
       "    <tr>\n",
       "      <th>12</th>\n",
       "      <td>1547425062</td>\n",
       "      <td>131.0</td>\n",
       "      <td>131.0</td>\n",
       "    </tr>\n",
       "    <tr>\n",
       "      <th>13</th>\n",
       "      <td>1547425361</td>\n",
       "      <td>132.0</td>\n",
       "      <td>132.0</td>\n",
       "    </tr>\n",
       "  </tbody>\n",
       "</table>\n",
       "</div>"
      ],
      "text/plain": [
       "     Timestamp  Glucose Value (mg/dL)  30 minutes\n",
       "9   1547424162                  128.0       128.0\n",
       "10  1547424461                  129.0       129.0\n",
       "11  1547424761                  130.0       130.0\n",
       "12  1547425062                  131.0       131.0\n",
       "13  1547425361                  132.0       132.0"
      ]
     },
     "execution_count": 276,
     "metadata": {},
     "output_type": "execute_result"
    }
   ],
   "source": [
    "cgm = wrangle(cgm, 30)\n",
    "print('cgm.shape:', cgm.shape)\n",
    "cgm.head()"
   ]
  },
  {
   "cell_type": "code",
   "execution_count": 280,
   "metadata": {},
   "outputs": [
    {
     "name": "stdout",
     "output_type": "stream",
     "text": [
      "X_train.shape: (20113, 2) y_train.shape: (20113,)\n",
      "X_val.shape: (5028, 2) y_val.shape: (5028,)\n"
     ]
    }
   ],
   "source": [
    "X_train, X_val, y_train, y_val = split_train_validate(cgm, '30 minutes', 0.2)"
   ]
  },
  {
   "cell_type": "code",
   "execution_count": 281,
   "metadata": {},
   "outputs": [],
   "source": [
    "param_grid = {\n",
    "#     'learning_rate': [0.06],\n",
    "#     'n_estimators':  [80],\n",
    "#     'max_depth': [3],\n",
    "#     'subsample': [0.9],\n",
    "#     'colsample_bytree': [0.3],\n",
    "#     'gamma': [4, 5]\n",
    "    \n",
    "    'learning_rate': [0.01, 0.03, 0.06, 0.09],\n",
    "    'n_estimators':  [70, 75, 80, 85, 90],\n",
    "    'max_depth': [2, 3, 4],\n",
    "    'subsample': [0.7, 0.8, 0.9],\n",
    "    'colsample_bytree': [0.2, 0.3, 0.4],\n",
    "    'gamma': [3, 4, 5, 6]\n",
    "}\n",
    "\n",
    "gridsearch = GridSearchCV(XGBRegressor(),\n",
    "                          param_grid=param_grid, \n",
    "                          # scoring='roc_auc', \n",
    "                          cv=3, n_jobs=-1,\n",
    "                          return_train_score=True, verbose=10)"
   ]
  },
  {
   "cell_type": "code",
   "execution_count": 282,
   "metadata": {},
   "outputs": [
    {
     "name": "stdout",
     "output_type": "stream",
     "text": [
      "Fitting 3 folds for each of 2160 candidates, totalling 6480 fits\n"
     ]
    },
    {
     "name": "stderr",
     "output_type": "stream",
     "text": [
      "[Parallel(n_jobs=-1)]: Using backend LokyBackend with 8 concurrent workers.\n",
      "[Parallel(n_jobs=-1)]: Done   2 tasks      | elapsed:    2.0s\n",
      "[Parallel(n_jobs=-1)]: Done   9 tasks      | elapsed:    2.3s\n",
      "[Parallel(n_jobs=-1)]: Done  16 tasks      | elapsed:    2.4s\n",
      "[Parallel(n_jobs=-1)]: Done  25 tasks      | elapsed:    2.9s\n",
      "[Parallel(n_jobs=-1)]: Done  34 tasks      | elapsed:    3.3s\n",
      "[Parallel(n_jobs=-1)]: Done  45 tasks      | elapsed:    3.8s\n",
      "[Parallel(n_jobs=-1)]: Done  56 tasks      | elapsed:    4.3s\n",
      "[Parallel(n_jobs=-1)]: Done  69 tasks      | elapsed:    5.0s\n",
      "[Parallel(n_jobs=-1)]: Done  82 tasks      | elapsed:    5.7s\n",
      "[Parallel(n_jobs=-1)]: Done  97 tasks      | elapsed:    6.4s\n",
      "[Parallel(n_jobs=-1)]: Done 112 tasks      | elapsed:    7.1s\n",
      "[Parallel(n_jobs=-1)]: Done 129 tasks      | elapsed:    8.1s\n",
      "[Parallel(n_jobs=-1)]: Done 146 tasks      | elapsed:    8.7s\n",
      "[Parallel(n_jobs=-1)]: Done 165 tasks      | elapsed:    9.4s\n",
      "[Parallel(n_jobs=-1)]: Done 184 tasks      | elapsed:   10.2s\n",
      "[Parallel(n_jobs=-1)]: Done 205 tasks      | elapsed:   11.0s\n",
      "[Parallel(n_jobs=-1)]: Done 226 tasks      | elapsed:   12.0s\n",
      "[Parallel(n_jobs=-1)]: Done 249 tasks      | elapsed:   13.2s\n",
      "[Parallel(n_jobs=-1)]: Done 272 tasks      | elapsed:   14.2s\n",
      "[Parallel(n_jobs=-1)]: Done 297 tasks      | elapsed:   15.1s\n",
      "[Parallel(n_jobs=-1)]: Done 322 tasks      | elapsed:   16.1s\n",
      "[Parallel(n_jobs=-1)]: Done 349 tasks      | elapsed:   17.2s\n",
      "[Parallel(n_jobs=-1)]: Done 376 tasks      | elapsed:   18.5s\n",
      "[Parallel(n_jobs=-1)]: Done 405 tasks      | elapsed:   20.0s\n",
      "[Parallel(n_jobs=-1)]: Done 434 tasks      | elapsed:   21.0s\n",
      "[Parallel(n_jobs=-1)]: Done 465 tasks      | elapsed:   22.2s\n",
      "[Parallel(n_jobs=-1)]: Done 496 tasks      | elapsed:   23.6s\n",
      "[Parallel(n_jobs=-1)]: Done 529 tasks      | elapsed:   25.2s\n",
      "[Parallel(n_jobs=-1)]: Done 562 tasks      | elapsed:   26.6s\n",
      "[Parallel(n_jobs=-1)]: Done 597 tasks      | elapsed:   27.9s\n",
      "[Parallel(n_jobs=-1)]: Done 632 tasks      | elapsed:   29.6s\n",
      "[Parallel(n_jobs=-1)]: Done 669 tasks      | elapsed:   31.7s\n",
      "[Parallel(n_jobs=-1)]: Done 706 tasks      | elapsed:   33.1s\n",
      "[Parallel(n_jobs=-1)]: Done 745 tasks      | elapsed:   34.8s\n",
      "[Parallel(n_jobs=-1)]: Done 784 tasks      | elapsed:   36.7s\n",
      "[Parallel(n_jobs=-1)]: Done 825 tasks      | elapsed:   38.6s\n",
      "[Parallel(n_jobs=-1)]: Done 866 tasks      | elapsed:   40.3s\n",
      "[Parallel(n_jobs=-1)]: Done 909 tasks      | elapsed:   42.3s\n",
      "[Parallel(n_jobs=-1)]: Done 952 tasks      | elapsed:   44.5s\n",
      "[Parallel(n_jobs=-1)]: Done 997 tasks      | elapsed:   46.3s\n",
      "[Parallel(n_jobs=-1)]: Done 1042 tasks      | elapsed:   48.6s\n",
      "[Parallel(n_jobs=-1)]: Done 1089 tasks      | elapsed:   51.3s\n",
      "[Parallel(n_jobs=-1)]: Done 1136 tasks      | elapsed:   53.3s\n",
      "[Parallel(n_jobs=-1)]: Done 1185 tasks      | elapsed:   55.7s\n",
      "[Parallel(n_jobs=-1)]: Done 1234 tasks      | elapsed:   58.1s\n",
      "[Parallel(n_jobs=-1)]: Done 1285 tasks      | elapsed:  1.0min\n",
      "[Parallel(n_jobs=-1)]: Done 1336 tasks      | elapsed:  1.0min\n",
      "[Parallel(n_jobs=-1)]: Done 1389 tasks      | elapsed:  1.1min\n",
      "[Parallel(n_jobs=-1)]: Done 1442 tasks      | elapsed:  1.1min\n",
      "[Parallel(n_jobs=-1)]: Done 1497 tasks      | elapsed:  1.2min\n",
      "[Parallel(n_jobs=-1)]: Done 1552 tasks      | elapsed:  1.2min\n",
      "[Parallel(n_jobs=-1)]: Done 1609 tasks      | elapsed:  1.3min\n",
      "[Parallel(n_jobs=-1)]: Done 1666 tasks      | elapsed:  1.3min\n",
      "[Parallel(n_jobs=-1)]: Done 1725 tasks      | elapsed:  1.3min\n",
      "[Parallel(n_jobs=-1)]: Done 1784 tasks      | elapsed:  1.4min\n",
      "[Parallel(n_jobs=-1)]: Done 1845 tasks      | elapsed:  1.4min\n",
      "[Parallel(n_jobs=-1)]: Done 1906 tasks      | elapsed:  1.5min\n",
      "[Parallel(n_jobs=-1)]: Done 1969 tasks      | elapsed:  1.5min\n",
      "[Parallel(n_jobs=-1)]: Done 2032 tasks      | elapsed:  1.6min\n",
      "[Parallel(n_jobs=-1)]: Done 2097 tasks      | elapsed:  1.6min\n",
      "[Parallel(n_jobs=-1)]: Done 2162 tasks      | elapsed:  1.7min\n",
      "[Parallel(n_jobs=-1)]: Done 2229 tasks      | elapsed:  1.7min\n",
      "[Parallel(n_jobs=-1)]: Done 2296 tasks      | elapsed:  1.8min\n",
      "[Parallel(n_jobs=-1)]: Done 2365 tasks      | elapsed:  1.8min\n",
      "[Parallel(n_jobs=-1)]: Done 2434 tasks      | elapsed:  1.9min\n",
      "[Parallel(n_jobs=-1)]: Done 2505 tasks      | elapsed:  1.9min\n",
      "[Parallel(n_jobs=-1)]: Done 2576 tasks      | elapsed:  2.0min\n",
      "[Parallel(n_jobs=-1)]: Done 2649 tasks      | elapsed:  2.0min\n",
      "[Parallel(n_jobs=-1)]: Done 2722 tasks      | elapsed:  2.1min\n",
      "[Parallel(n_jobs=-1)]: Done 2797 tasks      | elapsed:  2.1min\n",
      "[Parallel(n_jobs=-1)]: Done 2872 tasks      | elapsed:  2.2min\n",
      "[Parallel(n_jobs=-1)]: Done 2949 tasks      | elapsed:  2.3min\n",
      "[Parallel(n_jobs=-1)]: Done 3026 tasks      | elapsed:  2.3min\n",
      "[Parallel(n_jobs=-1)]: Done 3105 tasks      | elapsed:  2.4min\n",
      "[Parallel(n_jobs=-1)]: Done 3184 tasks      | elapsed:  2.4min\n",
      "[Parallel(n_jobs=-1)]: Done 3265 tasks      | elapsed:  2.5min\n",
      "[Parallel(n_jobs=-1)]: Done 3346 tasks      | elapsed:  2.5min\n",
      "[Parallel(n_jobs=-1)]: Done 3429 tasks      | elapsed:  2.6min\n",
      "[Parallel(n_jobs=-1)]: Done 3512 tasks      | elapsed:  2.7min\n",
      "[Parallel(n_jobs=-1)]: Done 3597 tasks      | elapsed:  2.7min\n",
      "[Parallel(n_jobs=-1)]: Done 3682 tasks      | elapsed:  2.8min\n",
      "[Parallel(n_jobs=-1)]: Done 3769 tasks      | elapsed:  2.8min\n",
      "[Parallel(n_jobs=-1)]: Done 3856 tasks      | elapsed:  2.9min\n",
      "[Parallel(n_jobs=-1)]: Done 3945 tasks      | elapsed:  3.0min\n",
      "[Parallel(n_jobs=-1)]: Done 4034 tasks      | elapsed:  3.0min\n",
      "[Parallel(n_jobs=-1)]: Done 4125 tasks      | elapsed:  3.1min\n",
      "[Parallel(n_jobs=-1)]: Done 4216 tasks      | elapsed:  3.2min\n",
      "[Parallel(n_jobs=-1)]: Done 4309 tasks      | elapsed:  3.2min\n",
      "[Parallel(n_jobs=-1)]: Done 4402 tasks      | elapsed:  3.3min\n",
      "[Parallel(n_jobs=-1)]: Done 4497 tasks      | elapsed:  3.4min\n",
      "[Parallel(n_jobs=-1)]: Done 4592 tasks      | elapsed:  3.5min\n",
      "[Parallel(n_jobs=-1)]: Done 4689 tasks      | elapsed:  3.5min\n",
      "[Parallel(n_jobs=-1)]: Done 4786 tasks      | elapsed:  3.6min\n",
      "[Parallel(n_jobs=-1)]: Done 4885 tasks      | elapsed:  3.7min\n",
      "[Parallel(n_jobs=-1)]: Done 4984 tasks      | elapsed:  3.8min\n",
      "[Parallel(n_jobs=-1)]: Done 5085 tasks      | elapsed:  3.8min\n",
      "[Parallel(n_jobs=-1)]: Done 5186 tasks      | elapsed:  3.9min\n",
      "[Parallel(n_jobs=-1)]: Done 5289 tasks      | elapsed:  4.0min\n",
      "[Parallel(n_jobs=-1)]: Done 5392 tasks      | elapsed:  4.1min\n",
      "[Parallel(n_jobs=-1)]: Done 5497 tasks      | elapsed:  4.1min\n",
      "[Parallel(n_jobs=-1)]: Done 5602 tasks      | elapsed:  4.2min\n",
      "[Parallel(n_jobs=-1)]: Done 5709 tasks      | elapsed:  4.3min\n",
      "[Parallel(n_jobs=-1)]: Done 5816 tasks      | elapsed:  4.4min\n",
      "[Parallel(n_jobs=-1)]: Done 5925 tasks      | elapsed:  4.5min\n",
      "[Parallel(n_jobs=-1)]: Done 6034 tasks      | elapsed:  4.6min\n",
      "[Parallel(n_jobs=-1)]: Done 6145 tasks      | elapsed:  4.6min\n",
      "[Parallel(n_jobs=-1)]: Done 6256 tasks      | elapsed:  4.7min\n",
      "[Parallel(n_jobs=-1)]: Done 6369 tasks      | elapsed:  4.8min\n",
      "[Parallel(n_jobs=-1)]: Done 6480 out of 6480 | elapsed:  4.9min finished\n",
      "/anaconda3/lib/python3.7/site-packages/xgboost/core.py:587: FutureWarning: Series.base is deprecated and will be removed in a future version\n",
      "  if getattr(data, 'base', None) is not None and \\\n",
      "/anaconda3/lib/python3.7/site-packages/xgboost/core.py:588: FutureWarning: Series.base is deprecated and will be removed in a future version\n",
      "  data.base is not None and isinstance(data, np.ndarray) \\\n"
     ]
    },
    {
     "data": {
      "text/plain": [
       "GridSearchCV(cv=3, error_score='raise-deprecating',\n",
       "       estimator=XGBRegressor(base_score=0.5, booster='gbtree', colsample_bylevel=1,\n",
       "       colsample_bytree=1, gamma=0, importance_type='gain',\n",
       "       learning_rate=0.1, max_delta_step=0, max_depth=3,\n",
       "       min_child_weight=1, missing=None, n_estimators=100, n_jobs=1,\n",
       "       nthread=None, objective='reg:linear', random_state=0, reg_alpha=0,\n",
       "       reg_lambda=1, scale_pos_weight=1, seed=None, silent=True,\n",
       "       subsample=1),\n",
       "       fit_params=None, iid='warn', n_jobs=-1,\n",
       "       param_grid={'learning_rate': [0.01, 0.03, 0.06, 0.09], 'n_estimators': [70, 75, 80, 85, 90], 'max_depth': [2, 3, 4], 'subsample': [0.7, 0.8, 0.9], 'colsample_bytree': [0.2, 0.3, 0.4], 'gamma': [3, 4, 5, 6]},\n",
       "       pre_dispatch='2*n_jobs', refit=True, return_train_score=True,\n",
       "       scoring=None, verbose=10)"
      ]
     },
     "execution_count": 282,
     "metadata": {},
     "output_type": "execute_result"
    }
   ],
   "source": [
    "gridsearch.fit(X_train, y_train)"
   ]
  },
  {
   "cell_type": "code",
   "execution_count": 283,
   "metadata": {},
   "outputs": [
    {
     "name": "stdout",
     "output_type": "stream",
     "text": [
      "mse: 11.719491803086553\n"
     ]
    }
   ],
   "source": [
    "y_pred = gridsearch.predict(X_val)\n",
    "print('mse:', mean_absolute_error(y_val, y_pred))"
   ]
  },
  {
   "cell_type": "markdown",
   "metadata": {},
   "source": [
    "### Since we have CGM data from 2019-01-14 thru 2019-04-13, we can take the pump data from this date range as well"
   ]
  },
  {
   "cell_type": "markdown",
   "metadata": {},
   "source": [
    "## Pump data"
   ]
  },
  {
   "cell_type": "code",
   "execution_count": 103,
   "metadata": {},
   "outputs": [
    {
     "name": "stdout",
     "output_type": "stream",
     "text": [
      "(4507, 7)\n"
     ]
    },
    {
     "data": {
      "text/html": [
       "<div>\n",
       "<style scoped>\n",
       "    .dataframe tbody tr th:only-of-type {\n",
       "        vertical-align: middle;\n",
       "    }\n",
       "\n",
       "    .dataframe tbody tr th {\n",
       "        vertical-align: top;\n",
       "    }\n",
       "\n",
       "    .dataframe thead th {\n",
       "        text-align: right;\n",
       "    }\n",
       "</style>\n",
       "<table border=\"1\" class=\"dataframe\">\n",
       "  <thead>\n",
       "    <tr style=\"text-align: right;\">\n",
       "      <th></th>\n",
       "      <th>Datetime</th>\n",
       "      <th>Type</th>\n",
       "      <th>Value</th>\n",
       "      <th>Unit</th>\n",
       "      <th>Description</th>\n",
       "      <th>Other Info</th>\n",
       "      <th>Comment</th>\n",
       "    </tr>\n",
       "  </thead>\n",
       "  <tbody>\n",
       "    <tr>\n",
       "      <th>0</th>\n",
       "      <td>2018-08-19 00:00:00</td>\n",
       "      <td>Insulin Summary</td>\n",
       "      <td>12.6</td>\n",
       "      <td>units</td>\n",
       "      <td>End of Day Basal Total</td>\n",
       "      <td>Basal</td>\n",
       "      <td>NaN</td>\n",
       "    </tr>\n",
       "    <tr>\n",
       "      <th>1</th>\n",
       "      <td>2018-08-19 00:00:00</td>\n",
       "      <td>Insulin Summary</td>\n",
       "      <td>16.7</td>\n",
       "      <td>units</td>\n",
       "      <td>Bolus-End of Day General Bolus Total</td>\n",
       "      <td>Bolus</td>\n",
       "      <td>NaN</td>\n",
       "    </tr>\n",
       "    <tr>\n",
       "      <th>2</th>\n",
       "      <td>2018-08-19 10:28:00</td>\n",
       "      <td>Basal Insulin</td>\n",
       "      <td>1.3</td>\n",
       "      <td>units</td>\n",
       "      <td>Pod activated.Basal rate set to 1.30 units/hour.</td>\n",
       "      <td>Basal</td>\n",
       "      <td>Pod activated.Basal rate set to 1.30 units/hour.</td>\n",
       "    </tr>\n",
       "    <tr>\n",
       "      <th>3</th>\n",
       "      <td>2018-08-19 10:30:00</td>\n",
       "      <td>Basal Insulin</td>\n",
       "      <td>1.0</td>\n",
       "      <td>units</td>\n",
       "      <td>Basal rate set to 1.00 units/hour.</td>\n",
       "      <td>Basal</td>\n",
       "      <td>Basal rate set to 1.00 units/hour.</td>\n",
       "    </tr>\n",
       "    <tr>\n",
       "      <th>4</th>\n",
       "      <td>2018-08-19 10:44:00</td>\n",
       "      <td>Bolus Insulin</td>\n",
       "      <td>2.0</td>\n",
       "      <td>units</td>\n",
       "      <td>Bolus-General Bolus.</td>\n",
       "      <td>Bolus</td>\n",
       "      <td>Suggested Bolus: ; Programmed Meal: ; Programm...</td>\n",
       "    </tr>\n",
       "  </tbody>\n",
       "</table>\n",
       "</div>"
      ],
      "text/plain": [
       "             Datetime             Type  Value   Unit  \\\n",
       "0 2018-08-19 00:00:00  Insulin Summary   12.6  units   \n",
       "1 2018-08-19 00:00:00  Insulin Summary   16.7  units   \n",
       "2 2018-08-19 10:28:00    Basal Insulin    1.3  units   \n",
       "3 2018-08-19 10:30:00    Basal Insulin    1.0  units   \n",
       "4 2018-08-19 10:44:00    Bolus Insulin    2.0  units   \n",
       "\n",
       "                                        Description Other Info  \\\n",
       "0                            End of Day Basal Total      Basal   \n",
       "1              Bolus-End of Day General Bolus Total      Bolus   \n",
       "2  Pod activated.Basal rate set to 1.30 units/hour.      Basal   \n",
       "3                Basal rate set to 1.00 units/hour.      Basal   \n",
       "4                              Bolus-General Bolus.      Bolus   \n",
       "\n",
       "                                             Comment  \n",
       "0                                                NaN  \n",
       "1                                                NaN  \n",
       "2   Pod activated.Basal rate set to 1.30 units/hour.  \n",
       "3                 Basal rate set to 1.00 units/hour.  \n",
       "4  Suggested Bolus: ; Programmed Meal: ; Programm...  "
      ]
     },
     "execution_count": 103,
     "metadata": {},
     "output_type": "execute_result"
    }
   ],
   "source": [
    "pump = load_so_pump_clean()\n",
    "print(pump.shape)\n",
    "pump.head()"
   ]
  },
  {
   "cell_type": "code",
   "execution_count": 104,
   "metadata": {},
   "outputs": [
    {
     "data": {
      "text/plain": [
       "(Timestamp('2018-08-19 00:00:00'), Timestamp('2019-04-12 20:18:00'))"
      ]
     },
     "execution_count": 104,
     "metadata": {},
     "output_type": "execute_result"
    }
   ],
   "source": [
    "pump.Datetime.min(), pump.Datetime.max()"
   ]
  },
  {
   "cell_type": "code",
   "execution_count": 105,
   "metadata": {},
   "outputs": [
    {
     "data": {
      "text/plain": [
       "Bolus Insulin      2129\n",
       "Basal Insulin      1191\n",
       "Insulin Summary     521\n",
       "Glucose             494\n",
       "Pump Alarm          152\n",
       "Notes                20\n",
       "Name: Type, dtype: int64"
      ]
     },
     "execution_count": 105,
     "metadata": {},
     "output_type": "execute_result"
    }
   ],
   "source": [
    "pump.Type.value_counts()"
   ]
  },
  {
   "cell_type": "code",
   "execution_count": 106,
   "metadata": {},
   "outputs": [
    {
     "data": {
      "text/html": [
       "<div>\n",
       "<style scoped>\n",
       "    .dataframe tbody tr th:only-of-type {\n",
       "        vertical-align: middle;\n",
       "    }\n",
       "\n",
       "    .dataframe tbody tr th {\n",
       "        vertical-align: top;\n",
       "    }\n",
       "\n",
       "    .dataframe thead th {\n",
       "        text-align: right;\n",
       "    }\n",
       "</style>\n",
       "<table border=\"1\" class=\"dataframe\">\n",
       "  <thead>\n",
       "    <tr style=\"text-align: right;\">\n",
       "      <th></th>\n",
       "      <th>Datetime</th>\n",
       "      <th>Type</th>\n",
       "      <th>Value</th>\n",
       "      <th>Unit</th>\n",
       "      <th>Description</th>\n",
       "      <th>Other Info</th>\n",
       "      <th>Comment</th>\n",
       "    </tr>\n",
       "  </thead>\n",
       "  <tbody>\n",
       "    <tr>\n",
       "      <th>4</th>\n",
       "      <td>2018-08-19 10:44:00</td>\n",
       "      <td>Bolus Insulin</td>\n",
       "      <td>2.0</td>\n",
       "      <td>units</td>\n",
       "      <td>Bolus-General Bolus.</td>\n",
       "      <td>Bolus</td>\n",
       "      <td>Suggested Bolus: ; Programmed Meal: ; Programm...</td>\n",
       "    </tr>\n",
       "    <tr>\n",
       "      <th>5</th>\n",
       "      <td>2018-08-19 13:02:00</td>\n",
       "      <td>Bolus Insulin</td>\n",
       "      <td>1.2</td>\n",
       "      <td>units</td>\n",
       "      <td>Bolus-General Bolus.</td>\n",
       "      <td>Bolus</td>\n",
       "      <td>Suggested Bolus: ; Programmed Meal: ; Programm...</td>\n",
       "    </tr>\n",
       "    <tr>\n",
       "      <th>7</th>\n",
       "      <td>2018-08-19 15:57:00</td>\n",
       "      <td>Bolus Insulin</td>\n",
       "      <td>2.5</td>\n",
       "      <td>units</td>\n",
       "      <td>Bolus-General Bolus.</td>\n",
       "      <td>Bolus</td>\n",
       "      <td>Suggested Bolus: ; Programmed Meal: ; Programm...</td>\n",
       "    </tr>\n",
       "    <tr>\n",
       "      <th>8</th>\n",
       "      <td>2018-08-19 16:48:00</td>\n",
       "      <td>Bolus Insulin</td>\n",
       "      <td>2.5</td>\n",
       "      <td>units</td>\n",
       "      <td>Bolus-General Bolus.</td>\n",
       "      <td>Bolus</td>\n",
       "      <td>Suggested Bolus: ; Programmed Meal: ; Programm...</td>\n",
       "    </tr>\n",
       "    <tr>\n",
       "      <th>9</th>\n",
       "      <td>2018-08-19 17:45:00</td>\n",
       "      <td>Bolus Insulin</td>\n",
       "      <td>3.0</td>\n",
       "      <td>units</td>\n",
       "      <td>Bolus-General Bolus.</td>\n",
       "      <td>Bolus</td>\n",
       "      <td>Suggested Bolus: ; Programmed Meal: ; Programm...</td>\n",
       "    </tr>\n",
       "  </tbody>\n",
       "</table>\n",
       "</div>"
      ],
      "text/plain": [
       "             Datetime           Type  Value   Unit           Description  \\\n",
       "4 2018-08-19 10:44:00  Bolus Insulin    2.0  units  Bolus-General Bolus.   \n",
       "5 2018-08-19 13:02:00  Bolus Insulin    1.2  units  Bolus-General Bolus.   \n",
       "7 2018-08-19 15:57:00  Bolus Insulin    2.5  units  Bolus-General Bolus.   \n",
       "8 2018-08-19 16:48:00  Bolus Insulin    2.5  units  Bolus-General Bolus.   \n",
       "9 2018-08-19 17:45:00  Bolus Insulin    3.0  units  Bolus-General Bolus.   \n",
       "\n",
       "  Other Info                                            Comment  \n",
       "4      Bolus  Suggested Bolus: ; Programmed Meal: ; Programm...  \n",
       "5      Bolus  Suggested Bolus: ; Programmed Meal: ; Programm...  \n",
       "7      Bolus  Suggested Bolus: ; Programmed Meal: ; Programm...  \n",
       "8      Bolus  Suggested Bolus: ; Programmed Meal: ; Programm...  \n",
       "9      Bolus  Suggested Bolus: ; Programmed Meal: ; Programm...  "
      ]
     },
     "execution_count": 106,
     "metadata": {},
     "output_type": "execute_result"
    }
   ],
   "source": [
    "pump[pump.Type == 'Bolus Insulin'][:5]"
   ]
  },
  {
   "cell_type": "code",
   "execution_count": 107,
   "metadata": {},
   "outputs": [
    {
     "data": {
      "text/html": [
       "<div>\n",
       "<style scoped>\n",
       "    .dataframe tbody tr th:only-of-type {\n",
       "        vertical-align: middle;\n",
       "    }\n",
       "\n",
       "    .dataframe tbody tr th {\n",
       "        vertical-align: top;\n",
       "    }\n",
       "\n",
       "    .dataframe thead th {\n",
       "        text-align: right;\n",
       "    }\n",
       "</style>\n",
       "<table border=\"1\" class=\"dataframe\">\n",
       "  <thead>\n",
       "    <tr style=\"text-align: right;\">\n",
       "      <th></th>\n",
       "      <th>Datetime</th>\n",
       "      <th>Type</th>\n",
       "      <th>Value</th>\n",
       "      <th>Unit</th>\n",
       "      <th>Description</th>\n",
       "      <th>Other Info</th>\n",
       "      <th>Comment</th>\n",
       "    </tr>\n",
       "  </thead>\n",
       "  <tbody>\n",
       "    <tr>\n",
       "      <th>2</th>\n",
       "      <td>2018-08-19 10:28:00</td>\n",
       "      <td>Basal Insulin</td>\n",
       "      <td>1.3</td>\n",
       "      <td>units</td>\n",
       "      <td>Pod activated.Basal rate set to 1.30 units/hour.</td>\n",
       "      <td>Basal</td>\n",
       "      <td>Pod activated.Basal rate set to 1.30 units/hour.</td>\n",
       "    </tr>\n",
       "    <tr>\n",
       "      <th>3</th>\n",
       "      <td>2018-08-19 10:30:00</td>\n",
       "      <td>Basal Insulin</td>\n",
       "      <td>1.0</td>\n",
       "      <td>units</td>\n",
       "      <td>Basal rate set to 1.00 units/hour.</td>\n",
       "      <td>Basal</td>\n",
       "      <td>Basal rate set to 1.00 units/hour.</td>\n",
       "    </tr>\n",
       "    <tr>\n",
       "      <th>10</th>\n",
       "      <td>2018-08-19 18:27:00</td>\n",
       "      <td>Basal Insulin</td>\n",
       "      <td>0.0</td>\n",
       "      <td>units</td>\n",
       "      <td>Basal suspended.Basal rate set to 0.00 units/h...</td>\n",
       "      <td>Basal</td>\n",
       "      <td>Basal suspended.Basal rate set to 0.00 units/h...</td>\n",
       "    </tr>\n",
       "    <tr>\n",
       "      <th>12</th>\n",
       "      <td>2018-08-19 18:59:00</td>\n",
       "      <td>Basal Insulin</td>\n",
       "      <td>1.0</td>\n",
       "      <td>units</td>\n",
       "      <td>Basal resumed.Basal rate set to 1.00 units/hour.</td>\n",
       "      <td>Basal</td>\n",
       "      <td>Basal resumed.Basal rate set to 1.00 units/hour.</td>\n",
       "    </tr>\n",
       "    <tr>\n",
       "      <th>15</th>\n",
       "      <td>2018-08-19 22:49:00</td>\n",
       "      <td>Basal Insulin</td>\n",
       "      <td>0.0</td>\n",
       "      <td>units</td>\n",
       "      <td>Basal suspended.Basal rate set to 0.00 units/h...</td>\n",
       "      <td>Basal</td>\n",
       "      <td>Basal suspended.Basal rate set to 0.00 units/h...</td>\n",
       "    </tr>\n",
       "  </tbody>\n",
       "</table>\n",
       "</div>"
      ],
      "text/plain": [
       "              Datetime           Type  Value   Unit  \\\n",
       "2  2018-08-19 10:28:00  Basal Insulin    1.3  units   \n",
       "3  2018-08-19 10:30:00  Basal Insulin    1.0  units   \n",
       "10 2018-08-19 18:27:00  Basal Insulin    0.0  units   \n",
       "12 2018-08-19 18:59:00  Basal Insulin    1.0  units   \n",
       "15 2018-08-19 22:49:00  Basal Insulin    0.0  units   \n",
       "\n",
       "                                          Description Other Info  \\\n",
       "2    Pod activated.Basal rate set to 1.30 units/hour.      Basal   \n",
       "3                  Basal rate set to 1.00 units/hour.      Basal   \n",
       "10  Basal suspended.Basal rate set to 0.00 units/h...      Basal   \n",
       "12   Basal resumed.Basal rate set to 1.00 units/hour.      Basal   \n",
       "15  Basal suspended.Basal rate set to 0.00 units/h...      Basal   \n",
       "\n",
       "                                              Comment  \n",
       "2    Pod activated.Basal rate set to 1.30 units/hour.  \n",
       "3                  Basal rate set to 1.00 units/hour.  \n",
       "10  Basal suspended.Basal rate set to 0.00 units/h...  \n",
       "12   Basal resumed.Basal rate set to 1.00 units/hour.  \n",
       "15  Basal suspended.Basal rate set to 0.00 units/h...  "
      ]
     },
     "execution_count": 107,
     "metadata": {},
     "output_type": "execute_result"
    }
   ],
   "source": [
    "pump[pump.Type == 'Basal Insulin'][:5]"
   ]
  },
  {
   "cell_type": "code",
   "execution_count": 108,
   "metadata": {},
   "outputs": [
    {
     "data": {
      "text/html": [
       "<div>\n",
       "<style scoped>\n",
       "    .dataframe tbody tr th:only-of-type {\n",
       "        vertical-align: middle;\n",
       "    }\n",
       "\n",
       "    .dataframe tbody tr th {\n",
       "        vertical-align: top;\n",
       "    }\n",
       "\n",
       "    .dataframe thead th {\n",
       "        text-align: right;\n",
       "    }\n",
       "</style>\n",
       "<table border=\"1\" class=\"dataframe\">\n",
       "  <thead>\n",
       "    <tr style=\"text-align: right;\">\n",
       "      <th></th>\n",
       "      <th>Datetime</th>\n",
       "      <th>Type</th>\n",
       "      <th>Value</th>\n",
       "      <th>Unit</th>\n",
       "      <th>Description</th>\n",
       "      <th>Other Info</th>\n",
       "      <th>Comment</th>\n",
       "    </tr>\n",
       "  </thead>\n",
       "  <tbody>\n",
       "    <tr>\n",
       "      <th>0</th>\n",
       "      <td>2018-08-19</td>\n",
       "      <td>Insulin Summary</td>\n",
       "      <td>12.60</td>\n",
       "      <td>units</td>\n",
       "      <td>End of Day Basal Total</td>\n",
       "      <td>Basal</td>\n",
       "      <td>NaN</td>\n",
       "    </tr>\n",
       "    <tr>\n",
       "      <th>1</th>\n",
       "      <td>2018-08-19</td>\n",
       "      <td>Insulin Summary</td>\n",
       "      <td>16.70</td>\n",
       "      <td>units</td>\n",
       "      <td>Bolus-End of Day General Bolus Total</td>\n",
       "      <td>Bolus</td>\n",
       "      <td>NaN</td>\n",
       "    </tr>\n",
       "    <tr>\n",
       "      <th>17</th>\n",
       "      <td>2018-08-20</td>\n",
       "      <td>Insulin Summary</td>\n",
       "      <td>12.50</td>\n",
       "      <td>units</td>\n",
       "      <td>Bolus-End of Day General Bolus Total</td>\n",
       "      <td>Bolus</td>\n",
       "      <td>NaN</td>\n",
       "    </tr>\n",
       "    <tr>\n",
       "      <th>18</th>\n",
       "      <td>2018-08-20</td>\n",
       "      <td>Insulin Summary</td>\n",
       "      <td>20.15</td>\n",
       "      <td>units</td>\n",
       "      <td>End of Day Basal Total</td>\n",
       "      <td>Basal</td>\n",
       "      <td>NaN</td>\n",
       "    </tr>\n",
       "    <tr>\n",
       "      <th>34</th>\n",
       "      <td>2018-08-21</td>\n",
       "      <td>Insulin Summary</td>\n",
       "      <td>22.10</td>\n",
       "      <td>units</td>\n",
       "      <td>End of Day Basal Total</td>\n",
       "      <td>Basal</td>\n",
       "      <td>NaN</td>\n",
       "    </tr>\n",
       "  </tbody>\n",
       "</table>\n",
       "</div>"
      ],
      "text/plain": [
       "     Datetime             Type  Value   Unit  \\\n",
       "0  2018-08-19  Insulin Summary  12.60  units   \n",
       "1  2018-08-19  Insulin Summary  16.70  units   \n",
       "17 2018-08-20  Insulin Summary  12.50  units   \n",
       "18 2018-08-20  Insulin Summary  20.15  units   \n",
       "34 2018-08-21  Insulin Summary  22.10  units   \n",
       "\n",
       "                             Description Other Info Comment  \n",
       "0                 End of Day Basal Total      Basal     NaN  \n",
       "1   Bolus-End of Day General Bolus Total      Bolus     NaN  \n",
       "17  Bolus-End of Day General Bolus Total      Bolus     NaN  \n",
       "18                End of Day Basal Total      Basal     NaN  \n",
       "34                End of Day Basal Total      Basal     NaN  "
      ]
     },
     "execution_count": 108,
     "metadata": {},
     "output_type": "execute_result"
    }
   ],
   "source": [
    "pump[pump.Type == 'Insulin Summary'][:5]"
   ]
  },
  {
   "cell_type": "code",
   "execution_count": 109,
   "metadata": {},
   "outputs": [
    {
     "data": {
      "text/html": [
       "<div>\n",
       "<style scoped>\n",
       "    .dataframe tbody tr th:only-of-type {\n",
       "        vertical-align: middle;\n",
       "    }\n",
       "\n",
       "    .dataframe tbody tr th {\n",
       "        vertical-align: top;\n",
       "    }\n",
       "\n",
       "    .dataframe thead th {\n",
       "        text-align: right;\n",
       "    }\n",
       "</style>\n",
       "<table border=\"1\" class=\"dataframe\">\n",
       "  <thead>\n",
       "    <tr style=\"text-align: right;\">\n",
       "      <th></th>\n",
       "      <th>Datetime</th>\n",
       "      <th>Type</th>\n",
       "      <th>Value</th>\n",
       "      <th>Unit</th>\n",
       "      <th>Description</th>\n",
       "      <th>Other Info</th>\n",
       "      <th>Comment</th>\n",
       "    </tr>\n",
       "  </thead>\n",
       "  <tbody>\n",
       "    <tr>\n",
       "      <th>6</th>\n",
       "      <td>2018-08-19 14:36:00</td>\n",
       "      <td>Glucose</td>\n",
       "      <td>5.6</td>\n",
       "      <td>mmol/L</td>\n",
       "      <td>NaN</td>\n",
       "      <td>NaN</td>\n",
       "      <td>NaN</td>\n",
       "    </tr>\n",
       "    <tr>\n",
       "      <th>40</th>\n",
       "      <td>2018-08-21 10:49:00</td>\n",
       "      <td>Glucose</td>\n",
       "      <td>4.9</td>\n",
       "      <td>mmol/L</td>\n",
       "      <td>NaN</td>\n",
       "      <td>NaN</td>\n",
       "      <td>NaN</td>\n",
       "    </tr>\n",
       "    <tr>\n",
       "      <th>65</th>\n",
       "      <td>2018-08-22 14:05:00</td>\n",
       "      <td>Glucose</td>\n",
       "      <td>9.0</td>\n",
       "      <td>mmol/L</td>\n",
       "      <td>NaN</td>\n",
       "      <td>NaN</td>\n",
       "      <td>NaN</td>\n",
       "    </tr>\n",
       "    <tr>\n",
       "      <th>95</th>\n",
       "      <td>2018-08-24 20:26:00</td>\n",
       "      <td>Glucose</td>\n",
       "      <td>5.3</td>\n",
       "      <td>mmol/L</td>\n",
       "      <td>NaN</td>\n",
       "      <td>NaN</td>\n",
       "      <td>NaN</td>\n",
       "    </tr>\n",
       "    <tr>\n",
       "      <th>109</th>\n",
       "      <td>2018-08-25 12:18:00</td>\n",
       "      <td>Glucose</td>\n",
       "      <td>8.9</td>\n",
       "      <td>mmol/L</td>\n",
       "      <td>NaN</td>\n",
       "      <td>NaN</td>\n",
       "      <td>NaN</td>\n",
       "    </tr>\n",
       "  </tbody>\n",
       "</table>\n",
       "</div>"
      ],
      "text/plain": [
       "               Datetime     Type  Value    Unit Description Other Info Comment\n",
       "6   2018-08-19 14:36:00  Glucose    5.6  mmol/L         NaN        NaN     NaN\n",
       "40  2018-08-21 10:49:00  Glucose    4.9  mmol/L         NaN        NaN     NaN\n",
       "65  2018-08-22 14:05:00  Glucose    9.0  mmol/L         NaN        NaN     NaN\n",
       "95  2018-08-24 20:26:00  Glucose    5.3  mmol/L         NaN        NaN     NaN\n",
       "109 2018-08-25 12:18:00  Glucose    8.9  mmol/L         NaN        NaN     NaN"
      ]
     },
     "execution_count": 109,
     "metadata": {},
     "output_type": "execute_result"
    }
   ],
   "source": [
    "pump[pump.Type == 'Glucose'][:5]"
   ]
  },
  {
   "cell_type": "code",
   "execution_count": 110,
   "metadata": {},
   "outputs": [
    {
     "data": {
      "text/plain": [
       "array(['OmniPod Alarm: Suspend end advisory alarm',\n",
       "       'OmniPod Alarm: Pod expiration advisory alarm',\n",
       "       'OmniPod Alarm: Low reservoir advisory alarm',\n",
       "       'OmniPod Alarm: Pod expired hazard alarm',\n",
       "       'OmniPod Alarm: Clock reset alarm', 'OmniPod Alarm: Pod alarm',\n",
       "       'OmniPod Alarm: Last Pod status hazard alarm'], dtype=object)"
      ]
     },
     "execution_count": 110,
     "metadata": {},
     "output_type": "execute_result"
    }
   ],
   "source": [
    "pump[pump.Type == 'Pump Alarm'].Description.unique()"
   ]
  },
  {
   "cell_type": "code",
   "execution_count": 111,
   "metadata": {},
   "outputs": [
    {
     "data": {
      "text/plain": [
       "array(['Date changed to: 10/21/2018', 'Time changed to: 15:05',\n",
       "       'Time changed to: 19:00', 'Basal rate set to 1.00 units/hour.',\n",
       "       'General Bolus.Delivered: 1.00.', 'General Bolus.Delivered: 1.50.',\n",
       "       'Pod deactivated.Basal rate set to 0.00 units/hour.',\n",
       "       'Pod activated.Basal rate set to 1.00 units/hour.',\n",
       "       'General Bolus.Delivered: 2.10.', 'General Bolus.Delivered: 1.10.',\n",
       "       'General Bolus.Delivered: 3.00.', 'General Bolus.Delivered: 2.50.',\n",
       "       'General Bolus.Delivered: 3.60.', 'General Bolus.Delivered: 1.60.',\n",
       "       'General Bolus.Delivered: 5.60.',\n",
       "       'Temporary basal rate set to 0.75 units/hour.Temp percent change: -25%.',\n",
       "       'Time changed to: 22:14'], dtype=object)"
      ]
     },
     "execution_count": 111,
     "metadata": {},
     "output_type": "execute_result"
    }
   ],
   "source": [
    "pump[pump.Type == 'Notes'].Description.unique()"
   ]
  },
  {
   "cell_type": "markdown",
   "metadata": {},
   "source": [
    "### Use Bolus/Basal Insulin rows, and use data only after 10/21/2018 or before - never across. There was a date/time change on the pump on that day"
   ]
  },
  {
   "cell_type": "markdown",
   "metadata": {},
   "source": [
    "## Data Cleaning"
   ]
  },
  {
   "cell_type": "code",
   "execution_count": null,
   "metadata": {},
   "outputs": [],
   "source": []
  },
  {
   "cell_type": "code",
   "execution_count": null,
   "metadata": {},
   "outputs": [],
   "source": []
  },
  {
   "cell_type": "code",
   "execution_count": null,
   "metadata": {},
   "outputs": [],
   "source": []
  },
  {
   "cell_type": "code",
   "execution_count": null,
   "metadata": {},
   "outputs": [],
   "source": []
  },
  {
   "cell_type": "code",
   "execution_count": 112,
   "metadata": {},
   "outputs": [
    {
     "ename": "NameError",
     "evalue": "name 'train_test_split' is not defined",
     "output_type": "error",
     "traceback": [
      "\u001b[0;31m---------------------------------------------------------------------------\u001b[0m",
      "\u001b[0;31mNameError\u001b[0m                                 Traceback (most recent call last)",
      "\u001b[0;32m<ipython-input-112-9a6d56e66699>\u001b[0m in \u001b[0;36m<module>\u001b[0;34m\u001b[0m\n\u001b[1;32m      1\u001b[0m \u001b[0mX_train\u001b[0m\u001b[0;34m,\u001b[0m \u001b[0mX_val\u001b[0m\u001b[0;34m,\u001b[0m \u001b[0my_train\u001b[0m\u001b[0;34m,\u001b[0m \u001b[0my_val\u001b[0m \u001b[0;34m=\u001b[0m\u001b[0;31m \u001b[0m\u001b[0;31m\\\u001b[0m\u001b[0;34m\u001b[0m\u001b[0;34m\u001b[0m\u001b[0m\n\u001b[0;32m----> 2\u001b[0;31m     train_test_split(df_train.drop(['Fail'], axis=1), \n\u001b[0m\u001b[1;32m      3\u001b[0m                      \u001b[0mdf_train\u001b[0m\u001b[0;34m[\u001b[0m\u001b[0;34m'Fail'\u001b[0m\u001b[0;34m]\u001b[0m\u001b[0;34m,\u001b[0m\u001b[0;34m\u001b[0m\u001b[0;34m\u001b[0m\u001b[0m\n\u001b[1;32m      4\u001b[0m                      test_size=0.2)\n\u001b[1;32m      5\u001b[0m \u001b[0mX_train\u001b[0m\u001b[0;34m.\u001b[0m\u001b[0mcolumns\u001b[0m\u001b[0;34m.\u001b[0m\u001b[0mvalues\u001b[0m\u001b[0;34m\u001b[0m\u001b[0;34m\u001b[0m\u001b[0m\n",
      "\u001b[0;31mNameError\u001b[0m: name 'train_test_split' is not defined"
     ]
    }
   ],
   "source": []
  },
  {
   "cell_type": "code",
   "execution_count": null,
   "metadata": {},
   "outputs": [],
   "source": []
  }
 ],
 "metadata": {
  "kernelspec": {
   "display_name": "Python 3",
   "language": "python",
   "name": "python3"
  },
  "language_info": {
   "codemirror_mode": {
    "name": "ipython",
    "version": 3
   },
   "file_extension": ".py",
   "mimetype": "text/x-python",
   "name": "python",
   "nbconvert_exporter": "python",
   "pygments_lexer": "ipython3",
   "version": "3.7.1"
  }
 },
 "nbformat": 4,
 "nbformat_minor": 2
}
